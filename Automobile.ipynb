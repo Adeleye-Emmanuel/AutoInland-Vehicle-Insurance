{
 "cells": [
  {
   "cell_type": "code",
   "execution_count": 1,
   "id": "positive-hacker",
   "metadata": {},
   "outputs": [],
   "source": [
    "import numpy as np\n",
    "import pandas as pd\n",
    "import datetime\n",
    "import matplotlib.pyplot as plt\n",
    "import seaborn as sns\n",
    "%matplotlib inline\n",
    "from sklearn.impute import SimpleImputer\n",
    "from sklearn.pipeline import Pipeline\n",
    "from sklearn.model_selection import train_test_split,cross_val_score,GridSearchCV,RandomizedSearchCV,StratifiedKFold\n",
    "from sklearn.preprocessing import StandardScaler,MinMaxScaler\n",
    "from sklearn.linear_model import LogisticRegression\n",
    "from sklearn.svm import SVC\n",
    "from sklearn.neural_network import MLPClassifier\n",
    "from sklearn.tree import DecisionTreeClassifier\n",
    "from sklearn.ensemble import RandomForestClassifier,GradientBoostingClassifier,AdaBoostClassifier\n",
    "from sklearn.metrics import confusion_matrix, roc_auc_score,average_precision_score,classification_report\n",
    "import warnings\n",
    "warnings.filterwarnings('ignore')"
   ]
  },
  {
   "cell_type": "code",
   "execution_count": 2,
   "id": "cheap-unemployment",
   "metadata": {},
   "outputs": [],
   "source": [
    "train=pd.read_csv('/storage/emulated/0/Download/Automobile ML/Train.csv',index_col=False)\n",
    "test=pd.read_csv('/storage/emulated/0/Download/Automobile ML/Test.csv',index_col=False)\n",
    "test_id=test['ID']"
   ]
  },
  {
   "cell_type": "code",
   "execution_count": 3,
   "id": "alpha-sequence",
   "metadata": {
    "scrolled": true
   },
   "outputs": [
    {
     "data": {
      "text/html": [
       "<div>\n",
       "<style scoped>\n",
       "    .dataframe tbody tr th:only-of-type {\n",
       "        vertical-align: middle;\n",
       "    }\n",
       "\n",
       "    .dataframe tbody tr th {\n",
       "        vertical-align: top;\n",
       "    }\n",
       "\n",
       "    .dataframe thead th {\n",
       "        text-align: right;\n",
       "    }\n",
       "</style>\n",
       "<table border=\"1\" class=\"dataframe\">\n",
       "  <thead>\n",
       "    <tr style=\"text-align: right;\">\n",
       "      <th></th>\n",
       "      <th>ID</th>\n",
       "      <th>Policy Start Date</th>\n",
       "      <th>Policy End Date</th>\n",
       "      <th>Gender</th>\n",
       "      <th>Age</th>\n",
       "      <th>First Transaction Date</th>\n",
       "      <th>No_Pol</th>\n",
       "      <th>Car_Category</th>\n",
       "      <th>Subject_Car_Colour</th>\n",
       "      <th>Subject_Car_Make</th>\n",
       "      <th>LGA_Name</th>\n",
       "      <th>State</th>\n",
       "      <th>ProductName</th>\n",
       "      <th>target</th>\n",
       "    </tr>\n",
       "  </thead>\n",
       "  <tbody>\n",
       "    <tr>\n",
       "      <th>0</th>\n",
       "      <td>ID_0040R73</td>\n",
       "      <td>2010-05-14</td>\n",
       "      <td>2011-05-13</td>\n",
       "      <td>Male</td>\n",
       "      <td>30</td>\n",
       "      <td>2010-05-14</td>\n",
       "      <td>1</td>\n",
       "      <td>Saloon</td>\n",
       "      <td>Black</td>\n",
       "      <td>TOYOTA</td>\n",
       "      <td>NaN</td>\n",
       "      <td>NaN</td>\n",
       "      <td>Car Classic</td>\n",
       "      <td>0</td>\n",
       "    </tr>\n",
       "    <tr>\n",
       "      <th>1</th>\n",
       "      <td>ID_0046BNK</td>\n",
       "      <td>2010-11-29</td>\n",
       "      <td>2011-11-28</td>\n",
       "      <td>Female</td>\n",
       "      <td>79</td>\n",
       "      <td>2010-11-29</td>\n",
       "      <td>1</td>\n",
       "      <td>JEEP</td>\n",
       "      <td>Grey</td>\n",
       "      <td>TOYOTA</td>\n",
       "      <td>NaN</td>\n",
       "      <td>NaN</td>\n",
       "      <td>Car Classic</td>\n",
       "      <td>1</td>\n",
       "    </tr>\n",
       "    <tr>\n",
       "      <th>2</th>\n",
       "      <td>ID_005QMC3</td>\n",
       "      <td>2010-03-21</td>\n",
       "      <td>2011-03-20</td>\n",
       "      <td>Male</td>\n",
       "      <td>43</td>\n",
       "      <td>2010-03-21</td>\n",
       "      <td>1</td>\n",
       "      <td>Saloon</td>\n",
       "      <td>Red</td>\n",
       "      <td>TOYOTA</td>\n",
       "      <td>NaN</td>\n",
       "      <td>NaN</td>\n",
       "      <td>Car Classic</td>\n",
       "      <td>0</td>\n",
       "    </tr>\n",
       "    <tr>\n",
       "      <th>3</th>\n",
       "      <td>ID_0079OHW</td>\n",
       "      <td>2010-08-21</td>\n",
       "      <td>2011-08-20</td>\n",
       "      <td>Male</td>\n",
       "      <td>2</td>\n",
       "      <td>2010-08-21</td>\n",
       "      <td>1</td>\n",
       "      <td>NaN</td>\n",
       "      <td>NaN</td>\n",
       "      <td>NaN</td>\n",
       "      <td>NaN</td>\n",
       "      <td>NaN</td>\n",
       "      <td>CarSafe</td>\n",
       "      <td>0</td>\n",
       "    </tr>\n",
       "    <tr>\n",
       "      <th>4</th>\n",
       "      <td>ID_00BRP63</td>\n",
       "      <td>2010-08-29</td>\n",
       "      <td>2010-12-31</td>\n",
       "      <td>Entity</td>\n",
       "      <td>20</td>\n",
       "      <td>2010-08-29</td>\n",
       "      <td>3</td>\n",
       "      <td>NaN</td>\n",
       "      <td>NaN</td>\n",
       "      <td>NaN</td>\n",
       "      <td>Lagos</td>\n",
       "      <td>Lagos</td>\n",
       "      <td>Muuve</td>\n",
       "      <td>1</td>\n",
       "    </tr>\n",
       "  </tbody>\n",
       "</table>\n",
       "</div>"
      ],
      "text/plain": [
       "           ID Policy Start Date Policy End Date  Gender  Age  \\\n",
       "0  ID_0040R73        2010-05-14      2011-05-13    Male   30   \n",
       "1  ID_0046BNK        2010-11-29      2011-11-28  Female   79   \n",
       "2  ID_005QMC3        2010-03-21      2011-03-20    Male   43   \n",
       "3  ID_0079OHW        2010-08-21      2011-08-20    Male    2   \n",
       "4  ID_00BRP63        2010-08-29      2010-12-31  Entity   20   \n",
       "\n",
       "  First Transaction Date  No_Pol Car_Category Subject_Car_Colour  \\\n",
       "0             2010-05-14       1       Saloon              Black   \n",
       "1             2010-11-29       1         JEEP               Grey   \n",
       "2             2010-03-21       1       Saloon                Red   \n",
       "3             2010-08-21       1          NaN                NaN   \n",
       "4             2010-08-29       3          NaN                NaN   \n",
       "\n",
       "  Subject_Car_Make LGA_Name  State  ProductName  target  \n",
       "0           TOYOTA      NaN    NaN  Car Classic       0  \n",
       "1           TOYOTA      NaN    NaN  Car Classic       1  \n",
       "2           TOYOTA      NaN    NaN  Car Classic       0  \n",
       "3              NaN      NaN    NaN      CarSafe       0  \n",
       "4              NaN    Lagos  Lagos        Muuve       1  "
      ]
     },
     "execution_count": 3,
     "metadata": {},
     "output_type": "execute_result"
    }
   ],
   "source": [
    "train.head()"
   ]
  },
  {
   "cell_type": "code",
   "execution_count": 4,
   "id": "historical-michael",
   "metadata": {},
   "outputs": [
    {
     "data": {
      "text/html": [
       "<div>\n",
       "<style scoped>\n",
       "    .dataframe tbody tr th:only-of-type {\n",
       "        vertical-align: middle;\n",
       "    }\n",
       "\n",
       "    .dataframe tbody tr th {\n",
       "        vertical-align: top;\n",
       "    }\n",
       "\n",
       "    .dataframe thead th {\n",
       "        text-align: right;\n",
       "    }\n",
       "</style>\n",
       "<table border=\"1\" class=\"dataframe\">\n",
       "  <thead>\n",
       "    <tr style=\"text-align: right;\">\n",
       "      <th></th>\n",
       "      <th>ID</th>\n",
       "      <th>Policy Start Date</th>\n",
       "      <th>Policy End Date</th>\n",
       "      <th>Gender</th>\n",
       "      <th>Age</th>\n",
       "      <th>First Transaction Date</th>\n",
       "      <th>No_Pol</th>\n",
       "      <th>Car_Category</th>\n",
       "      <th>Subject_Car_Colour</th>\n",
       "      <th>Subject_Car_Make</th>\n",
       "      <th>LGA_Name</th>\n",
       "      <th>State</th>\n",
       "      <th>ProductName</th>\n",
       "    </tr>\n",
       "  </thead>\n",
       "  <tbody>\n",
       "    <tr>\n",
       "      <th>0</th>\n",
       "      <td>ID_01QM0NU</td>\n",
       "      <td>2010-10-23</td>\n",
       "      <td>2011-10-22</td>\n",
       "      <td>Female</td>\n",
       "      <td>46</td>\n",
       "      <td>2010-10-23</td>\n",
       "      <td>1</td>\n",
       "      <td>NaN</td>\n",
       "      <td>NaN</td>\n",
       "      <td>Ford</td>\n",
       "      <td>Abuja Municipal</td>\n",
       "      <td>Abuja-Municipal</td>\n",
       "      <td>Car Classic</td>\n",
       "    </tr>\n",
       "    <tr>\n",
       "      <th>1</th>\n",
       "      <td>ID_024NJLZ</td>\n",
       "      <td>2010-10-14</td>\n",
       "      <td>2011-10-13</td>\n",
       "      <td>Male</td>\n",
       "      <td>32</td>\n",
       "      <td>2010-10-14</td>\n",
       "      <td>1</td>\n",
       "      <td>NaN</td>\n",
       "      <td>NaN</td>\n",
       "      <td>NaN</td>\n",
       "      <td>Kosofe</td>\n",
       "      <td>Benue</td>\n",
       "      <td>Car Classic</td>\n",
       "    </tr>\n",
       "    <tr>\n",
       "      <th>2</th>\n",
       "      <td>ID_02NOVWQ</td>\n",
       "      <td>2010-08-29</td>\n",
       "      <td>2011-08-28</td>\n",
       "      <td>Female</td>\n",
       "      <td>45</td>\n",
       "      <td>2010-08-29</td>\n",
       "      <td>2</td>\n",
       "      <td>Saloon</td>\n",
       "      <td>Black</td>\n",
       "      <td>Honda</td>\n",
       "      <td>Wuse 11</td>\n",
       "      <td>Abuja</td>\n",
       "      <td>Car Classic</td>\n",
       "    </tr>\n",
       "    <tr>\n",
       "      <th>3</th>\n",
       "      <td>ID_02VSP68</td>\n",
       "      <td>2010-06-13</td>\n",
       "      <td>2011-06-12</td>\n",
       "      <td>Female</td>\n",
       "      <td>58</td>\n",
       "      <td>2010-06-13</td>\n",
       "      <td>1</td>\n",
       "      <td>Saloon</td>\n",
       "      <td>NaN</td>\n",
       "      <td>TOYOTA</td>\n",
       "      <td>NaN</td>\n",
       "      <td>NaN</td>\n",
       "      <td>CarSafe</td>\n",
       "    </tr>\n",
       "    <tr>\n",
       "      <th>4</th>\n",
       "      <td>ID_02YB37K</td>\n",
       "      <td>2010-07-01</td>\n",
       "      <td>2011-06-30</td>\n",
       "      <td>NaN</td>\n",
       "      <td>120</td>\n",
       "      <td>2010-07-01</td>\n",
       "      <td>1</td>\n",
       "      <td>Saloon</td>\n",
       "      <td>Red</td>\n",
       "      <td>Hyundai</td>\n",
       "      <td>Victoria Island</td>\n",
       "      <td>Lagos</td>\n",
       "      <td>Car Classic</td>\n",
       "    </tr>\n",
       "  </tbody>\n",
       "</table>\n",
       "</div>"
      ],
      "text/plain": [
       "           ID Policy Start Date Policy End Date  Gender  Age  \\\n",
       "0  ID_01QM0NU        2010-10-23      2011-10-22  Female   46   \n",
       "1  ID_024NJLZ        2010-10-14      2011-10-13    Male   32   \n",
       "2  ID_02NOVWQ        2010-08-29      2011-08-28  Female   45   \n",
       "3  ID_02VSP68        2010-06-13      2011-06-12  Female   58   \n",
       "4  ID_02YB37K        2010-07-01      2011-06-30     NaN  120   \n",
       "\n",
       "  First Transaction Date  No_Pol Car_Category Subject_Car_Colour  \\\n",
       "0             2010-10-23       1          NaN                NaN   \n",
       "1             2010-10-14       1          NaN                NaN   \n",
       "2             2010-08-29       2       Saloon              Black   \n",
       "3             2010-06-13       1       Saloon                NaN   \n",
       "4             2010-07-01       1       Saloon                Red   \n",
       "\n",
       "  Subject_Car_Make         LGA_Name            State  ProductName  \n",
       "0             Ford  Abuja Municipal  Abuja-Municipal  Car Classic  \n",
       "1              NaN           Kosofe            Benue  Car Classic  \n",
       "2            Honda          Wuse 11            Abuja  Car Classic  \n",
       "3           TOYOTA              NaN              NaN      CarSafe  \n",
       "4          Hyundai  Victoria Island            Lagos  Car Classic  "
      ]
     },
     "execution_count": 4,
     "metadata": {},
     "output_type": "execute_result"
    }
   ],
   "source": [
    "test.head()"
   ]
  },
  {
   "cell_type": "code",
   "execution_count": 5,
   "id": "included-lithuania",
   "metadata": {},
   "outputs": [
    {
     "name": "stdout",
     "output_type": "stream",
     "text": [
      "<class 'pandas.core.frame.DataFrame'>\n",
      "RangeIndex: 12079 entries, 0 to 12078\n",
      "Data columns (total 14 columns):\n",
      " #   Column                  Non-Null Count  Dtype \n",
      "---  ------                  --------------  ----- \n",
      " 0   ID                      12079 non-null  object\n",
      " 1   Policy Start Date       12079 non-null  object\n",
      " 2   Policy End Date         12079 non-null  object\n",
      " 3   Gender                  11720 non-null  object\n",
      " 4   Age                     12079 non-null  int64 \n",
      " 5   First Transaction Date  12079 non-null  object\n",
      " 6   No_Pol                  12079 non-null  int64 \n",
      " 7   Car_Category            8341 non-null   object\n",
      " 8   Subject_Car_Colour      5117 non-null   object\n",
      " 9   Subject_Car_Make        9603 non-null   object\n",
      " 10  LGA_Name                5603 non-null   object\n",
      " 11  State                   5591 non-null   object\n",
      " 12  ProductName             12079 non-null  object\n",
      " 13  target                  12079 non-null  int64 \n",
      "dtypes: int64(3), object(11)\n",
      "memory usage: 802.2+ KB\n"
     ]
    }
   ],
   "source": [
    "train.info()"
   ]
  },
  {
   "cell_type": "code",
   "execution_count": 6,
   "id": "roman-choice",
   "metadata": {
    "scrolled": true
   },
   "outputs": [
    {
     "name": "stdout",
     "output_type": "stream",
     "text": [
      "<class 'pandas.core.frame.DataFrame'>\n",
      "RangeIndex: 1202 entries, 0 to 1201\n",
      "Data columns (total 13 columns):\n",
      " #   Column                  Non-Null Count  Dtype \n",
      "---  ------                  --------------  ----- \n",
      " 0   ID                      1202 non-null   object\n",
      " 1   Policy Start Date       1202 non-null   object\n",
      " 2   Policy End Date         1202 non-null   object\n",
      " 3   Gender                  1161 non-null   object\n",
      " 4   Age                     1202 non-null   int64 \n",
      " 5   First Transaction Date  1202 non-null   object\n",
      " 6   No_Pol                  1202 non-null   int64 \n",
      " 7   Car_Category            830 non-null    object\n",
      " 8   Subject_Car_Colour      505 non-null    object\n",
      " 9   Subject_Car_Make        954 non-null    object\n",
      " 10  LGA_Name                546 non-null    object\n",
      " 11  State                   546 non-null    object\n",
      " 12  ProductName             1202 non-null   object\n",
      "dtypes: int64(2), object(11)\n",
      "memory usage: 70.5+ KB\n"
     ]
    }
   ],
   "source": [
    "test.info()"
   ]
  },
  {
   "cell_type": "code",
   "execution_count": 7,
   "id": "sorted-sullivan",
   "metadata": {},
   "outputs": [
    {
     "data": {
      "text/plain": [
       "<matplotlib.axes._subplots.AxesSubplot at 0xda9597f0>"
      ]
     },
     "execution_count": 7,
     "metadata": {},
     "output_type": "execute_result"
    },
    {
     "data": {
      "image/png": "[encoded data removed]",
      "text/plain": [
       "<Figure size 432x288 with 2 Axes>"
      ]
     },
     "metadata": {
      "needs_background": "light"
     },
     "output_type": "display_data"
    }
   ],
   "source": [
    "sns.heatmap(train.corr(method='spearman'),annot=True)"
   ]
  },
  {
   "cell_type": "code",
   "execution_count": 8,
   "id": "further-course",
   "metadata": {},
   "outputs": [],
   "source": [
    "target=train.target"
   ]
  },
  {
   "cell_type": "code",
   "execution_count": 9,
   "id": "twelve-gambling",
   "metadata": {},
   "outputs": [],
   "source": [
    "data=pd.concat([train.drop('target',axis=1),test],axis=0).drop('ID',axis=1)"
   ]
  },
  {
   "cell_type": "code",
   "execution_count": 10,
   "id": "appointed-letters",
   "metadata": {
    "scrolled": false
   },
   "outputs": [
    {
     "data": {
      "text/html": [
       "<div>\n",
       "<style scoped>\n",
       "    .dataframe tbody tr th:only-of-type {\n",
       "        vertical-align: middle;\n",
       "    }\n",
       "\n",
       "    .dataframe tbody tr th {\n",
       "        vertical-align: top;\n",
       "    }\n",
       "\n",
       "    .dataframe thead th {\n",
       "        text-align: right;\n",
       "    }\n",
       "</style>\n",
       "<table border=\"1\" class=\"dataframe\">\n",
       "  <thead>\n",
       "    <tr style=\"text-align: right;\">\n",
       "      <th></th>\n",
       "      <th>Policy Start Date</th>\n",
       "      <th>Policy End Date</th>\n",
       "      <th>Gender</th>\n",
       "      <th>Age</th>\n",
       "      <th>First Transaction Date</th>\n",
       "      <th>No_Pol</th>\n",
       "      <th>Car_Category</th>\n",
       "      <th>Subject_Car_Colour</th>\n",
       "      <th>Subject_Car_Make</th>\n",
       "      <th>LGA_Name</th>\n",
       "      <th>State</th>\n",
       "      <th>ProductName</th>\n",
       "    </tr>\n",
       "  </thead>\n",
       "  <tbody>\n",
       "    <tr>\n",
       "      <th>0</th>\n",
       "      <td>2010-05-14</td>\n",
       "      <td>2011-05-13</td>\n",
       "      <td>Male</td>\n",
       "      <td>30</td>\n",
       "      <td>2010-05-14</td>\n",
       "      <td>1</td>\n",
       "      <td>Saloon</td>\n",
       "      <td>Black</td>\n",
       "      <td>TOYOTA</td>\n",
       "      <td>NaN</td>\n",
       "      <td>NaN</td>\n",
       "      <td>Car Classic</td>\n",
       "    </tr>\n",
       "    <tr>\n",
       "      <th>1</th>\n",
       "      <td>2010-11-29</td>\n",
       "      <td>2011-11-28</td>\n",
       "      <td>Female</td>\n",
       "      <td>79</td>\n",
       "      <td>2010-11-29</td>\n",
       "      <td>1</td>\n",
       "      <td>JEEP</td>\n",
       "      <td>Grey</td>\n",
       "      <td>TOYOTA</td>\n",
       "      <td>NaN</td>\n",
       "      <td>NaN</td>\n",
       "      <td>Car Classic</td>\n",
       "    </tr>\n",
       "    <tr>\n",
       "      <th>2</th>\n",
       "      <td>2010-03-21</td>\n",
       "      <td>2011-03-20</td>\n",
       "      <td>Male</td>\n",
       "      <td>43</td>\n",
       "      <td>2010-03-21</td>\n",
       "      <td>1</td>\n",
       "      <td>Saloon</td>\n",
       "      <td>Red</td>\n",
       "      <td>TOYOTA</td>\n",
       "      <td>NaN</td>\n",
       "      <td>NaN</td>\n",
       "      <td>Car Classic</td>\n",
       "    </tr>\n",
       "    <tr>\n",
       "      <th>3</th>\n",
       "      <td>2010-08-21</td>\n",
       "      <td>2011-08-20</td>\n",
       "      <td>Male</td>\n",
       "      <td>2</td>\n",
       "      <td>2010-08-21</td>\n",
       "      <td>1</td>\n",
       "      <td>NaN</td>\n",
       "      <td>NaN</td>\n",
       "      <td>NaN</td>\n",
       "      <td>NaN</td>\n",
       "      <td>NaN</td>\n",
       "      <td>CarSafe</td>\n",
       "    </tr>\n",
       "    <tr>\n",
       "      <th>4</th>\n",
       "      <td>2010-08-29</td>\n",
       "      <td>2010-12-31</td>\n",
       "      <td>Entity</td>\n",
       "      <td>20</td>\n",
       "      <td>2010-08-29</td>\n",
       "      <td>3</td>\n",
       "      <td>NaN</td>\n",
       "      <td>NaN</td>\n",
       "      <td>NaN</td>\n",
       "      <td>Lagos</td>\n",
       "      <td>Lagos</td>\n",
       "      <td>Muuve</td>\n",
       "    </tr>\n",
       "    <tr>\n",
       "      <th>...</th>\n",
       "      <td>...</td>\n",
       "      <td>...</td>\n",
       "      <td>...</td>\n",
       "      <td>...</td>\n",
       "      <td>...</td>\n",
       "      <td>...</td>\n",
       "      <td>...</td>\n",
       "      <td>...</td>\n",
       "      <td>...</td>\n",
       "      <td>...</td>\n",
       "      <td>...</td>\n",
       "      <td>...</td>\n",
       "    </tr>\n",
       "    <tr>\n",
       "      <th>1197</th>\n",
       "      <td>2010-12-05</td>\n",
       "      <td>2011-12-04</td>\n",
       "      <td>Male</td>\n",
       "      <td>67</td>\n",
       "      <td>2010-12-05</td>\n",
       "      <td>2</td>\n",
       "      <td>JEEP</td>\n",
       "      <td>Black</td>\n",
       "      <td>TOYOTA</td>\n",
       "      <td>Victoria Island</td>\n",
       "      <td>Lagos</td>\n",
       "      <td>Car Classic</td>\n",
       "    </tr>\n",
       "    <tr>\n",
       "      <th>1198</th>\n",
       "      <td>2010-01-14</td>\n",
       "      <td>2011-01-13</td>\n",
       "      <td>Male</td>\n",
       "      <td>43</td>\n",
       "      <td>2010-01-14</td>\n",
       "      <td>1</td>\n",
       "      <td>Saloon</td>\n",
       "      <td>Silver</td>\n",
       "      <td>Hyundai</td>\n",
       "      <td>Surulere</td>\n",
       "      <td>Lagos</td>\n",
       "      <td>Car Classic</td>\n",
       "    </tr>\n",
       "    <tr>\n",
       "      <th>1199</th>\n",
       "      <td>2010-07-26</td>\n",
       "      <td>2011-07-25</td>\n",
       "      <td>Male</td>\n",
       "      <td>30</td>\n",
       "      <td>2010-07-26</td>\n",
       "      <td>1</td>\n",
       "      <td>Truck</td>\n",
       "      <td>White</td>\n",
       "      <td>Iveco</td>\n",
       "      <td>Victoria Island</td>\n",
       "      <td>Lagos</td>\n",
       "      <td>CVTP</td>\n",
       "    </tr>\n",
       "    <tr>\n",
       "      <th>1200</th>\n",
       "      <td>2010-02-16</td>\n",
       "      <td>2011-02-15</td>\n",
       "      <td>Male</td>\n",
       "      <td>44</td>\n",
       "      <td>2010-02-16</td>\n",
       "      <td>2</td>\n",
       "      <td>Saloon</td>\n",
       "      <td>NaN</td>\n",
       "      <td>Nissan</td>\n",
       "      <td>Aba North</td>\n",
       "      <td>Aba-North</td>\n",
       "      <td>Car Classic</td>\n",
       "    </tr>\n",
       "    <tr>\n",
       "      <th>1201</th>\n",
       "      <td>2010-03-18</td>\n",
       "      <td>2011-03-17</td>\n",
       "      <td>Male</td>\n",
       "      <td>28</td>\n",
       "      <td>2010-03-18</td>\n",
       "      <td>1</td>\n",
       "      <td>Saloon</td>\n",
       "      <td>Silver</td>\n",
       "      <td>TOYOTA</td>\n",
       "      <td>NaN</td>\n",
       "      <td>NaN</td>\n",
       "      <td>Car Classic</td>\n",
       "    </tr>\n",
       "  </tbody>\n",
       "</table>\n",
       "<p>13281 rows × 12 columns</p>\n",
       "</div>"
      ],
      "text/plain": [
       "     Policy Start Date Policy End Date  Gender  Age First Transaction Date  \\\n",
       "0           2010-05-14      2011-05-13    Male   30             2010-05-14   \n",
       "1           2010-11-29      2011-11-28  Female   79             2010-11-29   \n",
       "2           2010-03-21      2011-03-20    Male   43             2010-03-21   \n",
       "3           2010-08-21      2011-08-20    Male    2             2010-08-21   \n",
       "4           2010-08-29      2010-12-31  Entity   20             2010-08-29   \n",
       "...                ...             ...     ...  ...                    ...   \n",
       "1197        2010-12-05      2011-12-04    Male   67             2010-12-05   \n",
       "1198        2010-01-14      2011-01-13    Male   43             2010-01-14   \n",
       "1199        2010-07-26      2011-07-25    Male   30             2010-07-26   \n",
       "1200        2010-02-16      2011-02-15    Male   44             2010-02-16   \n",
       "1201        2010-03-18      2011-03-17    Male   28             2010-03-18   \n",
       "\n",
       "      No_Pol Car_Category Subject_Car_Colour Subject_Car_Make  \\\n",
       "0          1       Saloon              Black           TOYOTA   \n",
       "1          1         JEEP               Grey           TOYOTA   \n",
       "2          1       Saloon                Red           TOYOTA   \n",
       "3          1          NaN                NaN              NaN   \n",
       "4          3          NaN                NaN              NaN   \n",
       "...      ...          ...                ...              ...   \n",
       "1197       2         JEEP              Black           TOYOTA   \n",
       "1198       1       Saloon             Silver          Hyundai   \n",
       "1199       1        Truck              White            Iveco   \n",
       "1200       2       Saloon                NaN           Nissan   \n",
       "1201       1       Saloon             Silver           TOYOTA   \n",
       "\n",
       "             LGA_Name      State  ProductName  \n",
       "0                 NaN        NaN  Car Classic  \n",
       "1                 NaN        NaN  Car Classic  \n",
       "2                 NaN        NaN  Car Classic  \n",
       "3                 NaN        NaN      CarSafe  \n",
       "4               Lagos      Lagos        Muuve  \n",
       "...               ...        ...          ...  \n",
       "1197  Victoria Island      Lagos  Car Classic  \n",
       "1198         Surulere      Lagos  Car Classic  \n",
       "1199  Victoria Island      Lagos         CVTP  \n",
       "1200        Aba North  Aba-North  Car Classic  \n",
       "1201              NaN        NaN  Car Classic  \n",
       "\n",
       "[13281 rows x 12 columns]"
      ]
     },
     "execution_count": 10,
     "metadata": {},
     "output_type": "execute_result"
    }
   ],
   "source": [
    "data"
   ]
  },
  {
   "cell_type": "code",
   "execution_count": 11,
   "id": "technological-fruit",
   "metadata": {},
   "outputs": [
    {
     "data": {
      "text/plain": [
       "Policy Start Date            0\n",
       "Policy End Date              0\n",
       "Gender                     400\n",
       "Age                          0\n",
       "First Transaction Date       0\n",
       "No_Pol                       0\n",
       "Car_Category              4110\n",
       "Subject_Car_Colour        7659\n",
       "Subject_Car_Make          2724\n",
       "LGA_Name                  7132\n",
       "State                     7144\n",
       "ProductName                  0\n",
       "dtype: int64"
      ]
     },
     "execution_count": 11,
     "metadata": {},
     "output_type": "execute_result"
    }
   ],
   "source": [
    "data.isnull().sum()"
   ]
  },
  {
   "cell_type": "code",
   "execution_count": 12,
   "id": "infrared-civilization",
   "metadata": {},
   "outputs": [
    {
     "data": {
      "text/plain": [
       "<matplotlib.axes._subplots.AxesSubplot at 0xd979de50>"
      ]
     },
     "execution_count": 12,
     "metadata": {},
     "output_type": "execute_result"
    },
    {
     "data": {
      "image/png": "[encoded data removed]",
      "text/plain": [
       "<Figure size 432x288 with 2 Axes>"
      ]
     },
     "metadata": {
      "needs_background": "light"
     },
     "output_type": "display_data"
    }
   ],
   "source": [
    "sns.heatmap(data.isnull())"
   ]
  },
  {
   "cell_type": "code",
   "execution_count": 13,
   "id": "veterinary-centre",
   "metadata": {},
   "outputs": [
    {
     "name": "stdout",
     "output_type": "stream",
     "text": [
      "<class 'pandas.core.frame.DataFrame'>\n",
      "Int64Index: 13281 entries, 0 to 1201\n",
      "Data columns (total 12 columns):\n",
      " #   Column                  Non-Null Count  Dtype \n",
      "---  ------                  --------------  ----- \n",
      " 0   Policy Start Date       13281 non-null  object\n",
      " 1   Policy End Date         13281 non-null  object\n",
      " 2   Gender                  12881 non-null  object\n",
      " 3   Age                     13281 non-null  int64 \n",
      " 4   First Transaction Date  13281 non-null  object\n",
      " 5   No_Pol                  13281 non-null  int64 \n",
      " 6   Car_Category            9171 non-null   object\n",
      " 7   Subject_Car_Colour      5622 non-null   object\n",
      " 8   Subject_Car_Make        10557 non-null  object\n",
      " 9   LGA_Name                6149 non-null   object\n",
      " 10  State                   6137 non-null   object\n",
      " 11  ProductName             13281 non-null  object\n",
      "dtypes: int64(2), object(10)\n",
      "memory usage: 830.1+ KB\n"
     ]
    }
   ],
   "source": [
    "data.info()"
   ]
  },
  {
   "cell_type": "code",
   "execution_count": 14,
   "id": "foreign-eclipse",
   "metadata": {},
   "outputs": [
    {
     "data": {
      "text/html": [
       "<div>\n",
       "<style scoped>\n",
       "    .dataframe tbody tr th:only-of-type {\n",
       "        vertical-align: middle;\n",
       "    }\n",
       "\n",
       "    .dataframe tbody tr th {\n",
       "        vertical-align: top;\n",
       "    }\n",
       "\n",
       "    .dataframe thead th {\n",
       "        text-align: right;\n",
       "    }\n",
       "</style>\n",
       "<table border=\"1\" class=\"dataframe\">\n",
       "  <thead>\n",
       "    <tr style=\"text-align: right;\">\n",
       "      <th></th>\n",
       "      <th>Age</th>\n",
       "      <th>No_Pol</th>\n",
       "    </tr>\n",
       "  </thead>\n",
       "  <tbody>\n",
       "    <tr>\n",
       "      <th>count</th>\n",
       "      <td>13281.000000</td>\n",
       "      <td>13281.000000</td>\n",
       "    </tr>\n",
       "    <tr>\n",
       "      <th>mean</th>\n",
       "      <td>42.375574</td>\n",
       "      <td>1.302763</td>\n",
       "    </tr>\n",
       "    <tr>\n",
       "      <th>std</th>\n",
       "      <td>93.170951</td>\n",
       "      <td>0.723195</td>\n",
       "    </tr>\n",
       "    <tr>\n",
       "      <th>min</th>\n",
       "      <td>-6099.000000</td>\n",
       "      <td>1.000000</td>\n",
       "    </tr>\n",
       "    <tr>\n",
       "      <th>25%</th>\n",
       "      <td>35.000000</td>\n",
       "      <td>1.000000</td>\n",
       "    </tr>\n",
       "    <tr>\n",
       "      <th>50%</th>\n",
       "      <td>41.000000</td>\n",
       "      <td>1.000000</td>\n",
       "    </tr>\n",
       "    <tr>\n",
       "      <th>75%</th>\n",
       "      <td>50.000000</td>\n",
       "      <td>1.000000</td>\n",
       "    </tr>\n",
       "    <tr>\n",
       "      <th>max</th>\n",
       "      <td>320.000000</td>\n",
       "      <td>10.000000</td>\n",
       "    </tr>\n",
       "  </tbody>\n",
       "</table>\n",
       "</div>"
      ],
      "text/plain": [
       "                Age        No_Pol\n",
       "count  13281.000000  13281.000000\n",
       "mean      42.375574      1.302763\n",
       "std       93.170951      0.723195\n",
       "min    -6099.000000      1.000000\n",
       "25%       35.000000      1.000000\n",
       "50%       41.000000      1.000000\n",
       "75%       50.000000      1.000000\n",
       "max      320.000000     10.000000"
      ]
     },
     "execution_count": 14,
     "metadata": {},
     "output_type": "execute_result"
    }
   ],
   "source": [
    "data.describe()"
   ]
  },
  {
   "cell_type": "code",
   "execution_count": 15,
   "id": "controlling-wrong",
   "metadata": {},
   "outputs": [
    {
     "data": {
      "text/plain": [
       "<matplotlib.axes._subplots.AxesSubplot at 0xd96b0958>"
      ]
     },
     "execution_count": 15,
     "metadata": {},
     "output_type": "execute_result"
    },
    {
     "data": {
      "image/png": "[encoded data removed]",
      "text/plain": [
       "<Figure size 432x288 with 1 Axes>"
      ]
     },
     "metadata": {
      "needs_background": "light"
     },
     "output_type": "display_data"
    }
   ],
   "source": [
    "sns.boxplot(x='Age',data=data)"
   ]
  },
  {
   "cell_type": "code",
   "execution_count": 16,
   "id": "laughing-router",
   "metadata": {},
   "outputs": [
    {
     "data": {
      "text/plain": [
       "<matplotlib.axes._subplots.AxesSubplot at 0xd9686fa0>"
      ]
     },
     "execution_count": 16,
     "metadata": {},
     "output_type": "execute_result"
    },
    {
     "data": {
      "image/png": "[encoded data removed]",
      "text/plain": [
       "<Figure size 432x288 with 1 Axes>"
      ]
     },
     "metadata": {
      "needs_background": "light"
     },
     "output_type": "display_data"
    }
   ],
   "source": [
    "sns.boxplot(x='No_Pol',data=data)"
   ]
  },
  {
   "cell_type": "markdown",
   "id": "abandoned-indonesian",
   "metadata": {},
   "source": [
    "### Handling Datetime Features"
   ]
  },
  {
   "cell_type": "code",
   "execution_count": 17,
   "id": "vulnerable-meditation",
   "metadata": {},
   "outputs": [],
   "source": [
    "data['Policy Start Date']=pd.to_datetime(data['Policy Start Date'])\n",
    "data['Policy End Date']=pd.to_datetime(data['Policy End Date'])\n",
    "data['First Transaction Date']=pd.to_datetime(data['First Transaction Date'])\n",
    "\n",
    "data['Policy Start Year']=data['Policy Start Date'].dt.year\n",
    "data['Policy Start Month']=data['Policy Start Date'].dt.month\n",
    "data['Policy Start Day']=data['Policy Start Date'].dt.day\n",
    "\n",
    "data['Policy End Year']=data['Policy End Date'].dt.year\n",
    "data['Policy End Month']=data['Policy End Date'].dt.month\n",
    "data['Policy End Day']=data['Policy End Date'].dt.day\n",
    "\n",
    "data['First Transaction Year']=data['First Transaction Date'].dt.year\n",
    "data['First Transaction Month']=data['First Transaction Date'].dt.month\n",
    "data['First Transaction Day']=data['First Transaction Date'].dt.day\n",
    "\n",
    "\n",
    "data['Policy Interval']=data['Policy End Date'] - data['Policy Start Date']\n",
    "data['Policy Interval']=data['Policy Interval'].dt.days.astype('int64')\n",
    "data.drop(['Policy Start Date','Policy End Date','First Transaction Date'],axis=1,inplace=True)"
   ]
  },
  {
   "cell_type": "code",
   "execution_count": 18,
   "id": "bacterial-fourth",
   "metadata": {},
   "outputs": [
    {
     "name": "stdout",
     "output_type": "stream",
     "text": [
      "<class 'pandas.core.frame.DataFrame'>\n",
      "Int64Index: 13281 entries, 0 to 1201\n",
      "Data columns (total 19 columns):\n",
      " #   Column                   Non-Null Count  Dtype \n",
      "---  ------                   --------------  ----- \n",
      " 0   Gender                   12881 non-null  object\n",
      " 1   Age                      13281 non-null  int64 \n",
      " 2   No_Pol                   13281 non-null  int64 \n",
      " 3   Car_Category             9171 non-null   object\n",
      " 4   Subject_Car_Colour       5622 non-null   object\n",
      " 5   Subject_Car_Make         10557 non-null  object\n",
      " 6   LGA_Name                 6149 non-null   object\n",
      " 7   State                    6137 non-null   object\n",
      " 8   ProductName              13281 non-null  object\n",
      " 9   Policy Start Year        13281 non-null  int64 \n",
      " 10  Policy Start Month       13281 non-null  int64 \n",
      " 11  Policy Start Day         13281 non-null  int64 \n",
      " 12  Policy End Year          13281 non-null  int64 \n",
      " 13  Policy End Month         13281 non-null  int64 \n",
      " 14  Policy End Day           13281 non-null  int64 \n",
      " 15  First Transaction Year   13281 non-null  int64 \n",
      " 16  First Transaction Month  13281 non-null  int64 \n",
      " 17  First Transaction Day    13281 non-null  int64 \n",
      " 18  Policy Interval          13281 non-null  int64 \n",
      "dtypes: int64(12), object(7)\n",
      "memory usage: 1.7+ MB\n"
     ]
    }
   ],
   "source": [
    "data.info()"
   ]
  },
  {
   "cell_type": "code",
   "execution_count": 19,
   "id": "aggregate-neighbor",
   "metadata": {},
   "outputs": [
    {
     "data": {
      "text/html": [
       "<div>\n",
       "<style scoped>\n",
       "    .dataframe tbody tr th:only-of-type {\n",
       "        vertical-align: middle;\n",
       "    }\n",
       "\n",
       "    .dataframe tbody tr th {\n",
       "        vertical-align: top;\n",
       "    }\n",
       "\n",
       "    .dataframe thead th {\n",
       "        text-align: right;\n",
       "    }\n",
       "</style>\n",
       "<table border=\"1\" class=\"dataframe\">\n",
       "  <thead>\n",
       "    <tr style=\"text-align: right;\">\n",
       "      <th></th>\n",
       "      <th>Gender</th>\n",
       "      <th>Age</th>\n",
       "      <th>No_Pol</th>\n",
       "      <th>Car_Category</th>\n",
       "      <th>Subject_Car_Colour</th>\n",
       "      <th>Subject_Car_Make</th>\n",
       "      <th>LGA_Name</th>\n",
       "      <th>State</th>\n",
       "      <th>ProductName</th>\n",
       "      <th>Policy Start Year</th>\n",
       "      <th>Policy Start Month</th>\n",
       "      <th>Policy Start Day</th>\n",
       "      <th>Policy End Year</th>\n",
       "      <th>Policy End Month</th>\n",
       "      <th>Policy End Day</th>\n",
       "      <th>First Transaction Year</th>\n",
       "      <th>First Transaction Month</th>\n",
       "      <th>First Transaction Day</th>\n",
       "      <th>Policy Interval</th>\n",
       "    </tr>\n",
       "  </thead>\n",
       "  <tbody>\n",
       "    <tr>\n",
       "      <th>1197</th>\n",
       "      <td>Male</td>\n",
       "      <td>67</td>\n",
       "      <td>2</td>\n",
       "      <td>JEEP</td>\n",
       "      <td>Black</td>\n",
       "      <td>TOYOTA</td>\n",
       "      <td>Victoria Island</td>\n",
       "      <td>Lagos</td>\n",
       "      <td>Car Classic</td>\n",
       "      <td>2010</td>\n",
       "      <td>12</td>\n",
       "      <td>5</td>\n",
       "      <td>2011</td>\n",
       "      <td>12</td>\n",
       "      <td>4</td>\n",
       "      <td>2010</td>\n",
       "      <td>12</td>\n",
       "      <td>5</td>\n",
       "      <td>364</td>\n",
       "    </tr>\n",
       "    <tr>\n",
       "      <th>1198</th>\n",
       "      <td>Male</td>\n",
       "      <td>43</td>\n",
       "      <td>1</td>\n",
       "      <td>Saloon</td>\n",
       "      <td>Silver</td>\n",
       "      <td>Hyundai</td>\n",
       "      <td>Surulere</td>\n",
       "      <td>Lagos</td>\n",
       "      <td>Car Classic</td>\n",
       "      <td>2010</td>\n",
       "      <td>1</td>\n",
       "      <td>14</td>\n",
       "      <td>2011</td>\n",
       "      <td>1</td>\n",
       "      <td>13</td>\n",
       "      <td>2010</td>\n",
       "      <td>1</td>\n",
       "      <td>14</td>\n",
       "      <td>364</td>\n",
       "    </tr>\n",
       "    <tr>\n",
       "      <th>1199</th>\n",
       "      <td>Male</td>\n",
       "      <td>30</td>\n",
       "      <td>1</td>\n",
       "      <td>Truck</td>\n",
       "      <td>White</td>\n",
       "      <td>Iveco</td>\n",
       "      <td>Victoria Island</td>\n",
       "      <td>Lagos</td>\n",
       "      <td>CVTP</td>\n",
       "      <td>2010</td>\n",
       "      <td>7</td>\n",
       "      <td>26</td>\n",
       "      <td>2011</td>\n",
       "      <td>7</td>\n",
       "      <td>25</td>\n",
       "      <td>2010</td>\n",
       "      <td>7</td>\n",
       "      <td>26</td>\n",
       "      <td>364</td>\n",
       "    </tr>\n",
       "    <tr>\n",
       "      <th>1200</th>\n",
       "      <td>Male</td>\n",
       "      <td>44</td>\n",
       "      <td>2</td>\n",
       "      <td>Saloon</td>\n",
       "      <td>NaN</td>\n",
       "      <td>Nissan</td>\n",
       "      <td>Aba North</td>\n",
       "      <td>Aba-North</td>\n",
       "      <td>Car Classic</td>\n",
       "      <td>2010</td>\n",
       "      <td>2</td>\n",
       "      <td>16</td>\n",
       "      <td>2011</td>\n",
       "      <td>2</td>\n",
       "      <td>15</td>\n",
       "      <td>2010</td>\n",
       "      <td>2</td>\n",
       "      <td>16</td>\n",
       "      <td>364</td>\n",
       "    </tr>\n",
       "    <tr>\n",
       "      <th>1201</th>\n",
       "      <td>Male</td>\n",
       "      <td>28</td>\n",
       "      <td>1</td>\n",
       "      <td>Saloon</td>\n",
       "      <td>Silver</td>\n",
       "      <td>TOYOTA</td>\n",
       "      <td>NaN</td>\n",
       "      <td>NaN</td>\n",
       "      <td>Car Classic</td>\n",
       "      <td>2010</td>\n",
       "      <td>3</td>\n",
       "      <td>18</td>\n",
       "      <td>2011</td>\n",
       "      <td>3</td>\n",
       "      <td>17</td>\n",
       "      <td>2010</td>\n",
       "      <td>3</td>\n",
       "      <td>18</td>\n",
       "      <td>364</td>\n",
       "    </tr>\n",
       "  </tbody>\n",
       "</table>\n",
       "</div>"
      ],
      "text/plain": [
       "     Gender  Age  No_Pol Car_Category Subject_Car_Colour Subject_Car_Make  \\\n",
       "1197   Male   67       2         JEEP              Black           TOYOTA   \n",
       "1198   Male   43       1       Saloon             Silver          Hyundai   \n",
       "1199   Male   30       1        Truck              White            Iveco   \n",
       "1200   Male   44       2       Saloon                NaN           Nissan   \n",
       "1201   Male   28       1       Saloon             Silver           TOYOTA   \n",
       "\n",
       "             LGA_Name      State  ProductName  Policy Start Year  \\\n",
       "1197  Victoria Island      Lagos  Car Classic               2010   \n",
       "1198         Surulere      Lagos  Car Classic               2010   \n",
       "1199  Victoria Island      Lagos         CVTP               2010   \n",
       "1200        Aba North  Aba-North  Car Classic               2010   \n",
       "1201              NaN        NaN  Car Classic               2010   \n",
       "\n",
       "      Policy Start Month  Policy Start Day  Policy End Year  Policy End Month  \\\n",
       "1197                  12                 5             2011                12   \n",
       "1198                   1                14             2011                 1   \n",
       "1199                   7                26             2011                 7   \n",
       "1200                   2                16             2011                 2   \n",
       "1201                   3                18             2011                 3   \n",
       "\n",
       "      Policy End Day  First Transaction Year  First Transaction Month  \\\n",
       "1197               4                    2010                       12   \n",
       "1198              13                    2010                        1   \n",
       "1199              25                    2010                        7   \n",
       "1200              15                    2010                        2   \n",
       "1201              17                    2010                        3   \n",
       "\n",
       "      First Transaction Day  Policy Interval  \n",
       "1197                      5              364  \n",
       "1198                     14              364  \n",
       "1199                     26              364  \n",
       "1200                     16              364  \n",
       "1201                     18              364  "
      ]
     },
     "execution_count": 19,
     "metadata": {},
     "output_type": "execute_result"
    }
   ],
   "source": [
    "data.tail()"
   ]
  },
  {
   "cell_type": "code",
   "execution_count": 20,
   "id": "final-potter",
   "metadata": {},
   "outputs": [
    {
     "data": {
      "text/html": [
       "<div>\n",
       "<style scoped>\n",
       "    .dataframe tbody tr th:only-of-type {\n",
       "        vertical-align: middle;\n",
       "    }\n",
       "\n",
       "    .dataframe tbody tr th {\n",
       "        vertical-align: top;\n",
       "    }\n",
       "\n",
       "    .dataframe thead th {\n",
       "        text-align: right;\n",
       "    }\n",
       "</style>\n",
       "<table border=\"1\" class=\"dataframe\">\n",
       "  <thead>\n",
       "    <tr style=\"text-align: right;\">\n",
       "      <th></th>\n",
       "      <th>Features</th>\n",
       "    </tr>\n",
       "  </thead>\n",
       "  <tbody>\n",
       "    <tr>\n",
       "      <th>0</th>\n",
       "      <td>Gender</td>\n",
       "    </tr>\n",
       "    <tr>\n",
       "      <th>1</th>\n",
       "      <td>Age</td>\n",
       "    </tr>\n",
       "    <tr>\n",
       "      <th>2</th>\n",
       "      <td>No_Pol</td>\n",
       "    </tr>\n",
       "    <tr>\n",
       "      <th>3</th>\n",
       "      <td>Car_Category</td>\n",
       "    </tr>\n",
       "    <tr>\n",
       "      <th>4</th>\n",
       "      <td>Subject_Car_Colour</td>\n",
       "    </tr>\n",
       "    <tr>\n",
       "      <th>5</th>\n",
       "      <td>Subject_Car_Make</td>\n",
       "    </tr>\n",
       "    <tr>\n",
       "      <th>6</th>\n",
       "      <td>LGA_Name</td>\n",
       "    </tr>\n",
       "    <tr>\n",
       "      <th>7</th>\n",
       "      <td>State</td>\n",
       "    </tr>\n",
       "    <tr>\n",
       "      <th>8</th>\n",
       "      <td>ProductName</td>\n",
       "    </tr>\n",
       "    <tr>\n",
       "      <th>9</th>\n",
       "      <td>Policy Start Year</td>\n",
       "    </tr>\n",
       "    <tr>\n",
       "      <th>10</th>\n",
       "      <td>Policy Start Month</td>\n",
       "    </tr>\n",
       "    <tr>\n",
       "      <th>11</th>\n",
       "      <td>Policy Start Day</td>\n",
       "    </tr>\n",
       "    <tr>\n",
       "      <th>12</th>\n",
       "      <td>Policy End Year</td>\n",
       "    </tr>\n",
       "    <tr>\n",
       "      <th>13</th>\n",
       "      <td>Policy End Month</td>\n",
       "    </tr>\n",
       "    <tr>\n",
       "      <th>14</th>\n",
       "      <td>Policy End Day</td>\n",
       "    </tr>\n",
       "    <tr>\n",
       "      <th>15</th>\n",
       "      <td>First Transaction Year</td>\n",
       "    </tr>\n",
       "    <tr>\n",
       "      <th>16</th>\n",
       "      <td>First Transaction Month</td>\n",
       "    </tr>\n",
       "    <tr>\n",
       "      <th>17</th>\n",
       "      <td>First Transaction Day</td>\n",
       "    </tr>\n",
       "    <tr>\n",
       "      <th>18</th>\n",
       "      <td>Policy Interval</td>\n",
       "    </tr>\n",
       "  </tbody>\n",
       "</table>\n",
       "</div>"
      ],
      "text/plain": [
       "                   Features\n",
       "0                    Gender\n",
       "1                       Age\n",
       "2                    No_Pol\n",
       "3              Car_Category\n",
       "4        Subject_Car_Colour\n",
       "5          Subject_Car_Make\n",
       "6                  LGA_Name\n",
       "7                     State\n",
       "8               ProductName\n",
       "9         Policy Start Year\n",
       "10       Policy Start Month\n",
       "11         Policy Start Day\n",
       "12          Policy End Year\n",
       "13         Policy End Month\n",
       "14           Policy End Day\n",
       "15   First Transaction Year\n",
       "16  First Transaction Month\n",
       "17    First Transaction Day\n",
       "18          Policy Interval"
      ]
     },
     "execution_count": 20,
     "metadata": {},
     "output_type": "execute_result"
    }
   ],
   "source": [
    "features=pd.DataFrame(data.columns,columns=['Features'])\n",
    "features"
   ]
  },
  {
   "cell_type": "code",
   "execution_count": 21,
   "id": "imperial-fancy",
   "metadata": {
    "scrolled": true
   },
   "outputs": [
    {
     "name": "stdout",
     "output_type": "stream",
     "text": [
      "Gender : 7\n",
      "Age : 110\n",
      "No_Pol : 8\n",
      "Car_Category : 16\n",
      "Subject_Car_Colour : 46\n",
      "Subject_Car_Make : 75\n",
      "LGA_Name : 270\n",
      "State : 113\n",
      "ProductName : 9\n",
      "Policy Start Year : 8\n",
      "Policy Start Month : 12\n",
      "Policy Start Day : 31\n",
      "Policy End Year : 7\n",
      "Policy End Month : 12\n",
      "Policy End Day : 31\n",
      "First Transaction Year : 8\n",
      "First Transaction Month : 12\n",
      "First Transaction Day : 31\n",
      "Policy Interval : 311\n"
     ]
    }
   ],
   "source": [
    "for col in features['Features']:\n",
    "    print(col,':',data[col].nunique())"
   ]
  },
  {
   "cell_type": "code",
   "execution_count": 22,
   "id": "valuable-colors",
   "metadata": {},
   "outputs": [
    {
     "data": {
      "text/html": [
       "<div>\n",
       "<style scoped>\n",
       "    .dataframe tbody tr th:only-of-type {\n",
       "        vertical-align: middle;\n",
       "    }\n",
       "\n",
       "    .dataframe tbody tr th {\n",
       "        vertical-align: top;\n",
       "    }\n",
       "\n",
       "    .dataframe thead th {\n",
       "        text-align: right;\n",
       "    }\n",
       "</style>\n",
       "<table border=\"1\" class=\"dataframe\">\n",
       "  <thead>\n",
       "    <tr style=\"text-align: right;\">\n",
       "      <th></th>\n",
       "      <th>Gender</th>\n",
       "      <th>Age</th>\n",
       "      <th>No_Pol</th>\n",
       "      <th>Car_Category</th>\n",
       "      <th>Subject_Car_Colour</th>\n",
       "      <th>Subject_Car_Make</th>\n",
       "      <th>LGA_Name</th>\n",
       "      <th>State</th>\n",
       "      <th>ProductName</th>\n",
       "      <th>Policy Start Year</th>\n",
       "      <th>Policy Start Month</th>\n",
       "      <th>Policy Start Day</th>\n",
       "      <th>Policy End Year</th>\n",
       "      <th>Policy End Month</th>\n",
       "      <th>Policy End Day</th>\n",
       "      <th>First Transaction Year</th>\n",
       "      <th>First Transaction Month</th>\n",
       "      <th>First Transaction Day</th>\n",
       "      <th>Policy Interval</th>\n",
       "    </tr>\n",
       "  </thead>\n",
       "  <tbody>\n",
       "    <tr>\n",
       "      <th>0</th>\n",
       "      <td>Male</td>\n",
       "      <td>30</td>\n",
       "      <td>1</td>\n",
       "      <td>Saloon</td>\n",
       "      <td>Black</td>\n",
       "      <td>TOYOTA</td>\n",
       "      <td>NaN</td>\n",
       "      <td>NaN</td>\n",
       "      <td>Car Classic</td>\n",
       "      <td>2010</td>\n",
       "      <td>May</td>\n",
       "      <td>14</td>\n",
       "      <td>2011</td>\n",
       "      <td>May</td>\n",
       "      <td>13</td>\n",
       "      <td>2010</td>\n",
       "      <td>May</td>\n",
       "      <td>14</td>\n",
       "      <td>364</td>\n",
       "    </tr>\n",
       "    <tr>\n",
       "      <th>1</th>\n",
       "      <td>Female</td>\n",
       "      <td>79</td>\n",
       "      <td>1</td>\n",
       "      <td>JEEP</td>\n",
       "      <td>Grey</td>\n",
       "      <td>TOYOTA</td>\n",
       "      <td>NaN</td>\n",
       "      <td>NaN</td>\n",
       "      <td>Car Classic</td>\n",
       "      <td>2010</td>\n",
       "      <td>November</td>\n",
       "      <td>29</td>\n",
       "      <td>2011</td>\n",
       "      <td>November</td>\n",
       "      <td>28</td>\n",
       "      <td>2010</td>\n",
       "      <td>November</td>\n",
       "      <td>29</td>\n",
       "      <td>364</td>\n",
       "    </tr>\n",
       "    <tr>\n",
       "      <th>2</th>\n",
       "      <td>Male</td>\n",
       "      <td>43</td>\n",
       "      <td>1</td>\n",
       "      <td>Saloon</td>\n",
       "      <td>Red</td>\n",
       "      <td>TOYOTA</td>\n",
       "      <td>NaN</td>\n",
       "      <td>NaN</td>\n",
       "      <td>Car Classic</td>\n",
       "      <td>2010</td>\n",
       "      <td>March</td>\n",
       "      <td>21</td>\n",
       "      <td>2011</td>\n",
       "      <td>March</td>\n",
       "      <td>20</td>\n",
       "      <td>2010</td>\n",
       "      <td>March</td>\n",
       "      <td>21</td>\n",
       "      <td>364</td>\n",
       "    </tr>\n",
       "    <tr>\n",
       "      <th>3</th>\n",
       "      <td>Male</td>\n",
       "      <td>2</td>\n",
       "      <td>1</td>\n",
       "      <td>NaN</td>\n",
       "      <td>NaN</td>\n",
       "      <td>NaN</td>\n",
       "      <td>NaN</td>\n",
       "      <td>NaN</td>\n",
       "      <td>CarSafe</td>\n",
       "      <td>2010</td>\n",
       "      <td>August</td>\n",
       "      <td>21</td>\n",
       "      <td>2011</td>\n",
       "      <td>August</td>\n",
       "      <td>20</td>\n",
       "      <td>2010</td>\n",
       "      <td>August</td>\n",
       "      <td>21</td>\n",
       "      <td>364</td>\n",
       "    </tr>\n",
       "    <tr>\n",
       "      <th>4</th>\n",
       "      <td>Entity</td>\n",
       "      <td>20</td>\n",
       "      <td>3</td>\n",
       "      <td>NaN</td>\n",
       "      <td>NaN</td>\n",
       "      <td>NaN</td>\n",
       "      <td>Lagos</td>\n",
       "      <td>Lagos</td>\n",
       "      <td>Muuve</td>\n",
       "      <td>2010</td>\n",
       "      <td>August</td>\n",
       "      <td>29</td>\n",
       "      <td>2010</td>\n",
       "      <td>December</td>\n",
       "      <td>31</td>\n",
       "      <td>2010</td>\n",
       "      <td>August</td>\n",
       "      <td>29</td>\n",
       "      <td>124</td>\n",
       "    </tr>\n",
       "    <tr>\n",
       "      <th>...</th>\n",
       "      <td>...</td>\n",
       "      <td>...</td>\n",
       "      <td>...</td>\n",
       "      <td>...</td>\n",
       "      <td>...</td>\n",
       "      <td>...</td>\n",
       "      <td>...</td>\n",
       "      <td>...</td>\n",
       "      <td>...</td>\n",
       "      <td>...</td>\n",
       "      <td>...</td>\n",
       "      <td>...</td>\n",
       "      <td>...</td>\n",
       "      <td>...</td>\n",
       "      <td>...</td>\n",
       "      <td>...</td>\n",
       "      <td>...</td>\n",
       "      <td>...</td>\n",
       "      <td>...</td>\n",
       "    </tr>\n",
       "    <tr>\n",
       "      <th>1197</th>\n",
       "      <td>Male</td>\n",
       "      <td>67</td>\n",
       "      <td>2</td>\n",
       "      <td>JEEP</td>\n",
       "      <td>Black</td>\n",
       "      <td>TOYOTA</td>\n",
       "      <td>Victoria Island</td>\n",
       "      <td>Lagos</td>\n",
       "      <td>Car Classic</td>\n",
       "      <td>2010</td>\n",
       "      <td>December</td>\n",
       "      <td>5</td>\n",
       "      <td>2011</td>\n",
       "      <td>December</td>\n",
       "      <td>4</td>\n",
       "      <td>2010</td>\n",
       "      <td>December</td>\n",
       "      <td>5</td>\n",
       "      <td>364</td>\n",
       "    </tr>\n",
       "    <tr>\n",
       "      <th>1198</th>\n",
       "      <td>Male</td>\n",
       "      <td>43</td>\n",
       "      <td>1</td>\n",
       "      <td>Saloon</td>\n",
       "      <td>Silver</td>\n",
       "      <td>Hyundai</td>\n",
       "      <td>Surulere</td>\n",
       "      <td>Lagos</td>\n",
       "      <td>Car Classic</td>\n",
       "      <td>2010</td>\n",
       "      <td>January</td>\n",
       "      <td>14</td>\n",
       "      <td>2011</td>\n",
       "      <td>January</td>\n",
       "      <td>13</td>\n",
       "      <td>2010</td>\n",
       "      <td>January</td>\n",
       "      <td>14</td>\n",
       "      <td>364</td>\n",
       "    </tr>\n",
       "    <tr>\n",
       "      <th>1199</th>\n",
       "      <td>Male</td>\n",
       "      <td>30</td>\n",
       "      <td>1</td>\n",
       "      <td>Truck</td>\n",
       "      <td>White</td>\n",
       "      <td>Iveco</td>\n",
       "      <td>Victoria Island</td>\n",
       "      <td>Lagos</td>\n",
       "      <td>CVTP</td>\n",
       "      <td>2010</td>\n",
       "      <td>July</td>\n",
       "      <td>26</td>\n",
       "      <td>2011</td>\n",
       "      <td>July</td>\n",
       "      <td>25</td>\n",
       "      <td>2010</td>\n",
       "      <td>July</td>\n",
       "      <td>26</td>\n",
       "      <td>364</td>\n",
       "    </tr>\n",
       "    <tr>\n",
       "      <th>1200</th>\n",
       "      <td>Male</td>\n",
       "      <td>44</td>\n",
       "      <td>2</td>\n",
       "      <td>Saloon</td>\n",
       "      <td>NaN</td>\n",
       "      <td>Nissan</td>\n",
       "      <td>Aba North</td>\n",
       "      <td>Aba-North</td>\n",
       "      <td>Car Classic</td>\n",
       "      <td>2010</td>\n",
       "      <td>February</td>\n",
       "      <td>16</td>\n",
       "      <td>2011</td>\n",
       "      <td>February</td>\n",
       "      <td>15</td>\n",
       "      <td>2010</td>\n",
       "      <td>February</td>\n",
       "      <td>16</td>\n",
       "      <td>364</td>\n",
       "    </tr>\n",
       "    <tr>\n",
       "      <th>1201</th>\n",
       "      <td>Male</td>\n",
       "      <td>28</td>\n",
       "      <td>1</td>\n",
       "      <td>Saloon</td>\n",
       "      <td>Silver</td>\n",
       "      <td>TOYOTA</td>\n",
       "      <td>NaN</td>\n",
       "      <td>NaN</td>\n",
       "      <td>Car Classic</td>\n",
       "      <td>2010</td>\n",
       "      <td>March</td>\n",
       "      <td>18</td>\n",
       "      <td>2011</td>\n",
       "      <td>March</td>\n",
       "      <td>17</td>\n",
       "      <td>2010</td>\n",
       "      <td>March</td>\n",
       "      <td>18</td>\n",
       "      <td>364</td>\n",
       "    </tr>\n",
       "  </tbody>\n",
       "</table>\n",
       "<p>13281 rows × 19 columns</p>\n",
       "</div>"
      ],
      "text/plain": [
       "      Gender  Age  No_Pol Car_Category Subject_Car_Colour Subject_Car_Make  \\\n",
       "0       Male   30       1       Saloon              Black           TOYOTA   \n",
       "1     Female   79       1         JEEP               Grey           TOYOTA   \n",
       "2       Male   43       1       Saloon                Red           TOYOTA   \n",
       "3       Male    2       1          NaN                NaN              NaN   \n",
       "4     Entity   20       3          NaN                NaN              NaN   \n",
       "...      ...  ...     ...          ...                ...              ...   \n",
       "1197    Male   67       2         JEEP              Black           TOYOTA   \n",
       "1198    Male   43       1       Saloon             Silver          Hyundai   \n",
       "1199    Male   30       1        Truck              White            Iveco   \n",
       "1200    Male   44       2       Saloon                NaN           Nissan   \n",
       "1201    Male   28       1       Saloon             Silver           TOYOTA   \n",
       "\n",
       "             LGA_Name      State  ProductName  Policy Start Year  \\\n",
       "0                 NaN        NaN  Car Classic               2010   \n",
       "1                 NaN        NaN  Car Classic               2010   \n",
       "2                 NaN        NaN  Car Classic               2010   \n",
       "3                 NaN        NaN      CarSafe               2010   \n",
       "4               Lagos      Lagos        Muuve               2010   \n",
       "...               ...        ...          ...                ...   \n",
       "1197  Victoria Island      Lagos  Car Classic               2010   \n",
       "1198         Surulere      Lagos  Car Classic               2010   \n",
       "1199  Victoria Island      Lagos         CVTP               2010   \n",
       "1200        Aba North  Aba-North  Car Classic               2010   \n",
       "1201              NaN        NaN  Car Classic               2010   \n",
       "\n",
       "     Policy Start Month  Policy Start Day  Policy End Year Policy End Month  \\\n",
       "0                   May                14             2011              May   \n",
       "1              November                29             2011         November   \n",
       "2                 March                21             2011            March   \n",
       "3                August                21             2011           August   \n",
       "4                August                29             2010         December   \n",
       "...                 ...               ...              ...              ...   \n",
       "1197           December                 5             2011         December   \n",
       "1198            January                14             2011          January   \n",
       "1199               July                26             2011             July   \n",
       "1200           February                16             2011         February   \n",
       "1201              March                18             2011            March   \n",
       "\n",
       "      Policy End Day  First Transaction Year First Transaction Month  \\\n",
       "0                 13                    2010                     May   \n",
       "1                 28                    2010                November   \n",
       "2                 20                    2010                   March   \n",
       "3                 20                    2010                  August   \n",
       "4                 31                    2010                  August   \n",
       "...              ...                     ...                     ...   \n",
       "1197               4                    2010                December   \n",
       "1198              13                    2010                 January   \n",
       "1199              25                    2010                    July   \n",
       "1200              15                    2010                February   \n",
       "1201              17                    2010                   March   \n",
       "\n",
       "      First Transaction Day  Policy Interval  \n",
       "0                        14              364  \n",
       "1                        29              364  \n",
       "2                        21              364  \n",
       "3                        21              364  \n",
       "4                        29              124  \n",
       "...                     ...              ...  \n",
       "1197                      5              364  \n",
       "1198                     14              364  \n",
       "1199                     26              364  \n",
       "1200                     16              364  \n",
       "1201                     18              364  \n",
       "\n",
       "[13281 rows x 19 columns]"
      ]
     },
     "execution_count": 22,
     "metadata": {},
     "output_type": "execute_result"
    }
   ],
   "source": [
    "month_map={1:'January',2:'February',3:'March',4:'April',5:'May',6:'June',\n",
    "           7:'July',8:'August',9:'September',10:'Octomber',11:'November',12:'December'}\n",
    "\n",
    "data['Policy Start Month']=data['Policy Start Month'].map(month_map)\n",
    "data['Policy End Month']=data['Policy End Month'].map(month_map)\n",
    "data['First Transaction Month']=data['First Transaction Month'].map(month_map)\n",
    "\n",
    "data"
   ]
  },
  {
   "cell_type": "code",
   "execution_count": 23,
   "id": "altered-manhattan",
   "metadata": {},
   "outputs": [],
   "source": [
    "data.drop(['LGA_Name','State'],axis=1,inplace=True)"
   ]
  },
  {
   "cell_type": "code",
   "execution_count": 24,
   "id": "green-jumping",
   "metadata": {},
   "outputs": [
    {
     "data": {
      "text/plain": [
       "Male            8356\n",
       "Female          3679\n",
       "Entity           300\n",
       "Joint Gender     238\n",
       "NOT STATED       190\n",
       "NO GENDER         76\n",
       "SEX               42\n",
       "Name: Gender, dtype: int64"
      ]
     },
     "execution_count": 24,
     "metadata": {},
     "output_type": "execute_result"
    }
   ],
   "source": [
    "data['Gender'].value_counts()"
   ]
  },
  {
   "cell_type": "code",
   "execution_count": 25,
   "id": "modular-organizer",
   "metadata": {},
   "outputs": [],
   "source": [
    "#gender_mapping={'Male':0.63,'Female':0.28,'Joint Gender':0.02,'Entity':0.05,'NOT STATED':0.05,'NO GENDER':0.05,'SEX':0.05}\n",
    "gender_mapping={'Male':0,'Female':1,'Joint Gender':2,'Entity':2,'NOT STATED':2,'NO GENDER':2,'SEX':2}\n",
    "data['Gender']=data['Gender'].map(gender_mapping)"
   ]
  },
  {
   "cell_type": "code",
   "execution_count": 26,
   "id": "charitable-curtis",
   "metadata": {},
   "outputs": [
    {
     "name": "stdout",
     "output_type": "stream",
     "text": [
      "<class 'pandas.core.frame.DataFrame'>\n",
      "Int64Index: 13281 entries, 0 to 1201\n",
      "Data columns (total 17 columns):\n",
      " #   Column                   Non-Null Count  Dtype  \n",
      "---  ------                   --------------  -----  \n",
      " 0   Gender                   12881 non-null  float64\n",
      " 1   Age                      13281 non-null  int64  \n",
      " 2   No_Pol                   13281 non-null  int64  \n",
      " 3   Car_Category             9171 non-null   object \n",
      " 4   Subject_Car_Colour       5622 non-null   object \n",
      " 5   Subject_Car_Make         10557 non-null  object \n",
      " 6   ProductName              13281 non-null  object \n",
      " 7   Policy Start Year        13281 non-null  int64  \n",
      " 8   Policy Start Month       13281 non-null  object \n",
      " 9   Policy Start Day         13281 non-null  int64  \n",
      " 10  Policy End Year          13281 non-null  int64  \n",
      " 11  Policy End Month         13281 non-null  object \n",
      " 12  Policy End Day           13281 non-null  int64  \n",
      " 13  First Transaction Year   13281 non-null  int64  \n",
      " 14  First Transaction Month  13281 non-null  object \n",
      " 15  First Transaction Day    13281 non-null  int64  \n",
      " 16  Policy Interval          13281 non-null  int64  \n",
      "dtypes: float64(1), int64(9), object(7)\n",
      "memory usage: 1.5+ MB\n"
     ]
    }
   ],
   "source": [
    "data.info()"
   ]
  },
  {
   "cell_type": "code",
   "execution_count": 27,
   "id": "identified-sunset",
   "metadata": {},
   "outputs": [
    {
     "data": {
      "text/plain": [
       "<matplotlib.axes._subplots.AxesSubplot at 0xd96531d8>"
      ]
     },
     "execution_count": 27,
     "metadata": {},
     "output_type": "execute_result"
    },
    {
     "data": {
      "image/png": "[encoded data removed]",
      "text/plain": [
       "<Figure size 1080x432 with 2 Axes>"
      ]
     },
     "metadata": {
      "needs_background": "light"
     },
     "output_type": "display_data"
    }
   ],
   "source": [
    "fig,ax=plt.subplots(figsize=(15,6))\n",
    "sns.heatmap(data.corr(method='spearman'),annot=True)"
   ]
  },
  {
   "cell_type": "code",
   "execution_count": 28,
   "id": "cathedral-genesis",
   "metadata": {},
   "outputs": [
    {
     "data": {
      "text/plain": [
       "<matplotlib.axes._subplots.AxesSubplot at 0xd90b45e0>"
      ]
     },
     "execution_count": 28,
     "metadata": {},
     "output_type": "execute_result"
    },
    {
     "data": {
      "image/png": "[encoded data removed]",
      "text/plain": [
       "<Figure size 1080x432 with 2 Axes>"
      ]
     },
     "metadata": {
      "needs_background": "light"
     },
     "output_type": "display_data"
    }
   ],
   "source": [
    "corr_test=pd.concat([data[:train.shape[0]],target],axis=1)\n",
    "fig,ax=plt.subplots(figsize=(15,6))\n",
    "sns.heatmap(corr_test.corr(method='spearman'),annot=True)"
   ]
  },
  {
   "cell_type": "code",
   "execution_count": 29,
   "id": "further-persian",
   "metadata": {},
   "outputs": [
    {
     "name": "stdout",
     "output_type": "stream",
     "text": [
      "TOYOTA        5466\n",
      "Honda         1146\n",
      "Lexus          654\n",
      "Mercedes       577\n",
      "Hyundai        512\n",
      "              ... \n",
      "Lincoln          1\n",
      "Howo             1\n",
      "CHANGAN          1\n",
      "Motorcycle       1\n",
      "Bajaj            1\n",
      "Name: Subject_Car_Make, Length: 75, dtype: int64\n",
      "Black             2057\n",
      "Silver             605\n",
      "Grey               565\n",
      "As Attached        555\n",
      "Blue               398\n",
      "White              321\n",
      "Red                274\n",
      "Green              259\n",
      "Gold               192\n",
      "Ash                142\n",
      "Wine               101\n",
      "Brown               65\n",
      "Cream               10\n",
      "Yellow               8\n",
      "Dark Gray            7\n",
      "White & Blue         5\n",
      "Orange               5\n",
      "Purple               4\n",
      "Red & White          4\n",
      "B.Silver             4\n",
      "Dark Grey            3\n",
      "D. Red               3\n",
      "Light Green          3\n",
      "Blue & Red           3\n",
      "Gray & Silver        2\n",
      "Red & Black          2\n",
      "Black & Orange       2\n",
      "Dark Blue            2\n",
      "Gray & Gray          2\n",
      "White & Red          2\n",
      "Black & White        2\n",
      "Blue&White&Red       1\n",
      "Blue Sky             1\n",
      "Red & Blue           1\n",
      "Yellow & White       1\n",
      "White & Yellow       1\n",
      "Red & Yellow         1\n",
      "Dark Green           1\n",
      "Burgundy             1\n",
      "Dark Red             1\n",
      "D. Gold              1\n",
      "Light Gray           1\n",
      "Red Maroon           1\n",
      "Beige Mitalic        1\n",
      "Champagne            1\n",
      "Light Blue           1\n",
      "Name: Subject_Car_Colour, dtype: int64\n",
      "Saloon                     6633\n",
      "JEEP                       2223\n",
      "Truck                       108\n",
      "Bus                          56\n",
      "Mini Bus                     45\n",
      "Pick Up                      32\n",
      "Motorcycle                   18\n",
      "Sedan                        14\n",
      "Mini Van                     13\n",
      "Wagon                        10\n",
      "Station 4 Wheel               6\n",
      "Shape Of Vehicle Chasis       6\n",
      "Van                           3\n",
      "Pick Up > 3 Tons              2\n",
      "CAMRY CAR HIRE                1\n",
      "Tipper Truck                  1\n",
      "Name: Car_Category, dtype: int64\n",
      "Car Classic         7142\n",
      "CarSafe             4154\n",
      "Customized Motor     605\n",
      "Car Plus             523\n",
      "CVTP                 509\n",
      "CarFlex              194\n",
      "Muuve                100\n",
      "Motor Cycle           49\n",
      "Car Vintage            5\n",
      "Name: ProductName, dtype: int64\n"
     ]
    }
   ],
   "source": [
    "for i in ['Subject_Car_Make','Subject_Car_Colour','Car_Category','ProductName']:\n",
    "    print(data[i].value_counts())"
   ]
  },
  {
   "cell_type": "code",
   "execution_count": 30,
   "id": "incomplete-director",
   "metadata": {},
   "outputs": [],
   "source": [
    "def cat_enc(cat_feat):\n",
    "    data[cat_feat]=data[cat_feat].map(data[cat_feat].value_counts().to_dict())\n",
    "    data[cat_feat]=data[cat_feat]/13281"
   ]
  },
  {
   "cell_type": "code",
   "execution_count": 31,
   "id": "improving-abuse",
   "metadata": {},
   "outputs": [],
   "source": [
    "cat_enc('Subject_Car_Make')\n",
    "cat_enc('Subject_Car_Colour')\n",
    "cat_enc('Car_Category')"
   ]
  },
  {
   "cell_type": "code",
   "execution_count": 32,
   "id": "alien-obligation",
   "metadata": {},
   "outputs": [
    {
     "name": "stdout",
     "output_type": "stream",
     "text": [
      "<class 'pandas.core.frame.DataFrame'>\n",
      "Int64Index: 13281 entries, 0 to 1201\n",
      "Data columns (total 17 columns):\n",
      " #   Column                   Non-Null Count  Dtype  \n",
      "---  ------                   --------------  -----  \n",
      " 0   Gender                   12881 non-null  float64\n",
      " 1   Age                      13281 non-null  int64  \n",
      " 2   No_Pol                   13281 non-null  int64  \n",
      " 3   Car_Category             9171 non-null   float64\n",
      " 4   Subject_Car_Colour       5622 non-null   float64\n",
      " 5   Subject_Car_Make         10557 non-null  float64\n",
      " 6   ProductName              13281 non-null  object \n",
      " 7   Policy Start Year        13281 non-null  int64  \n",
      " 8   Policy Start Month       13281 non-null  object \n",
      " 9   Policy Start Day         13281 non-null  int64  \n",
      " 10  Policy End Year          13281 non-null  int64  \n",
      " 11  Policy End Month         13281 non-null  object \n",
      " 12  Policy End Day           13281 non-null  int64  \n",
      " 13  First Transaction Year   13281 non-null  int64  \n",
      " 14  First Transaction Month  13281 non-null  object \n",
      " 15  First Transaction Day    13281 non-null  int64  \n",
      " 16  Policy Interval          13281 non-null  int64  \n",
      "dtypes: float64(4), int64(9), object(4)\n",
      "memory usage: 1.6+ MB\n"
     ]
    }
   ],
   "source": [
    "data.info()"
   ]
  },
  {
   "cell_type": "code",
   "execution_count": 33,
   "id": "hidden-proposal",
   "metadata": {},
   "outputs": [
    {
     "data": {
      "text/plain": [
       "<matplotlib.axes._subplots.AxesSubplot at 0xd877ab98>"
      ]
     },
     "execution_count": 33,
     "metadata": {},
     "output_type": "execute_result"
    },
    {
     "data": {
      "image/png": "[encoded data removed]",
      "text/plain": [
       "<Figure size 1080x432 with 2 Axes>"
      ]
     },
     "metadata": {
      "needs_background": "light"
     },
     "output_type": "display_data"
    }
   ],
   "source": [
    "corr_test=pd.concat([data[:train.shape[0]],target],axis=1)\n",
    "fig,ax=plt.subplots(figsize=(15,6))\n",
    "sns.heatmap(corr_test.corr(method='spearman'),annot=True)"
   ]
  },
  {
   "cell_type": "code",
   "execution_count": 34,
   "id": "marked-library",
   "metadata": {},
   "outputs": [],
   "source": [
    "product_name_dummies=pd.get_dummies(data['ProductName']).add_prefix('ProductName_')\n",
    "policy_start_month_dummies=pd.get_dummies(data['Policy Start Month']).add_prefix('Policy_Start_Month_')\n",
    "policy_end_month_dummies=pd.get_dummies(data['Policy End Month']).add_prefix('Policy_End_Month_')\n",
    "first_transac_month_dummies=pd.get_dummies(data['First Transaction Month']).add_prefix('First_Transaction_Month_')\n",
    "data=pd.concat([data,product_name_dummies,policy_start_month_dummies,policy_end_month_dummies,\n",
    "                first_transac_month_dummies],axis=1).drop(['ProductName','Policy Start Month','Policy End Month','First Transaction Month'],axis=1)"
   ]
  },
  {
   "cell_type": "code",
   "execution_count": 35,
   "id": "unlimited-armstrong",
   "metadata": {},
   "outputs": [
    {
     "data": {
      "text/plain": [
       "(13281, 58)"
      ]
     },
     "execution_count": 35,
     "metadata": {},
     "output_type": "execute_result"
    }
   ],
   "source": [
    "data.shape"
   ]
  },
  {
   "cell_type": "code",
   "execution_count": 36,
   "id": "hungarian-chrome",
   "metadata": {},
   "outputs": [
    {
     "name": "stdout",
     "output_type": "stream",
     "text": [
      "<class 'pandas.core.frame.DataFrame'>\n",
      "Int64Index: 13281 entries, 0 to 1201\n",
      "Data columns (total 58 columns):\n",
      " #   Column                             Non-Null Count  Dtype  \n",
      "---  ------                             --------------  -----  \n",
      " 0   Gender                             12881 non-null  float64\n",
      " 1   Age                                13281 non-null  int64  \n",
      " 2   No_Pol                             13281 non-null  int64  \n",
      " 3   Car_Category                       9171 non-null   float64\n",
      " 4   Subject_Car_Colour                 5622 non-null   float64\n",
      " 5   Subject_Car_Make                   10557 non-null  float64\n",
      " 6   Policy Start Year                  13281 non-null  int64  \n",
      " 7   Policy Start Day                   13281 non-null  int64  \n",
      " 8   Policy End Year                    13281 non-null  int64  \n",
      " 9   Policy End Day                     13281 non-null  int64  \n",
      " 10  First Transaction Year             13281 non-null  int64  \n",
      " 11  First Transaction Day              13281 non-null  int64  \n",
      " 12  Policy Interval                    13281 non-null  int64  \n",
      " 13  ProductName_CVTP                   13281 non-null  uint8  \n",
      " 14  ProductName_Car Classic            13281 non-null  uint8  \n",
      " 15  ProductName_Car Plus               13281 non-null  uint8  \n",
      " 16  ProductName_Car Vintage            13281 non-null  uint8  \n",
      " 17  ProductName_CarFlex                13281 non-null  uint8  \n",
      " 18  ProductName_CarSafe                13281 non-null  uint8  \n",
      " 19  ProductName_Customized Motor       13281 non-null  uint8  \n",
      " 20  ProductName_Motor Cycle            13281 non-null  uint8  \n",
      " 21  ProductName_Muuve                  13281 non-null  uint8  \n",
      " 22  Policy_Start_Month_April           13281 non-null  uint8  \n",
      " 23  Policy_Start_Month_August          13281 non-null  uint8  \n",
      " 24  Policy_Start_Month_December        13281 non-null  uint8  \n",
      " 25  Policy_Start_Month_February        13281 non-null  uint8  \n",
      " 26  Policy_Start_Month_January         13281 non-null  uint8  \n",
      " 27  Policy_Start_Month_July            13281 non-null  uint8  \n",
      " 28  Policy_Start_Month_June            13281 non-null  uint8  \n",
      " 29  Policy_Start_Month_March           13281 non-null  uint8  \n",
      " 30  Policy_Start_Month_May             13281 non-null  uint8  \n",
      " 31  Policy_Start_Month_November        13281 non-null  uint8  \n",
      " 32  Policy_Start_Month_Octomber        13281 non-null  uint8  \n",
      " 33  Policy_Start_Month_September       13281 non-null  uint8  \n",
      " 34  Policy_End_Month_April             13281 non-null  uint8  \n",
      " 35  Policy_End_Month_August            13281 non-null  uint8  \n",
      " 36  Policy_End_Month_December          13281 non-null  uint8  \n",
      " 37  Policy_End_Month_February          13281 non-null  uint8  \n",
      " 38  Policy_End_Month_January           13281 non-null  uint8  \n",
      " 39  Policy_End_Month_July              13281 non-null  uint8  \n",
      " 40  Policy_End_Month_June              13281 non-null  uint8  \n",
      " 41  Policy_End_Month_March             13281 non-null  uint8  \n",
      " 42  Policy_End_Month_May               13281 non-null  uint8  \n",
      " 43  Policy_End_Month_November          13281 non-null  uint8  \n",
      " 44  Policy_End_Month_Octomber          13281 non-null  uint8  \n",
      " 45  Policy_End_Month_September         13281 non-null  uint8  \n",
      " 46  First_Transaction_Month_April      13281 non-null  uint8  \n",
      " 47  First_Transaction_Month_August     13281 non-null  uint8  \n",
      " 48  First_Transaction_Month_December   13281 non-null  uint8  \n",
      " 49  First_Transaction_Month_February   13281 non-null  uint8  \n",
      " 50  First_Transaction_Month_January    13281 non-null  uint8  \n",
      " 51  First_Transaction_Month_July       13281 non-null  uint8  \n",
      " 52  First_Transaction_Month_June       13281 non-null  uint8  \n",
      " 53  First_Transaction_Month_March      13281 non-null  uint8  \n",
      " 54  First_Transaction_Month_May        13281 non-null  uint8  \n",
      " 55  First_Transaction_Month_November   13281 non-null  uint8  \n",
      " 56  First_Transaction_Month_Octomber   13281 non-null  uint8  \n",
      " 57  First_Transaction_Month_September  13281 non-null  uint8  \n",
      "dtypes: float64(4), int64(9), uint8(45)\n",
      "memory usage: 2.0 MB\n"
     ]
    }
   ],
   "source": [
    "data.info()"
   ]
  },
  {
   "cell_type": "markdown",
   "id": "hungry-seeker",
   "metadata": {},
   "source": [
    "### Outliers"
   ]
  },
  {
   "cell_type": "code",
   "execution_count": 37,
   "id": "still-glance",
   "metadata": {
    "scrolled": true
   },
   "outputs": [
    {
     "data": {
      "text/html": [
       "<div>\n",
       "<style scoped>\n",
       "    .dataframe tbody tr th:only-of-type {\n",
       "        vertical-align: middle;\n",
       "    }\n",
       "\n",
       "    .dataframe tbody tr th {\n",
       "        vertical-align: top;\n",
       "    }\n",
       "\n",
       "    .dataframe thead th {\n",
       "        text-align: right;\n",
       "    }\n",
       "</style>\n",
       "<table border=\"1\" class=\"dataframe\">\n",
       "  <thead>\n",
       "    <tr style=\"text-align: right;\">\n",
       "      <th></th>\n",
       "      <th>Gender</th>\n",
       "      <th>Age</th>\n",
       "      <th>No_Pol</th>\n",
       "      <th>Car_Category</th>\n",
       "      <th>Subject_Car_Colour</th>\n",
       "      <th>Subject_Car_Make</th>\n",
       "      <th>Policy Start Year</th>\n",
       "      <th>Policy Start Day</th>\n",
       "      <th>Policy End Year</th>\n",
       "      <th>Policy End Day</th>\n",
       "      <th>...</th>\n",
       "      <th>First_Transaction_Month_December</th>\n",
       "      <th>First_Transaction_Month_February</th>\n",
       "      <th>First_Transaction_Month_January</th>\n",
       "      <th>First_Transaction_Month_July</th>\n",
       "      <th>First_Transaction_Month_June</th>\n",
       "      <th>First_Transaction_Month_March</th>\n",
       "      <th>First_Transaction_Month_May</th>\n",
       "      <th>First_Transaction_Month_November</th>\n",
       "      <th>First_Transaction_Month_Octomber</th>\n",
       "      <th>First_Transaction_Month_September</th>\n",
       "    </tr>\n",
       "  </thead>\n",
       "  <tbody>\n",
       "    <tr>\n",
       "      <th>count</th>\n",
       "      <td>12881.000000</td>\n",
       "      <td>13281.000000</td>\n",
       "      <td>13281.000000</td>\n",
       "      <td>9171.000000</td>\n",
       "      <td>5622.000000</td>\n",
       "      <td>10557.000000</td>\n",
       "      <td>13281.000000</td>\n",
       "      <td>13281.000000</td>\n",
       "      <td>13281.000000</td>\n",
       "      <td>13281.000000</td>\n",
       "      <td>...</td>\n",
       "      <td>13281.000000</td>\n",
       "      <td>13281.000000</td>\n",
       "      <td>13281.000000</td>\n",
       "      <td>13281.000000</td>\n",
       "      <td>13281.000000</td>\n",
       "      <td>13281.000000</td>\n",
       "      <td>13281.000000</td>\n",
       "      <td>13281.000000</td>\n",
       "      <td>13281.000000</td>\n",
       "      <td>13281.000000</td>\n",
       "    </tr>\n",
       "    <tr>\n",
       "      <th>mean</th>\n",
       "      <td>0.416971</td>\n",
       "      <td>42.375574</td>\n",
       "      <td>1.302763</td>\n",
       "      <td>0.401947</td>\n",
       "      <td>0.076340</td>\n",
       "      <td>0.232600</td>\n",
       "      <td>2009.996009</td>\n",
       "      <td>16.154506</td>\n",
       "      <td>2010.995783</td>\n",
       "      <td>15.998494</td>\n",
       "      <td>...</td>\n",
       "      <td>0.080867</td>\n",
       "      <td>0.082449</td>\n",
       "      <td>0.096830</td>\n",
       "      <td>0.093743</td>\n",
       "      <td>0.066109</td>\n",
       "      <td>0.088171</td>\n",
       "      <td>0.075823</td>\n",
       "      <td>0.082449</td>\n",
       "      <td>0.084933</td>\n",
       "      <td>0.077329</td>\n",
       "    </tr>\n",
       "    <tr>\n",
       "      <th>std</th>\n",
       "      <td>0.611957</td>\n",
       "      <td>93.170951</td>\n",
       "      <td>0.723195</td>\n",
       "      <td>0.160125</td>\n",
       "      <td>0.060614</td>\n",
       "      <td>0.186535</td>\n",
       "      <td>0.153961</td>\n",
       "      <td>8.874429</td>\n",
       "      <td>0.493464</td>\n",
       "      <td>8.963396</td>\n",
       "      <td>...</td>\n",
       "      <td>0.272642</td>\n",
       "      <td>0.275057</td>\n",
       "      <td>0.295737</td>\n",
       "      <td>0.291482</td>\n",
       "      <td>0.248483</td>\n",
       "      <td>0.283554</td>\n",
       "      <td>0.264724</td>\n",
       "      <td>0.275057</td>\n",
       "      <td>0.278793</td>\n",
       "      <td>0.267122</td>\n",
       "    </tr>\n",
       "    <tr>\n",
       "      <th>min</th>\n",
       "      <td>0.000000</td>\n",
       "      <td>-6099.000000</td>\n",
       "      <td>1.000000</td>\n",
       "      <td>0.000075</td>\n",
       "      <td>0.000075</td>\n",
       "      <td>0.000075</td>\n",
       "      <td>2001.000000</td>\n",
       "      <td>1.000000</td>\n",
       "      <td>2010.000000</td>\n",
       "      <td>1.000000</td>\n",
       "      <td>...</td>\n",
       "      <td>0.000000</td>\n",
       "      <td>0.000000</td>\n",
       "      <td>0.000000</td>\n",
       "      <td>0.000000</td>\n",
       "      <td>0.000000</td>\n",
       "      <td>0.000000</td>\n",
       "      <td>0.000000</td>\n",
       "      <td>0.000000</td>\n",
       "      <td>0.000000</td>\n",
       "      <td>0.000000</td>\n",
       "    </tr>\n",
       "    <tr>\n",
       "      <th>25%</th>\n",
       "      <td>0.000000</td>\n",
       "      <td>35.000000</td>\n",
       "      <td>1.000000</td>\n",
       "      <td>0.167382</td>\n",
       "      <td>0.024170</td>\n",
       "      <td>0.038551</td>\n",
       "      <td>2010.000000</td>\n",
       "      <td>8.000000</td>\n",
       "      <td>2011.000000</td>\n",
       "      <td>8.000000</td>\n",
       "      <td>...</td>\n",
       "      <td>0.000000</td>\n",
       "      <td>0.000000</td>\n",
       "      <td>0.000000</td>\n",
       "      <td>0.000000</td>\n",
       "      <td>0.000000</td>\n",
       "      <td>0.000000</td>\n",
       "      <td>0.000000</td>\n",
       "      <td>0.000000</td>\n",
       "      <td>0.000000</td>\n",
       "      <td>0.000000</td>\n",
       "    </tr>\n",
       "    <tr>\n",
       "      <th>50%</th>\n",
       "      <td>0.000000</td>\n",
       "      <td>41.000000</td>\n",
       "      <td>1.000000</td>\n",
       "      <td>0.499435</td>\n",
       "      <td>0.042542</td>\n",
       "      <td>0.411565</td>\n",
       "      <td>2010.000000</td>\n",
       "      <td>16.000000</td>\n",
       "      <td>2011.000000</td>\n",
       "      <td>16.000000</td>\n",
       "      <td>...</td>\n",
       "      <td>0.000000</td>\n",
       "      <td>0.000000</td>\n",
       "      <td>0.000000</td>\n",
       "      <td>0.000000</td>\n",
       "      <td>0.000000</td>\n",
       "      <td>0.000000</td>\n",
       "      <td>0.000000</td>\n",
       "      <td>0.000000</td>\n",
       "      <td>0.000000</td>\n",
       "      <td>0.000000</td>\n",
       "    </tr>\n",
       "    <tr>\n",
       "      <th>75%</th>\n",
       "      <td>1.000000</td>\n",
       "      <td>50.000000</td>\n",
       "      <td>1.000000</td>\n",
       "      <td>0.499435</td>\n",
       "      <td>0.154883</td>\n",
       "      <td>0.411565</td>\n",
       "      <td>2010.000000</td>\n",
       "      <td>24.000000</td>\n",
       "      <td>2011.000000</td>\n",
       "      <td>24.000000</td>\n",
       "      <td>...</td>\n",
       "      <td>0.000000</td>\n",
       "      <td>0.000000</td>\n",
       "      <td>0.000000</td>\n",
       "      <td>0.000000</td>\n",
       "      <td>0.000000</td>\n",
       "      <td>0.000000</td>\n",
       "      <td>0.000000</td>\n",
       "      <td>0.000000</td>\n",
       "      <td>0.000000</td>\n",
       "      <td>0.000000</td>\n",
       "    </tr>\n",
       "    <tr>\n",
       "      <th>max</th>\n",
       "      <td>2.000000</td>\n",
       "      <td>320.000000</td>\n",
       "      <td>10.000000</td>\n",
       "      <td>0.499435</td>\n",
       "      <td>0.154883</td>\n",
       "      <td>0.411565</td>\n",
       "      <td>2010.000000</td>\n",
       "      <td>31.000000</td>\n",
       "      <td>2041.000000</td>\n",
       "      <td>31.000000</td>\n",
       "      <td>...</td>\n",
       "      <td>1.000000</td>\n",
       "      <td>1.000000</td>\n",
       "      <td>1.000000</td>\n",
       "      <td>1.000000</td>\n",
       "      <td>1.000000</td>\n",
       "      <td>1.000000</td>\n",
       "      <td>1.000000</td>\n",
       "      <td>1.000000</td>\n",
       "      <td>1.000000</td>\n",
       "      <td>1.000000</td>\n",
       "    </tr>\n",
       "  </tbody>\n",
       "</table>\n",
       "<p>8 rows × 58 columns</p>\n",
       "</div>"
      ],
      "text/plain": [
       "             Gender           Age        No_Pol  Car_Category  \\\n",
       "count  12881.000000  13281.000000  13281.000000   9171.000000   \n",
       "mean       0.416971     42.375574      1.302763      0.401947   \n",
       "std        0.611957     93.170951      0.723195      0.160125   \n",
       "min        0.000000  -6099.000000      1.000000      0.000075   \n",
       "25%        0.000000     35.000000      1.000000      0.167382   \n",
       "50%        0.000000     41.000000      1.000000      0.499435   \n",
       "75%        1.000000     50.000000      1.000000      0.499435   \n",
       "max        2.000000    320.000000     10.000000      0.499435   \n",
       "\n",
       "       Subject_Car_Colour  Subject_Car_Make  Policy Start Year  \\\n",
       "count         5622.000000      10557.000000       13281.000000   \n",
       "mean             0.076340          0.232600        2009.996009   \n",
       "std              0.060614          0.186535           0.153961   \n",
       "min              0.000075          0.000075        2001.000000   \n",
       "25%              0.024170          0.038551        2010.000000   \n",
       "50%              0.042542          0.411565        2010.000000   \n",
       "75%              0.154883          0.411565        2010.000000   \n",
       "max              0.154883          0.411565        2010.000000   \n",
       "\n",
       "       Policy Start Day  Policy End Year  Policy End Day  ...  \\\n",
       "count      13281.000000     13281.000000    13281.000000  ...   \n",
       "mean          16.154506      2010.995783       15.998494  ...   \n",
       "std            8.874429         0.493464        8.963396  ...   \n",
       "min            1.000000      2010.000000        1.000000  ...   \n",
       "25%            8.000000      2011.000000        8.000000  ...   \n",
       "50%           16.000000      2011.000000       16.000000  ...   \n",
       "75%           24.000000      2011.000000       24.000000  ...   \n",
       "max           31.000000      2041.000000       31.000000  ...   \n",
       "\n",
       "       First_Transaction_Month_December  First_Transaction_Month_February  \\\n",
       "count                      13281.000000                      13281.000000   \n",
       "mean                           0.080867                          0.082449   \n",
       "std                            0.272642                          0.275057   \n",
       "min                            0.000000                          0.000000   \n",
       "25%                            0.000000                          0.000000   \n",
       "50%                            0.000000                          0.000000   \n",
       "75%                            0.000000                          0.000000   \n",
       "max                            1.000000                          1.000000   \n",
       "\n",
       "       First_Transaction_Month_January  First_Transaction_Month_July  \\\n",
       "count                     13281.000000                  13281.000000   \n",
       "mean                          0.096830                      0.093743   \n",
       "std                           0.295737                      0.291482   \n",
       "min                           0.000000                      0.000000   \n",
       "25%                           0.000000                      0.000000   \n",
       "50%                           0.000000                      0.000000   \n",
       "75%                           0.000000                      0.000000   \n",
       "max                           1.000000                      1.000000   \n",
       "\n",
       "       First_Transaction_Month_June  First_Transaction_Month_March  \\\n",
       "count                  13281.000000                   13281.000000   \n",
       "mean                       0.066109                       0.088171   \n",
       "std                        0.248483                       0.283554   \n",
       "min                        0.000000                       0.000000   \n",
       "25%                        0.000000                       0.000000   \n",
       "50%                        0.000000                       0.000000   \n",
       "75%                        0.000000                       0.000000   \n",
       "max                        1.000000                       1.000000   \n",
       "\n",
       "       First_Transaction_Month_May  First_Transaction_Month_November  \\\n",
       "count                 13281.000000                      13281.000000   \n",
       "mean                      0.075823                          0.082449   \n",
       "std                       0.264724                          0.275057   \n",
       "min                       0.000000                          0.000000   \n",
       "25%                       0.000000                          0.000000   \n",
       "50%                       0.000000                          0.000000   \n",
       "75%                       0.000000                          0.000000   \n",
       "max                       1.000000                          1.000000   \n",
       "\n",
       "       First_Transaction_Month_Octomber  First_Transaction_Month_September  \n",
       "count                      13281.000000                       13281.000000  \n",
       "mean                           0.084933                           0.077329  \n",
       "std                            0.278793                           0.267122  \n",
       "min                            0.000000                           0.000000  \n",
       "25%                            0.000000                           0.000000  \n",
       "50%                            0.000000                           0.000000  \n",
       "75%                            0.000000                           0.000000  \n",
       "max                            1.000000                           1.000000  \n",
       "\n",
       "[8 rows x 58 columns]"
      ]
     },
     "execution_count": 37,
     "metadata": {},
     "output_type": "execute_result"
    }
   ],
   "source": [
    "data.describe()"
   ]
  },
  {
   "cell_type": "markdown",
   "id": "atmospheric-victorian",
   "metadata": {},
   "source": [
    "#### Using Z Score"
   ]
  },
  {
   "cell_type": "markdown",
   "id": "spectacular-myanmar",
   "metadata": {},
   "source": [
    "z=(observation-mean)/std"
   ]
  },
  {
   "cell_type": "code",
   "execution_count": 38,
   "id": "fifty-density",
   "metadata": {},
   "outputs": [],
   "source": [
    "data['Age']=np.abs(data['Age'])"
   ]
  },
  {
   "cell_type": "code",
   "execution_count": 39,
   "id": "living-florida",
   "metadata": {},
   "outputs": [],
   "source": [
    "outliers_1=[]\n",
    "def detect_outliers(feature):\n",
    "    \n",
    "    threshold=2\n",
    "    mean=data[feature].mean()\n",
    "    std=data[feature].std()\n",
    "    \n",
    "    for i in data[feature]:\n",
    "        z_score=(i-mean)/std\n",
    "        if np.abs(z_score) > threshold:\n",
    "            outliers_1.append(i)\n",
    "           \n",
    "    return outliers_1"
   ]
  },
  {
   "cell_type": "code",
   "execution_count": 40,
   "id": "several-acoustic",
   "metadata": {
    "scrolled": true
   },
   "outputs": [
    {
     "data": {
      "text/plain": [
       "[320, 6099, 320, 5939, 320, 320, 320, 5939, 320, 320, 320, 320, 320, 320, 320]"
      ]
     },
     "execution_count": 40,
     "metadata": {},
     "output_type": "execute_result"
    }
   ],
   "source": [
    "age_outlier=detect_outliers('Age')\n",
    "age_outlier"
   ]
  },
  {
   "cell_type": "code",
   "execution_count": 41,
   "id": "mobile-slovak",
   "metadata": {},
   "outputs": [],
   "source": [
    "data['Age_z_score']=np.abs(data['Age']-data['Age'].mean())/data['Age'].std()"
   ]
  },
  {
   "cell_type": "code",
   "execution_count": 42,
   "id": "confidential-edinburgh",
   "metadata": {},
   "outputs": [
    {
     "data": {
      "text/html": [
       "<div>\n",
       "<style scoped>\n",
       "    .dataframe tbody tr th:only-of-type {\n",
       "        vertical-align: middle;\n",
       "    }\n",
       "\n",
       "    .dataframe tbody tr th {\n",
       "        vertical-align: top;\n",
       "    }\n",
       "\n",
       "    .dataframe thead th {\n",
       "        text-align: right;\n",
       "    }\n",
       "</style>\n",
       "<table border=\"1\" class=\"dataframe\">\n",
       "  <thead>\n",
       "    <tr style=\"text-align: right;\">\n",
       "      <th></th>\n",
       "      <th>Gender</th>\n",
       "      <th>Age</th>\n",
       "      <th>No_Pol</th>\n",
       "      <th>Car_Category</th>\n",
       "      <th>Subject_Car_Colour</th>\n",
       "      <th>Subject_Car_Make</th>\n",
       "      <th>Policy Start Year</th>\n",
       "      <th>Policy Start Day</th>\n",
       "      <th>Policy End Year</th>\n",
       "      <th>Policy End Day</th>\n",
       "      <th>...</th>\n",
       "      <th>First_Transaction_Month_February</th>\n",
       "      <th>First_Transaction_Month_January</th>\n",
       "      <th>First_Transaction_Month_July</th>\n",
       "      <th>First_Transaction_Month_June</th>\n",
       "      <th>First_Transaction_Month_March</th>\n",
       "      <th>First_Transaction_Month_May</th>\n",
       "      <th>First_Transaction_Month_November</th>\n",
       "      <th>First_Transaction_Month_Octomber</th>\n",
       "      <th>First_Transaction_Month_September</th>\n",
       "      <th>Age_z_score</th>\n",
       "    </tr>\n",
       "  </thead>\n",
       "  <tbody>\n",
       "    <tr>\n",
       "      <th>0</th>\n",
       "      <td>0.0</td>\n",
       "      <td>30</td>\n",
       "      <td>1</td>\n",
       "      <td>0.499435</td>\n",
       "      <td>0.154883</td>\n",
       "      <td>0.411565</td>\n",
       "      <td>2010</td>\n",
       "      <td>14</td>\n",
       "      <td>2011</td>\n",
       "      <td>13</td>\n",
       "      <td>...</td>\n",
       "      <td>0</td>\n",
       "      <td>0</td>\n",
       "      <td>0</td>\n",
       "      <td>0</td>\n",
       "      <td>0</td>\n",
       "      <td>1</td>\n",
       "      <td>0</td>\n",
       "      <td>0</td>\n",
       "      <td>0</td>\n",
       "      <td>0.164905</td>\n",
       "    </tr>\n",
       "    <tr>\n",
       "      <th>1</th>\n",
       "      <td>1.0</td>\n",
       "      <td>79</td>\n",
       "      <td>1</td>\n",
       "      <td>0.167382</td>\n",
       "      <td>0.042542</td>\n",
       "      <td>0.411565</td>\n",
       "      <td>2010</td>\n",
       "      <td>29</td>\n",
       "      <td>2011</td>\n",
       "      <td>28</td>\n",
       "      <td>...</td>\n",
       "      <td>0</td>\n",
       "      <td>0</td>\n",
       "      <td>0</td>\n",
       "      <td>0</td>\n",
       "      <td>0</td>\n",
       "      <td>0</td>\n",
       "      <td>1</td>\n",
       "      <td>0</td>\n",
       "      <td>0</td>\n",
       "      <td>0.368519</td>\n",
       "    </tr>\n",
       "    <tr>\n",
       "      <th>2</th>\n",
       "      <td>0.0</td>\n",
       "      <td>43</td>\n",
       "      <td>1</td>\n",
       "      <td>0.499435</td>\n",
       "      <td>0.020631</td>\n",
       "      <td>0.411565</td>\n",
       "      <td>2010</td>\n",
       "      <td>21</td>\n",
       "      <td>2011</td>\n",
       "      <td>20</td>\n",
       "      <td>...</td>\n",
       "      <td>0</td>\n",
       "      <td>0</td>\n",
       "      <td>0</td>\n",
       "      <td>0</td>\n",
       "      <td>1</td>\n",
       "      <td>0</td>\n",
       "      <td>0</td>\n",
       "      <td>0</td>\n",
       "      <td>0</td>\n",
       "      <td>0.023385</td>\n",
       "    </tr>\n",
       "    <tr>\n",
       "      <th>3</th>\n",
       "      <td>0.0</td>\n",
       "      <td>2</td>\n",
       "      <td>1</td>\n",
       "      <td>NaN</td>\n",
       "      <td>NaN</td>\n",
       "      <td>NaN</td>\n",
       "      <td>2010</td>\n",
       "      <td>21</td>\n",
       "      <td>2011</td>\n",
       "      <td>20</td>\n",
       "      <td>...</td>\n",
       "      <td>0</td>\n",
       "      <td>0</td>\n",
       "      <td>0</td>\n",
       "      <td>0</td>\n",
       "      <td>0</td>\n",
       "      <td>0</td>\n",
       "      <td>0</td>\n",
       "      <td>0</td>\n",
       "      <td>0</td>\n",
       "      <td>0.469719</td>\n",
       "    </tr>\n",
       "    <tr>\n",
       "      <th>4</th>\n",
       "      <td>2.0</td>\n",
       "      <td>20</td>\n",
       "      <td>3</td>\n",
       "      <td>NaN</td>\n",
       "      <td>NaN</td>\n",
       "      <td>NaN</td>\n",
       "      <td>2010</td>\n",
       "      <td>29</td>\n",
       "      <td>2010</td>\n",
       "      <td>31</td>\n",
       "      <td>...</td>\n",
       "      <td>0</td>\n",
       "      <td>0</td>\n",
       "      <td>0</td>\n",
       "      <td>0</td>\n",
       "      <td>0</td>\n",
       "      <td>0</td>\n",
       "      <td>0</td>\n",
       "      <td>0</td>\n",
       "      <td>0</td>\n",
       "      <td>0.273767</td>\n",
       "    </tr>\n",
       "  </tbody>\n",
       "</table>\n",
       "<p>5 rows × 59 columns</p>\n",
       "</div>"
      ],
      "text/plain": [
       "   Gender  Age  No_Pol  Car_Category  Subject_Car_Colour  Subject_Car_Make  \\\n",
       "0     0.0   30       1      0.499435            0.154883          0.411565   \n",
       "1     1.0   79       1      0.167382            0.042542          0.411565   \n",
       "2     0.0   43       1      0.499435            0.020631          0.411565   \n",
       "3     0.0    2       1           NaN                 NaN               NaN   \n",
       "4     2.0   20       3           NaN                 NaN               NaN   \n",
       "\n",
       "   Policy Start Year  Policy Start Day  Policy End Year  Policy End Day  ...  \\\n",
       "0               2010                14             2011              13  ...   \n",
       "1               2010                29             2011              28  ...   \n",
       "2               2010                21             2011              20  ...   \n",
       "3               2010                21             2011              20  ...   \n",
       "4               2010                29             2010              31  ...   \n",
       "\n",
       "   First_Transaction_Month_February  First_Transaction_Month_January  \\\n",
       "0                                 0                                0   \n",
       "1                                 0                                0   \n",
       "2                                 0                                0   \n",
       "3                                 0                                0   \n",
       "4                                 0                                0   \n",
       "\n",
       "   First_Transaction_Month_July  First_Transaction_Month_June  \\\n",
       "0                             0                             0   \n",
       "1                             0                             0   \n",
       "2                             0                             0   \n",
       "3                             0                             0   \n",
       "4                             0                             0   \n",
       "\n",
       "   First_Transaction_Month_March  First_Transaction_Month_May  \\\n",
       "0                              0                            1   \n",
       "1                              0                            0   \n",
       "2                              1                            0   \n",
       "3                              0                            0   \n",
       "4                              0                            0   \n",
       "\n",
       "   First_Transaction_Month_November  First_Transaction_Month_Octomber  \\\n",
       "0                                 0                                 0   \n",
       "1                                 1                                 0   \n",
       "2                                 0                                 0   \n",
       "3                                 0                                 0   \n",
       "4                                 0                                 0   \n",
       "\n",
       "   First_Transaction_Month_September  Age_z_score  \n",
       "0                                  0     0.164905  \n",
       "1                                  0     0.368519  \n",
       "2                                  0     0.023385  \n",
       "3                                  0     0.469719  \n",
       "4                                  0     0.273767  \n",
       "\n",
       "[5 rows x 59 columns]"
      ]
     },
     "execution_count": 42,
     "metadata": {},
     "output_type": "execute_result"
    }
   ],
   "source": [
    "data.head()"
   ]
  },
  {
   "cell_type": "code",
   "execution_count": 43,
   "id": "continuous-opera",
   "metadata": {},
   "outputs": [],
   "source": [
    "index=data[data['Age_z_score']>2].index.to_list()"
   ]
  },
  {
   "cell_type": "code",
   "execution_count": 44,
   "id": "designing-impression",
   "metadata": {},
   "outputs": [
    {
     "data": {
      "text/plain": [
       "(13281, 59)"
      ]
     },
     "execution_count": 44,
     "metadata": {},
     "output_type": "execute_result"
    }
   ],
   "source": [
    "data.shape"
   ]
  },
  {
   "cell_type": "code",
   "execution_count": 45,
   "id": "standard-television",
   "metadata": {},
   "outputs": [
    {
     "name": "stdout",
     "output_type": "stream",
     "text": [
      "<class 'pandas.core.frame.DataFrame'>\n",
      "Int64Index: 13281 entries, 0 to 1201\n",
      "Data columns (total 59 columns):\n",
      " #   Column                             Non-Null Count  Dtype  \n",
      "---  ------                             --------------  -----  \n",
      " 0   Gender                             12881 non-null  float64\n",
      " 1   Age                                13281 non-null  int64  \n",
      " 2   No_Pol                             13281 non-null  int64  \n",
      " 3   Car_Category                       9171 non-null   float64\n",
      " 4   Subject_Car_Colour                 5622 non-null   float64\n",
      " 5   Subject_Car_Make                   10557 non-null  float64\n",
      " 6   Policy Start Year                  13281 non-null  int64  \n",
      " 7   Policy Start Day                   13281 non-null  int64  \n",
      " 8   Policy End Year                    13281 non-null  int64  \n",
      " 9   Policy End Day                     13281 non-null  int64  \n",
      " 10  First Transaction Year             13281 non-null  int64  \n",
      " 11  First Transaction Day              13281 non-null  int64  \n",
      " 12  Policy Interval                    13281 non-null  int64  \n",
      " 13  ProductName_CVTP                   13281 non-null  uint8  \n",
      " 14  ProductName_Car Classic            13281 non-null  uint8  \n",
      " 15  ProductName_Car Plus               13281 non-null  uint8  \n",
      " 16  ProductName_Car Vintage            13281 non-null  uint8  \n",
      " 17  ProductName_CarFlex                13281 non-null  uint8  \n",
      " 18  ProductName_CarSafe                13281 non-null  uint8  \n",
      " 19  ProductName_Customized Motor       13281 non-null  uint8  \n",
      " 20  ProductName_Motor Cycle            13281 non-null  uint8  \n",
      " 21  ProductName_Muuve                  13281 non-null  uint8  \n",
      " 22  Policy_Start_Month_April           13281 non-null  uint8  \n",
      " 23  Policy_Start_Month_August          13281 non-null  uint8  \n",
      " 24  Policy_Start_Month_December        13281 non-null  uint8  \n",
      " 25  Policy_Start_Month_February        13281 non-null  uint8  \n",
      " 26  Policy_Start_Month_January         13281 non-null  uint8  \n",
      " 27  Policy_Start_Month_July            13281 non-null  uint8  \n",
      " 28  Policy_Start_Month_June            13281 non-null  uint8  \n",
      " 29  Policy_Start_Month_March           13281 non-null  uint8  \n",
      " 30  Policy_Start_Month_May             13281 non-null  uint8  \n",
      " 31  Policy_Start_Month_November        13281 non-null  uint8  \n",
      " 32  Policy_Start_Month_Octomber        13281 non-null  uint8  \n",
      " 33  Policy_Start_Month_September       13281 non-null  uint8  \n",
      " 34  Policy_End_Month_April             13281 non-null  uint8  \n",
      " 35  Policy_End_Month_August            13281 non-null  uint8  \n",
      " 36  Policy_End_Month_December          13281 non-null  uint8  \n",
      " 37  Policy_End_Month_February          13281 non-null  uint8  \n",
      " 38  Policy_End_Month_January           13281 non-null  uint8  \n",
      " 39  Policy_End_Month_July              13281 non-null  uint8  \n",
      " 40  Policy_End_Month_June              13281 non-null  uint8  \n",
      " 41  Policy_End_Month_March             13281 non-null  uint8  \n",
      " 42  Policy_End_Month_May               13281 non-null  uint8  \n",
      " 43  Policy_End_Month_November          13281 non-null  uint8  \n",
      " 44  Policy_End_Month_Octomber          13281 non-null  uint8  \n",
      " 45  Policy_End_Month_September         13281 non-null  uint8  \n",
      " 46  First_Transaction_Month_April      13281 non-null  uint8  \n",
      " 47  First_Transaction_Month_August     13281 non-null  uint8  \n",
      " 48  First_Transaction_Month_December   13281 non-null  uint8  \n",
      " 49  First_Transaction_Month_February   13281 non-null  uint8  \n",
      " 50  First_Transaction_Month_January    13281 non-null  uint8  \n",
      " 51  First_Transaction_Month_July       13281 non-null  uint8  \n",
      " 52  First_Transaction_Month_June       13281 non-null  uint8  \n",
      " 53  First_Transaction_Month_March      13281 non-null  uint8  \n",
      " 54  First_Transaction_Month_May        13281 non-null  uint8  \n",
      " 55  First_Transaction_Month_November   13281 non-null  uint8  \n",
      " 56  First_Transaction_Month_Octomber   13281 non-null  uint8  \n",
      " 57  First_Transaction_Month_September  13281 non-null  uint8  \n",
      " 58  Age_z_score                        13281 non-null  float64\n",
      "dtypes: float64(5), int64(9), uint8(45)\n",
      "memory usage: 2.1 MB\n"
     ]
    }
   ],
   "source": [
    "data.info()"
   ]
  },
  {
   "cell_type": "code",
   "execution_count": 46,
   "id": "chronic-diabetes",
   "metadata": {},
   "outputs": [
    {
     "data": {
      "text/plain": [
       "(13281, 59)"
      ]
     },
     "execution_count": 46,
     "metadata": {},
     "output_type": "execute_result"
    }
   ],
   "source": [
    "data.shape"
   ]
  },
  {
   "cell_type": "code",
   "execution_count": 47,
   "id": "official-breakdown",
   "metadata": {},
   "outputs": [
    {
     "data": {
      "text/html": [
       "<div>\n",
       "<style scoped>\n",
       "    .dataframe tbody tr th:only-of-type {\n",
       "        vertical-align: middle;\n",
       "    }\n",
       "\n",
       "    .dataframe tbody tr th {\n",
       "        vertical-align: top;\n",
       "    }\n",
       "\n",
       "    .dataframe thead th {\n",
       "        text-align: right;\n",
       "    }\n",
       "</style>\n",
       "<table border=\"1\" class=\"dataframe\">\n",
       "  <thead>\n",
       "    <tr style=\"text-align: right;\">\n",
       "      <th></th>\n",
       "      <th>Gender</th>\n",
       "      <th>Age</th>\n",
       "      <th>No_Pol</th>\n",
       "      <th>Car_Category</th>\n",
       "      <th>Subject_Car_Colour</th>\n",
       "      <th>Subject_Car_Make</th>\n",
       "      <th>Policy Start Year</th>\n",
       "      <th>Policy Start Day</th>\n",
       "      <th>Policy End Year</th>\n",
       "      <th>Policy End Day</th>\n",
       "      <th>...</th>\n",
       "      <th>First_Transaction_Month_February</th>\n",
       "      <th>First_Transaction_Month_January</th>\n",
       "      <th>First_Transaction_Month_July</th>\n",
       "      <th>First_Transaction_Month_June</th>\n",
       "      <th>First_Transaction_Month_March</th>\n",
       "      <th>First_Transaction_Month_May</th>\n",
       "      <th>First_Transaction_Month_November</th>\n",
       "      <th>First_Transaction_Month_Octomber</th>\n",
       "      <th>First_Transaction_Month_September</th>\n",
       "      <th>Age_z_score</th>\n",
       "    </tr>\n",
       "  </thead>\n",
       "  <tbody>\n",
       "    <tr>\n",
       "      <th>count</th>\n",
       "      <td>12881.000000</td>\n",
       "      <td>13281.000000</td>\n",
       "      <td>13281.000000</td>\n",
       "      <td>9171.000000</td>\n",
       "      <td>5622.000000</td>\n",
       "      <td>10557.000000</td>\n",
       "      <td>13281.000000</td>\n",
       "      <td>13281.000000</td>\n",
       "      <td>13281.000000</td>\n",
       "      <td>13281.000000</td>\n",
       "      <td>...</td>\n",
       "      <td>13281.000000</td>\n",
       "      <td>13281.000000</td>\n",
       "      <td>13281.000000</td>\n",
       "      <td>13281.000000</td>\n",
       "      <td>13281.000000</td>\n",
       "      <td>13281.000000</td>\n",
       "      <td>13281.000000</td>\n",
       "      <td>13281.000000</td>\n",
       "      <td>13281.000000</td>\n",
       "      <td>13281.000000</td>\n",
       "    </tr>\n",
       "    <tr>\n",
       "      <th>mean</th>\n",
       "      <td>0.416971</td>\n",
       "      <td>45.148106</td>\n",
       "      <td>1.302763</td>\n",
       "      <td>0.401947</td>\n",
       "      <td>0.076340</td>\n",
       "      <td>0.232600</td>\n",
       "      <td>2009.996009</td>\n",
       "      <td>16.154506</td>\n",
       "      <td>2010.995783</td>\n",
       "      <td>15.998494</td>\n",
       "      <td>...</td>\n",
       "      <td>0.082449</td>\n",
       "      <td>0.096830</td>\n",
       "      <td>0.093743</td>\n",
       "      <td>0.066109</td>\n",
       "      <td>0.088171</td>\n",
       "      <td>0.075823</td>\n",
       "      <td>0.082449</td>\n",
       "      <td>0.084933</td>\n",
       "      <td>0.077329</td>\n",
       "      <td>0.157492</td>\n",
       "    </tr>\n",
       "    <tr>\n",
       "      <th>std</th>\n",
       "      <td>0.611957</td>\n",
       "      <td>91.859380</td>\n",
       "      <td>0.723195</td>\n",
       "      <td>0.160125</td>\n",
       "      <td>0.060614</td>\n",
       "      <td>0.186535</td>\n",
       "      <td>0.153961</td>\n",
       "      <td>8.874429</td>\n",
       "      <td>0.493464</td>\n",
       "      <td>8.963396</td>\n",
       "      <td>...</td>\n",
       "      <td>0.275057</td>\n",
       "      <td>0.295737</td>\n",
       "      <td>0.291482</td>\n",
       "      <td>0.248483</td>\n",
       "      <td>0.283554</td>\n",
       "      <td>0.264724</td>\n",
       "      <td>0.275057</td>\n",
       "      <td>0.278793</td>\n",
       "      <td>0.267122</td>\n",
       "      <td>0.987519</td>\n",
       "    </tr>\n",
       "    <tr>\n",
       "      <th>min</th>\n",
       "      <td>0.000000</td>\n",
       "      <td>0.000000</td>\n",
       "      <td>1.000000</td>\n",
       "      <td>0.000075</td>\n",
       "      <td>0.000075</td>\n",
       "      <td>0.000075</td>\n",
       "      <td>2001.000000</td>\n",
       "      <td>1.000000</td>\n",
       "      <td>2010.000000</td>\n",
       "      <td>1.000000</td>\n",
       "      <td>...</td>\n",
       "      <td>0.000000</td>\n",
       "      <td>0.000000</td>\n",
       "      <td>0.000000</td>\n",
       "      <td>0.000000</td>\n",
       "      <td>0.000000</td>\n",
       "      <td>0.000000</td>\n",
       "      <td>0.000000</td>\n",
       "      <td>0.000000</td>\n",
       "      <td>0.000000</td>\n",
       "      <td>0.001612</td>\n",
       "    </tr>\n",
       "    <tr>\n",
       "      <th>25%</th>\n",
       "      <td>0.000000</td>\n",
       "      <td>35.000000</td>\n",
       "      <td>1.000000</td>\n",
       "      <td>0.167382</td>\n",
       "      <td>0.024170</td>\n",
       "      <td>0.038551</td>\n",
       "      <td>2010.000000</td>\n",
       "      <td>8.000000</td>\n",
       "      <td>2011.000000</td>\n",
       "      <td>8.000000</td>\n",
       "      <td>...</td>\n",
       "      <td>0.000000</td>\n",
       "      <td>0.000000</td>\n",
       "      <td>0.000000</td>\n",
       "      <td>0.000000</td>\n",
       "      <td>0.000000</td>\n",
       "      <td>0.000000</td>\n",
       "      <td>0.000000</td>\n",
       "      <td>0.000000</td>\n",
       "      <td>0.000000</td>\n",
       "      <td>0.052819</td>\n",
       "    </tr>\n",
       "    <tr>\n",
       "      <th>50%</th>\n",
       "      <td>0.000000</td>\n",
       "      <td>41.000000</td>\n",
       "      <td>1.000000</td>\n",
       "      <td>0.499435</td>\n",
       "      <td>0.042542</td>\n",
       "      <td>0.411565</td>\n",
       "      <td>2010.000000</td>\n",
       "      <td>16.000000</td>\n",
       "      <td>2011.000000</td>\n",
       "      <td>16.000000</td>\n",
       "      <td>...</td>\n",
       "      <td>0.000000</td>\n",
       "      <td>0.000000</td>\n",
       "      <td>0.000000</td>\n",
       "      <td>0.000000</td>\n",
       "      <td>0.000000</td>\n",
       "      <td>0.000000</td>\n",
       "      <td>0.000000</td>\n",
       "      <td>0.000000</td>\n",
       "      <td>0.000000</td>\n",
       "      <td>0.088702</td>\n",
       "    </tr>\n",
       "    <tr>\n",
       "      <th>75%</th>\n",
       "      <td>1.000000</td>\n",
       "      <td>50.000000</td>\n",
       "      <td>1.000000</td>\n",
       "      <td>0.499435</td>\n",
       "      <td>0.154883</td>\n",
       "      <td>0.411565</td>\n",
       "      <td>2010.000000</td>\n",
       "      <td>24.000000</td>\n",
       "      <td>2011.000000</td>\n",
       "      <td>24.000000</td>\n",
       "      <td>...</td>\n",
       "      <td>0.000000</td>\n",
       "      <td>0.000000</td>\n",
       "      <td>0.000000</td>\n",
       "      <td>0.000000</td>\n",
       "      <td>0.000000</td>\n",
       "      <td>0.000000</td>\n",
       "      <td>0.000000</td>\n",
       "      <td>0.000000</td>\n",
       "      <td>0.000000</td>\n",
       "      <td>0.164905</td>\n",
       "    </tr>\n",
       "    <tr>\n",
       "      <th>max</th>\n",
       "      <td>2.000000</td>\n",
       "      <td>6099.000000</td>\n",
       "      <td>10.000000</td>\n",
       "      <td>0.499435</td>\n",
       "      <td>0.154883</td>\n",
       "      <td>0.411565</td>\n",
       "      <td>2010.000000</td>\n",
       "      <td>31.000000</td>\n",
       "      <td>2041.000000</td>\n",
       "      <td>31.000000</td>\n",
       "      <td>...</td>\n",
       "      <td>1.000000</td>\n",
       "      <td>1.000000</td>\n",
       "      <td>1.000000</td>\n",
       "      <td>1.000000</td>\n",
       "      <td>1.000000</td>\n",
       "      <td>1.000000</td>\n",
       "      <td>1.000000</td>\n",
       "      <td>1.000000</td>\n",
       "      <td>1.000000</td>\n",
       "      <td>65.903470</td>\n",
       "    </tr>\n",
       "  </tbody>\n",
       "</table>\n",
       "<p>8 rows × 59 columns</p>\n",
       "</div>"
      ],
      "text/plain": [
       "             Gender           Age        No_Pol  Car_Category  \\\n",
       "count  12881.000000  13281.000000  13281.000000   9171.000000   \n",
       "mean       0.416971     45.148106      1.302763      0.401947   \n",
       "std        0.611957     91.859380      0.723195      0.160125   \n",
       "min        0.000000      0.000000      1.000000      0.000075   \n",
       "25%        0.000000     35.000000      1.000000      0.167382   \n",
       "50%        0.000000     41.000000      1.000000      0.499435   \n",
       "75%        1.000000     50.000000      1.000000      0.499435   \n",
       "max        2.000000   6099.000000     10.000000      0.499435   \n",
       "\n",
       "       Subject_Car_Colour  Subject_Car_Make  Policy Start Year  \\\n",
       "count         5622.000000      10557.000000       13281.000000   \n",
       "mean             0.076340          0.232600        2009.996009   \n",
       "std              0.060614          0.186535           0.153961   \n",
       "min              0.000075          0.000075        2001.000000   \n",
       "25%              0.024170          0.038551        2010.000000   \n",
       "50%              0.042542          0.411565        2010.000000   \n",
       "75%              0.154883          0.411565        2010.000000   \n",
       "max              0.154883          0.411565        2010.000000   \n",
       "\n",
       "       Policy Start Day  Policy End Year  Policy End Day  ...  \\\n",
       "count      13281.000000     13281.000000    13281.000000  ...   \n",
       "mean          16.154506      2010.995783       15.998494  ...   \n",
       "std            8.874429         0.493464        8.963396  ...   \n",
       "min            1.000000      2010.000000        1.000000  ...   \n",
       "25%            8.000000      2011.000000        8.000000  ...   \n",
       "50%           16.000000      2011.000000       16.000000  ...   \n",
       "75%           24.000000      2011.000000       24.000000  ...   \n",
       "max           31.000000      2041.000000       31.000000  ...   \n",
       "\n",
       "       First_Transaction_Month_February  First_Transaction_Month_January  \\\n",
       "count                      13281.000000                     13281.000000   \n",
       "mean                           0.082449                         0.096830   \n",
       "std                            0.275057                         0.295737   \n",
       "min                            0.000000                         0.000000   \n",
       "25%                            0.000000                         0.000000   \n",
       "50%                            0.000000                         0.000000   \n",
       "75%                            0.000000                         0.000000   \n",
       "max                            1.000000                         1.000000   \n",
       "\n",
       "       First_Transaction_Month_July  First_Transaction_Month_June  \\\n",
       "count                  13281.000000                  13281.000000   \n",
       "mean                       0.093743                      0.066109   \n",
       "std                        0.291482                      0.248483   \n",
       "min                        0.000000                      0.000000   \n",
       "25%                        0.000000                      0.000000   \n",
       "50%                        0.000000                      0.000000   \n",
       "75%                        0.000000                      0.000000   \n",
       "max                        1.000000                      1.000000   \n",
       "\n",
       "       First_Transaction_Month_March  First_Transaction_Month_May  \\\n",
       "count                   13281.000000                 13281.000000   \n",
       "mean                        0.088171                     0.075823   \n",
       "std                         0.283554                     0.264724   \n",
       "min                         0.000000                     0.000000   \n",
       "25%                         0.000000                     0.000000   \n",
       "50%                         0.000000                     0.000000   \n",
       "75%                         0.000000                     0.000000   \n",
       "max                         1.000000                     1.000000   \n",
       "\n",
       "       First_Transaction_Month_November  First_Transaction_Month_Octomber  \\\n",
       "count                      13281.000000                      13281.000000   \n",
       "mean                           0.082449                          0.084933   \n",
       "std                            0.275057                          0.278793   \n",
       "min                            0.000000                          0.000000   \n",
       "25%                            0.000000                          0.000000   \n",
       "50%                            0.000000                          0.000000   \n",
       "75%                            0.000000                          0.000000   \n",
       "max                            1.000000                          1.000000   \n",
       "\n",
       "       First_Transaction_Month_September   Age_z_score  \n",
       "count                       13281.000000  13281.000000  \n",
       "mean                            0.077329      0.157492  \n",
       "std                             0.267122      0.987519  \n",
       "min                             0.000000      0.001612  \n",
       "25%                             0.000000      0.052819  \n",
       "50%                             0.000000      0.088702  \n",
       "75%                             0.000000      0.164905  \n",
       "max                             1.000000     65.903470  \n",
       "\n",
       "[8 rows x 59 columns]"
      ]
     },
     "execution_count": 47,
     "metadata": {},
     "output_type": "execute_result"
    }
   ],
   "source": [
    "data.describe()"
   ]
  },
  {
   "cell_type": "code",
   "execution_count": 48,
   "id": "metropolitan-bradford",
   "metadata": {},
   "outputs": [],
   "source": [
    "new_col=data.columns\n",
    "imp=SimpleImputer(strategy='mean')\n",
    "data=data.values\n",
    "X=imp.fit_transform(data)\n",
    "\n",
    "data=pd.DataFrame(X,columns=new_col)"
   ]
  },
  {
   "cell_type": "code",
   "execution_count": 49,
   "id": "noticed-poultry",
   "metadata": {
    "scrolled": true
   },
   "outputs": [
    {
     "data": {
      "text/plain": [
       "<matplotlib.axes._subplots.AxesSubplot at 0xd82bbd78>"
      ]
     },
     "execution_count": 49,
     "metadata": {},
     "output_type": "execute_result"
    },
    {
     "data": {
      "image/png": "[encoded data removed]",
      "text/plain": [
       "<Figure size 432x288 with 2 Axes>"
      ]
     },
     "metadata": {
      "needs_background": "light"
     },
     "output_type": "display_data"
    }
   ],
   "source": [
    "sns.heatmap(data.isnull())"
   ]
  },
  {
   "cell_type": "markdown",
   "id": "fitting-office",
   "metadata": {},
   "source": [
    "## Dataset Segregation"
   ]
  },
  {
   "cell_type": "code",
   "execution_count": 50,
   "id": "narrow-transparency",
   "metadata": {},
   "outputs": [
    {
     "data": {
      "text/plain": [
       "<matplotlib.axes._subplots.AxesSubplot at 0xd8236568>"
      ]
     },
     "execution_count": 50,
     "metadata": {},
     "output_type": "execute_result"
    },
    {
     "data": {
      "image/png": "[encoded data removed]",
      "text/plain": [
       "<Figure size 432x288 with 1 Axes>"
      ]
     },
     "metadata": {
      "needs_background": "light"
     },
     "output_type": "display_data"
    }
   ],
   "source": [
    "sns.countplot(x='target',data=train)"
   ]
  },
  {
   "cell_type": "code",
   "execution_count": 51,
   "id": "eastern-infrastructure",
   "metadata": {},
   "outputs": [],
   "source": [
    "X=data[:train.shape[0]]\n",
    "test=data[train.shape[0]:]"
   ]
  },
  {
   "cell_type": "code",
   "execution_count": 52,
   "id": "third-coral",
   "metadata": {},
   "outputs": [
    {
     "data": {
      "text/plain": [
       "(13281, 59)"
      ]
     },
     "execution_count": 52,
     "metadata": {},
     "output_type": "execute_result"
    }
   ],
   "source": [
    "data.shape"
   ]
  },
  {
   "cell_type": "code",
   "execution_count": 53,
   "id": "demanding-storage",
   "metadata": {},
   "outputs": [
    {
     "data": {
      "text/plain": [
       "(1202, 59)"
      ]
     },
     "execution_count": 53,
     "metadata": {},
     "output_type": "execute_result"
    }
   ],
   "source": [
    "test.shape"
   ]
  },
  {
   "cell_type": "code",
   "execution_count": 54,
   "id": "peaceful-nylon",
   "metadata": {},
   "outputs": [
    {
     "data": {
      "text/plain": [
       "(12079, 14)"
      ]
     },
     "execution_count": 54,
     "metadata": {},
     "output_type": "execute_result"
    }
   ],
   "source": [
    "train.shape"
   ]
  },
  {
   "cell_type": "code",
   "execution_count": 55,
   "id": "tough-visitor",
   "metadata": {},
   "outputs": [],
   "source": [
    "X_train,X_test,y_train,y_test=train_test_split(X,target,stratify=target,random_state=16)"
   ]
  },
  {
   "cell_type": "markdown",
   "id": "fluid-sterling",
   "metadata": {},
   "source": [
    "## Logistic Regression Block"
   ]
  },
  {
   "cell_type": "code",
   "execution_count": 56,
   "id": "practical-attempt",
   "metadata": {
    "scrolled": true
   },
   "outputs": [
    {
     "data": {
      "text/plain": [
       "LogisticRegression()"
      ]
     },
     "execution_count": 56,
     "metadata": {},
     "output_type": "execute_result"
    }
   ],
   "source": [
    "lr=LogisticRegression()\n",
    "lr.fit(X_train,y_train)"
   ]
  },
  {
   "cell_type": "code",
   "execution_count": 57,
   "id": "naval-account",
   "metadata": {},
   "outputs": [
    {
     "name": "stdout",
     "output_type": "stream",
     "text": [
      "Train set score: 0.8764764322772933\n",
      "Test set score: 0.8771523178807947\n"
     ]
    }
   ],
   "source": [
    "print('Train set score: {}'.format(lr.score(X_train,y_train)))\n",
    "print('Test set score: {}'.format(lr.score(X_test,y_test)))"
   ]
  },
  {
   "cell_type": "code",
   "execution_count": 58,
   "id": "brilliant-legend",
   "metadata": {},
   "outputs": [],
   "source": [
    "pred_lr=lr.predict(X_test)"
   ]
  },
  {
   "cell_type": "code",
   "execution_count": 59,
   "id": "amazing-concentrate",
   "metadata": {},
   "outputs": [
    {
     "name": "stdout",
     "output_type": "stream",
     "text": [
      "Confusion Matrix\n",
      "[[2648  363]\n",
      " [   8    1]]\n"
     ]
    }
   ],
   "source": [
    "print('Confusion Matrix\\n{}'.format(confusion_matrix(pred_lr,y_test)))"
   ]
  },
  {
   "cell_type": "code",
   "execution_count": 60,
   "id": "hidden-ivory",
   "metadata": {},
   "outputs": [
    {
     "name": "stdout",
     "output_type": "stream",
     "text": [
      "Classification Report\n",
      "              precision    recall  f1-score   support\n",
      "\n",
      "           0       1.00      0.88      0.93      3011\n",
      "           1       0.00      0.11      0.01         9\n",
      "\n",
      "    accuracy                           0.88      3020\n",
      "   macro avg       0.50      0.50      0.47      3020\n",
      "weighted avg       0.99      0.88      0.93      3020\n",
      "\n"
     ]
    }
   ],
   "source": [
    "print('Classification Report\\n{}'.format(classification_report(pred_lr,y_test)))"
   ]
  },
  {
   "cell_type": "markdown",
   "id": "wired-purpose",
   "metadata": {},
   "source": [
    "## Support Vector Mechanism Block"
   ]
  },
  {
   "cell_type": "code",
   "execution_count": 61,
   "id": "sound-snapshot",
   "metadata": {},
   "outputs": [
    {
     "data": {
      "text/plain": [
       "SVC()"
      ]
     },
     "execution_count": 61,
     "metadata": {},
     "output_type": "execute_result"
    }
   ],
   "source": [
    "svm=SVC()\n",
    "svm.fit(X_train,y_train)"
   ]
  },
  {
   "cell_type": "code",
   "execution_count": 62,
   "id": "severe-parking",
   "metadata": {},
   "outputs": [
    {
     "name": "stdout",
     "output_type": "stream",
     "text": [
      "Train set score: 0.8795672811568606\n",
      "Test set score: 0.8794701986754967\n"
     ]
    }
   ],
   "source": [
    "print('Train set score: {}'.format(svm.score(X_train,y_train)))\n",
    "print('Test set score: {}'.format(svm.score(X_test,y_test)))"
   ]
  },
  {
   "cell_type": "code",
   "execution_count": 63,
   "id": "seventh-respect",
   "metadata": {},
   "outputs": [],
   "source": [
    "pred_svm=svm.predict(X_test)"
   ]
  },
  {
   "cell_type": "code",
   "execution_count": 64,
   "id": "consolidated-rating",
   "metadata": {},
   "outputs": [
    {
     "name": "stdout",
     "output_type": "stream",
     "text": [
      "Confusion Matrix\n",
      "[[2656  364]\n",
      " [   0    0]]\n",
      "\n",
      "Classification Report\n",
      "              precision    recall  f1-score   support\n",
      "\n",
      "           0       1.00      0.88      0.94      3020\n",
      "           1       0.00      0.00      0.00         0\n",
      "\n",
      "    accuracy                           0.88      3020\n",
      "   macro avg       0.50      0.44      0.47      3020\n",
      "weighted avg       1.00      0.88      0.94      3020\n",
      "\n"
     ]
    }
   ],
   "source": [
    "print('Confusion Matrix\\n{}\\n'.format(confusion_matrix(pred_svm,y_test)))\n",
    "print('Classification Report\\n{}'.format(classification_report(pred_svm,y_test)))"
   ]
  },
  {
   "cell_type": "markdown",
   "id": "amateur-pledge",
   "metadata": {},
   "source": [
    "## Decision Tree Block"
   ]
  },
  {
   "cell_type": "code",
   "execution_count": 65,
   "id": "alleged-technology",
   "metadata": {},
   "outputs": [
    {
     "data": {
      "text/plain": [
       "DecisionTreeClassifier()"
      ]
     },
     "execution_count": 65,
     "metadata": {},
     "output_type": "execute_result"
    }
   ],
   "source": [
    "dt=DecisionTreeClassifier()\n",
    "dt.fit(X_train,y_train)"
   ]
  },
  {
   "cell_type": "code",
   "execution_count": 66,
   "id": "geographic-constitutional",
   "metadata": {},
   "outputs": [
    {
     "name": "stdout",
     "output_type": "stream",
     "text": [
      "Train set score: 0.9592670272657026\n",
      "Test set score: 0.8052980132450331\n"
     ]
    }
   ],
   "source": [
    "print('Train set score: {}'.format(dt.score(X_train,y_train)))\n",
    "print('Test set score: {}'.format(dt.score(X_test,y_test)))"
   ]
  },
  {
   "cell_type": "code",
   "execution_count": 67,
   "id": "available-horror",
   "metadata": {},
   "outputs": [],
   "source": [
    "pred_dt=svm.predict(X_test)"
   ]
  },
  {
   "cell_type": "code",
   "execution_count": 68,
   "id": "alert-tiffany",
   "metadata": {},
   "outputs": [
    {
     "name": "stdout",
     "output_type": "stream",
     "text": [
      "Confusion Matrix\n",
      "[[2656  364]\n",
      " [   0    0]]\n",
      "\n",
      "Classification Report\n",
      "              precision    recall  f1-score   support\n",
      "\n",
      "           0       1.00      0.88      0.94      3020\n",
      "           1       0.00      0.00      0.00         0\n",
      "\n",
      "    accuracy                           0.88      3020\n",
      "   macro avg       0.50      0.44      0.47      3020\n",
      "weighted avg       1.00      0.88      0.94      3020\n",
      "\n"
     ]
    }
   ],
   "source": [
    "print('Confusion Matrix\\n{}\\n'.format(confusion_matrix(pred_dt,y_test)))\n",
    "print('Classification Report\\n{}'.format(classification_report(pred_dt,y_test)))"
   ]
  },
  {
   "cell_type": "markdown",
   "id": "royal-recipe",
   "metadata": {},
   "source": [
    "## Random Forest Classifier"
   ]
  },
  {
   "cell_type": "code",
   "execution_count": 69,
   "id": "reduced-woman",
   "metadata": {},
   "outputs": [
    {
     "data": {
      "text/plain": [
       "RandomForestClassifier(class_weight={0: 10, 1: 100}, random_state=16)"
      ]
     },
     "execution_count": 69,
     "metadata": {},
     "output_type": "execute_result"
    }
   ],
   "source": [
    "class_weight={0:10,1:100}\n",
    "rf=RandomForestClassifier(random_state=16,class_weight=class_weight)\n",
    "rf.fit(X_train,y_train)"
   ]
  },
  {
   "cell_type": "code",
   "execution_count": 70,
   "id": "celtic-vampire",
   "metadata": {},
   "outputs": [
    {
     "name": "stdout",
     "output_type": "stream",
     "text": [
      "Train set score: 0.9587150899657799\n",
      "Test set score: 0.8549668874172185\n"
     ]
    }
   ],
   "source": [
    "print('Train set score: {}'.format(rf.score(X_train,y_train)))\n",
    "print('Test set score: {}'.format(rf.score(X_test,y_test)))"
   ]
  },
  {
   "cell_type": "code",
   "execution_count": 71,
   "id": "controlling-hepatitis",
   "metadata": {},
   "outputs": [],
   "source": [
    "pred_rf=rf.predict(X_test)"
   ]
  },
  {
   "cell_type": "code",
   "execution_count": 72,
   "id": "alone-naples",
   "metadata": {},
   "outputs": [
    {
     "name": "stdout",
     "output_type": "stream",
     "text": [
      "Confusion Matrix\n",
      "[[2502  284]\n",
      " [ 154   80]]\n",
      "\n",
      "Classification Report\n",
      "              precision    recall  f1-score   support\n",
      "\n",
      "           0       0.94      0.90      0.92      2786\n",
      "           1       0.22      0.34      0.27       234\n",
      "\n",
      "    accuracy                           0.85      3020\n",
      "   macro avg       0.58      0.62      0.59      3020\n",
      "weighted avg       0.89      0.85      0.87      3020\n",
      "\n"
     ]
    }
   ],
   "source": [
    "print('Confusion Matrix\\n{}\\n'.format(confusion_matrix(pred_rf,y_test)))\n",
    "print('Classification Report\\n{}'.format(classification_report(pred_rf,y_test)))"
   ]
  },
  {
   "cell_type": "markdown",
   "id": "subtle-champion",
   "metadata": {},
   "source": [
    "## Ada Boost Classifier"
   ]
  },
  {
   "cell_type": "code",
   "execution_count": 73,
   "id": "quantitative-neutral",
   "metadata": {},
   "outputs": [
    {
     "data": {
      "text/plain": [
       "AdaBoostClassifier(random_state=16)"
      ]
     },
     "execution_count": 73,
     "metadata": {},
     "output_type": "execute_result"
    }
   ],
   "source": [
    "ad=AdaBoostClassifier(random_state=16)\n",
    "ad.fit(X_train,y_train)"
   ]
  },
  {
   "cell_type": "code",
   "execution_count": 74,
   "id": "conditional-raising",
   "metadata": {},
   "outputs": [
    {
     "name": "stdout",
     "output_type": "stream",
     "text": [
      "Train set score: 0.8833204547963351\n",
      "Test set score: 0.8794701986754967\n"
     ]
    }
   ],
   "source": [
    "print('Train set score: {}'.format(ad.score(X_train,y_train)))\n",
    "print('Test set score: {}'.format(ad.score(X_test,y_test)))"
   ]
  },
  {
   "cell_type": "code",
   "execution_count": 75,
   "id": "sunrise-atlas",
   "metadata": {},
   "outputs": [],
   "source": [
    "pred_ad=ad.predict(X_test)"
   ]
  },
  {
   "cell_type": "code",
   "execution_count": 76,
   "id": "timely-pressing",
   "metadata": {},
   "outputs": [
    {
     "name": "stdout",
     "output_type": "stream",
     "text": [
      "Confusion Matrix\n",
      "[[2639  347]\n",
      " [  17   17]]\n",
      "\n",
      "Classification Report\n",
      "              precision    recall  f1-score   support\n",
      "\n",
      "           0       0.99      0.88      0.94      2986\n",
      "           1       0.05      0.50      0.09        34\n",
      "\n",
      "    accuracy                           0.88      3020\n",
      "   macro avg       0.52      0.69      0.51      3020\n",
      "weighted avg       0.98      0.88      0.93      3020\n",
      "\n"
     ]
    }
   ],
   "source": [
    "print('Confusion Matrix\\n{}\\n'.format(confusion_matrix(pred_ad,y_test)))\n",
    "print('Classification Report\\n{}'.format(classification_report(pred_ad,y_test)))"
   ]
  },
  {
   "cell_type": "markdown",
   "id": "italian-gardening",
   "metadata": {},
   "source": [
    "## Gradient Boosting Classifier"
   ]
  },
  {
   "cell_type": "code",
   "execution_count": 77,
   "id": "smaller-maple",
   "metadata": {},
   "outputs": [
    {
     "data": {
      "text/plain": [
       "GradientBoostingClassifier(random_state=16)"
      ]
     },
     "execution_count": 77,
     "metadata": {},
     "output_type": "execute_result"
    }
   ],
   "source": [
    "gb=GradientBoostingClassifier(random_state=16)\n",
    "gb.fit(X_train,y_train)"
   ]
  },
  {
   "cell_type": "code",
   "execution_count": 78,
   "id": "dense-surge",
   "metadata": {},
   "outputs": [
    {
     "name": "stdout",
     "output_type": "stream",
     "text": [
      "Train set score: 0.8866320785958716\n",
      "Test set score: 0.8807947019867549\n"
     ]
    }
   ],
   "source": [
    "print('Train set score: {}'.format(gb.score(X_train,y_train)))\n",
    "print('Test set score: {}'.format(gb.score(X_test,y_test)))"
   ]
  },
  {
   "cell_type": "code",
   "execution_count": 79,
   "id": "eleven-devil",
   "metadata": {},
   "outputs": [],
   "source": [
    "pred_gb=gb.predict(X_test)"
   ]
  },
  {
   "cell_type": "code",
   "execution_count": 80,
   "id": "lined-eligibility",
   "metadata": {},
   "outputs": [
    {
     "name": "stdout",
     "output_type": "stream",
     "text": [
      "Confusion Matrix\n",
      "[[2641  345]\n",
      " [  15   19]]\n",
      "\n",
      "Classification Report\n",
      "              precision    recall  f1-score   support\n",
      "\n",
      "           0       0.99      0.88      0.94      2986\n",
      "           1       0.05      0.56      0.10        34\n",
      "\n",
      "    accuracy                           0.88      3020\n",
      "   macro avg       0.52      0.72      0.52      3020\n",
      "weighted avg       0.98      0.88      0.93      3020\n",
      "\n"
     ]
    }
   ],
   "source": [
    "print('Confusion Matrix\\n{}\\n'.format(confusion_matrix(pred_gb,y_test)))\n",
    "print('Classification Report\\n{}'.format(classification_report(pred_gb,y_test)))"
   ]
  },
  {
   "cell_type": "markdown",
   "id": "unsigned-principle",
   "metadata": {},
   "source": [
    "### MLP Classifier Block"
   ]
  },
  {
   "cell_type": "code",
   "execution_count": 81,
   "id": "colored-paris",
   "metadata": {},
   "outputs": [
    {
     "data": {
      "text/plain": [
       "MLPClassifier(random_state=16)"
      ]
     },
     "execution_count": 81,
     "metadata": {},
     "output_type": "execute_result"
    }
   ],
   "source": [
    "nn=MLPClassifier(random_state=16)\n",
    "nn.fit(X_train,y_train)"
   ]
  },
  {
   "cell_type": "code",
   "execution_count": 82,
   "id": "rational-probability",
   "metadata": {},
   "outputs": [
    {
     "name": "stdout",
     "output_type": "stream",
     "text": [
      "Train set score: 0.8827685174964124\n",
      "Test set score: 0.878476821192053\n"
     ]
    }
   ],
   "source": [
    "print('Train set score: {}'.format(nn.score(X_train,y_train)))\n",
    "print('Test set score: {}'.format(nn.score(X_test,y_test)))"
   ]
  },
  {
   "cell_type": "code",
   "execution_count": 83,
   "id": "daily-world",
   "metadata": {},
   "outputs": [],
   "source": [
    "pred_nn=nn.predict(X_test)"
   ]
  },
  {
   "cell_type": "code",
   "execution_count": 84,
   "id": "faced-landscape",
   "metadata": {},
   "outputs": [
    {
     "name": "stdout",
     "output_type": "stream",
     "text": [
      "Confusion Matrix\n",
      "[[2636  347]\n",
      " [  20   17]]\n",
      "\n",
      "Classification Report\n",
      "              precision    recall  f1-score   support\n",
      "\n",
      "           0       0.99      0.88      0.93      2983\n",
      "           1       0.05      0.46      0.08        37\n",
      "\n",
      "    accuracy                           0.88      3020\n",
      "   macro avg       0.52      0.67      0.51      3020\n",
      "weighted avg       0.98      0.88      0.92      3020\n",
      "\n"
     ]
    }
   ],
   "source": [
    "print('Confusion Matrix\\n{}\\n'.format(confusion_matrix(pred_nn,y_test)))\n",
    "print('Classification Report\\n{}'.format(classification_report(pred_nn,y_test)))"
   ]
  },
  {
   "cell_type": "markdown",
   "id": "automotive-pottery",
   "metadata": {},
   "source": [
    "## Undersampling"
   ]
  },
  {
   "cell_type": "code",
   "execution_count": 85,
   "id": "radio-american",
   "metadata": {},
   "outputs": [],
   "source": [
    "count_class_0,count_class_1=train.target.value_counts()"
   ]
  },
  {
   "cell_type": "code",
   "execution_count": 86,
   "id": "boring-enough",
   "metadata": {},
   "outputs": [],
   "source": [
    "df_class_0=train[train['target']==0]\n",
    "df_class_1=train[train['target']==1]"
   ]
  },
  {
   "cell_type": "code",
   "execution_count": 87,
   "id": "protected-contemporary",
   "metadata": {},
   "outputs": [
    {
     "name": "stdout",
     "output_type": "stream",
     "text": [
      "Majority Class Shape: (10624, 14)\n",
      "Minority Class Shape: (1455, 14)\n"
     ]
    }
   ],
   "source": [
    "print('Majority Class Shape: {}'.format(df_class_0.shape))\n",
    "print('Minority Class Shape: {}'.format(df_class_1.shape))"
   ]
  },
  {
   "cell_type": "code",
   "execution_count": 88,
   "id": "quarterly-uganda",
   "metadata": {},
   "outputs": [],
   "source": [
    "from imblearn.under_sampling import NearMiss\n",
    "from collections import Counter"
   ]
  },
  {
   "cell_type": "code",
   "execution_count": 89,
   "id": "divided-third",
   "metadata": {},
   "outputs": [
    {
     "name": "stdout",
     "output_type": "stream",
     "text": [
      "The number of classes in train set before fit: Counter({0: 7968, 1: 1091})\n",
      "The number of classes in train set after fit: Counter({0: 3636, 1: 1091})\n",
      "\n",
      "The number of classes in test set before fit: Counter({0: 2656, 1: 364})\n",
      "The number of classes in test set after fit: Counter({0: 1213, 1: 364})\n"
     ]
    }
   ],
   "source": [
    "ns=NearMiss(0.3)\n",
    "X_train_under,y_train_under=ns.fit_sample(X_train,y_train)\n",
    "X_test_under,y_test_under=ns.fit_sample(X_test,y_test)\n",
    "print('The number of classes in train set before fit: {}'.format(Counter(y_train)))\n",
    "print('The number of classes in train set after fit: {}\\n'.format(Counter(y_train_under)))\n",
    "\n",
    "\n",
    "print('The number of classes in test set before fit: {}'.format(Counter(y_test)))\n",
    "print('The number of classes in test set after fit: {}'.format(Counter(y_test_under)))"
   ]
  },
  {
   "cell_type": "code",
   "execution_count": 90,
   "id": "abroad-collector",
   "metadata": {},
   "outputs": [
    {
     "data": {
      "text/plain": [
       "LogisticRegression()"
      ]
     },
     "execution_count": 90,
     "metadata": {},
     "output_type": "execute_result"
    }
   ],
   "source": [
    "lr=LogisticRegression()\n",
    "lr.fit(X_train_under,y_train_under)"
   ]
  },
  {
   "cell_type": "code",
   "execution_count": 91,
   "id": "hidden-roads",
   "metadata": {},
   "outputs": [
    {
     "name": "stdout",
     "output_type": "stream",
     "text": [
      "Train set score: 0.8011423735984768\n",
      "Test set score: 0.8161065313887127\n"
     ]
    }
   ],
   "source": [
    "print('Train set score: {}'.format(lr.score(X_train_under,y_train_under)))\n",
    "print('Test set score: {}'.format(lr.score(X_test_under,y_test_under)))"
   ]
  },
  {
   "cell_type": "code",
   "execution_count": 92,
   "id": "tight-scroll",
   "metadata": {},
   "outputs": [
    {
     "name": "stdout",
     "output_type": "stream",
     "text": [
      "Confusion Matrix\n",
      "[[1198  275]\n",
      " [  15   89]]\n",
      "\n",
      "Classification Report\n",
      "              precision    recall  f1-score   support\n",
      "\n",
      "           0       0.99      0.81      0.89      1473\n",
      "           1       0.24      0.86      0.38       104\n",
      "\n",
      "    accuracy                           0.82      1577\n",
      "   macro avg       0.62      0.83      0.64      1577\n",
      "weighted avg       0.94      0.82      0.86      1577\n",
      "\n"
     ]
    }
   ],
   "source": [
    "pred_lr=lr.predict(X_test_under)\n",
    "print('Confusion Matrix\\n{}\\n'.format(confusion_matrix(pred_lr,y_test_under)))\n",
    "print('Classification Report\\n{}'.format(classification_report(pred_lr,y_test_under)))"
   ]
  },
  {
   "cell_type": "code",
   "execution_count": 93,
   "id": "minus-easter",
   "metadata": {},
   "outputs": [
    {
     "name": "stdout",
     "output_type": "stream",
     "text": [
      "Train set score: 0.7770255976306325\n",
      "Test set score: 0.7812301838934687\n",
      "Confusion Matrix\n",
      "[[1213  345]\n",
      " [   0   19]]\n",
      "\n",
      "Classification Report\n",
      "              precision    recall  f1-score   support\n",
      "\n",
      "           0       1.00      0.78      0.88      1558\n",
      "           1       0.05      1.00      0.10        19\n",
      "\n",
      "    accuracy                           0.78      1577\n",
      "   macro avg       0.53      0.89      0.49      1577\n",
      "weighted avg       0.99      0.78      0.87      1577\n",
      "\n"
     ]
    }
   ],
   "source": [
    "svm=SVC()\n",
    "svm.fit(X_train_under,y_train_under)\n",
    "\n",
    "print('Train set score: {}'.format(svm.score(X_train_under,y_train_under)))\n",
    "print('Test set score: {}'.format(svm.score(X_test_under,y_test_under)))\n",
    "\n",
    "pred_svm=svm.predict(X_test_under)\n",
    "print('Confusion Matrix\\n{}\\n'.format(confusion_matrix(pred_svm,y_test_under)))\n",
    "print('Classification Report\\n{}'.format(classification_report(pred_svm,y_test_under)))"
   ]
  },
  {
   "cell_type": "code",
   "execution_count": 94,
   "id": "written-greenhouse",
   "metadata": {},
   "outputs": [
    {
     "name": "stdout",
     "output_type": "stream",
     "text": [
      "Train set score: 0.9367463507510049\n",
      "Test set score: 0.7704502219403931\n",
      "Confusion Matrix\n",
      "[[1046  195]\n",
      " [ 167  169]]\n",
      "\n",
      "Classification Report\n",
      "              precision    recall  f1-score   support\n",
      "\n",
      "           0       0.86      0.84      0.85      1241\n",
      "           1       0.46      0.50      0.48       336\n",
      "\n",
      "    accuracy                           0.77      1577\n",
      "   macro avg       0.66      0.67      0.67      1577\n",
      "weighted avg       0.78      0.77      0.77      1577\n",
      "\n"
     ]
    }
   ],
   "source": [
    "dt=DecisionTreeClassifier()\n",
    "dt.fit(X_train_under,y_train_under)\n",
    "\n",
    "print('Train set score: {}'.format(dt.score(X_train_under,y_train_under)))\n",
    "print('Test set score: {}'.format(dt.score(X_test_under,y_test_under)))\n",
    "\n",
    "pred_dt=dt.predict(X_test_under)\n",
    "print('Confusion Matrix\\n{}\\n'.format(confusion_matrix(pred_dt,y_test_under)))\n",
    "print('Classification Report\\n{}'.format(classification_report(pred_dt,y_test_under)))"
   ]
  },
  {
   "cell_type": "code",
   "execution_count": 95,
   "id": "stuck-quarterly",
   "metadata": {},
   "outputs": [
    {
     "name": "stdout",
     "output_type": "stream",
     "text": [
      "Train set score: 0.8313941188914745\n",
      "Test set score: 0.8363982244768547\n",
      "Confusion Matrix\n",
      "[[1199  244]\n",
      " [  14  120]]\n",
      "\n",
      "Classification Report\n",
      "              precision    recall  f1-score   support\n",
      "\n",
      "           0       0.99      0.83      0.90      1443\n",
      "           1       0.33      0.90      0.48       134\n",
      "\n",
      "    accuracy                           0.84      1577\n",
      "   macro avg       0.66      0.86      0.69      1577\n",
      "weighted avg       0.93      0.84      0.87      1577\n",
      "\n"
     ]
    }
   ],
   "source": [
    "rf=RandomForestClassifier(random_state=16,max_depth=7,n_estimators=500)\n",
    "rf.fit(X_train_under,y_train_under)\n",
    "\n",
    "print('Train set score: {}'.format(rf.score(X_train_under,y_train_under)))\n",
    "print('Test set score: {}'.format(rf.score(X_test_under,y_test_under)))\n",
    "\n",
    "pred_rf=rf.predict(X_test_under)\n",
    "print('Confusion Matrix\\n{}\\n'.format(confusion_matrix(pred_rf,y_test_under)))\n",
    "print('Classification Report\\n{}'.format(classification_report(pred_rf,y_test_under)))"
   ]
  },
  {
   "cell_type": "code",
   "execution_count": 96,
   "id": "sweet-cleaning",
   "metadata": {},
   "outputs": [
    {
     "name": "stdout",
     "output_type": "stream",
     "text": [
      "Train set score: 0.8282208588957055\n",
      "Test set score: 0.8389346861128726\n",
      "Confusion Matrix\n",
      "[[1188  229]\n",
      " [  25  135]]\n",
      "\n",
      "Classification Report\n",
      "              precision    recall  f1-score   support\n",
      "\n",
      "           0       0.98      0.84      0.90      1417\n",
      "           1       0.37      0.84      0.52       160\n",
      "\n",
      "    accuracy                           0.84      1577\n",
      "   macro avg       0.68      0.84      0.71      1577\n",
      "weighted avg       0.92      0.84      0.86      1577\n",
      "\n"
     ]
    }
   ],
   "source": [
    "ad=AdaBoostClassifier(random_state=16)\n",
    "ad.fit(X_train_under,y_train_under)\n",
    "\n",
    "print('Train set score: {}'.format(ad.score(X_train_under,y_train_under)))\n",
    "print('Test set score: {}'.format(ad.score(X_test_under,y_test_under)))\n",
    "\n",
    "pred_ad=ad.predict(X_test_under)\n",
    "print('Confusion Matrix\\n{}\\n'.format(confusion_matrix(pred_ad,y_test_under)))\n",
    "print('Classification Report\\n{}'.format(classification_report(pred_ad,y_test_under)))"
   ]
  },
  {
   "cell_type": "code",
   "execution_count": 97,
   "id": "boring-evidence",
   "metadata": {},
   "outputs": [
    {
     "name": "stdout",
     "output_type": "stream",
     "text": [
      "Train set score: 0.8400676962132431\n",
      "Test set score: 0.8509828788839569\n",
      "Confusion Matrix\n",
      "[[1198  220]\n",
      " [  15  144]]\n",
      "\n",
      "Classification Report\n",
      "              precision    recall  f1-score   support\n",
      "\n",
      "           0       0.99      0.84      0.91      1418\n",
      "           1       0.40      0.91      0.55       159\n",
      "\n",
      "    accuracy                           0.85      1577\n",
      "   macro avg       0.69      0.88      0.73      1577\n",
      "weighted avg       0.93      0.85      0.87      1577\n",
      "\n"
     ]
    }
   ],
   "source": [
    "gb=GradientBoostingClassifier(random_state=16)\n",
    "gb.fit(X_train_under,y_train_under)\n",
    "\n",
    "print('Train set score: {}'.format(gb.score(X_train_under,y_train_under)))\n",
    "print('Test set score: {}'.format(gb.score(X_test_under,y_test_under)))\n",
    "\n",
    "pred_gb=gb.predict(X_test_under)\n",
    "print('Confusion Matrix\\n{}\\n'.format(confusion_matrix(pred_gb,y_test_under)))\n",
    "print('Classification Report\\n{}'.format(classification_report(pred_gb,y_test_under)))"
   ]
  },
  {
   "cell_type": "code",
   "execution_count": 98,
   "id": "banner-istanbul",
   "metadata": {},
   "outputs": [
    {
     "name": "stdout",
     "output_type": "stream",
     "text": [
      "Train set score: 0.7986037656018616\n",
      "Test set score: 0.8091312618896639\n",
      "Confusion Matrix\n",
      "[[1211  299]\n",
      " [   2   65]]\n",
      "\n",
      "Classification Report\n",
      "              precision    recall  f1-score   support\n",
      "\n",
      "           0       1.00      0.80      0.89      1510\n",
      "           1       0.18      0.97      0.30        67\n",
      "\n",
      "    accuracy                           0.81      1577\n",
      "   macro avg       0.59      0.89      0.60      1577\n",
      "weighted avg       0.96      0.81      0.86      1577\n",
      "\n"
     ]
    }
   ],
   "source": [
    "nn=MLPClassifier(random_state=16)\n",
    "nn.fit(X_train_under,y_train_under)\n",
    "\n",
    "print('Train set score: {}'.format(nn.score(X_train_under,y_train_under)))\n",
    "print('Test set score: {}'.format(nn.score(X_test_under,y_test_under)))\n",
    "\n",
    "pred_nn=nn.predict(X_test_under)\n",
    "print('Confusion Matrix\\n{}\\n'.format(confusion_matrix(pred_nn,y_test_under)))\n",
    "print('Classification Report\\n{}'.format(classification_report(pred_nn,y_test_under)))"
   ]
  },
  {
   "cell_type": "markdown",
   "id": "italic-width",
   "metadata": {},
   "source": [
    "### Undersampling Submission"
   ]
  },
  {
   "cell_type": "code",
   "execution_count": 99,
   "id": "directed-terminal",
   "metadata": {},
   "outputs": [],
   "source": [
    "ss=pd.read_csv('/storage/emulated/0/Download/Automobile ML/Samplesubmission.csv',index_col=False)"
   ]
  },
  {
   "cell_type": "code",
   "execution_count": 100,
   "id": "union-difficulty",
   "metadata": {},
   "outputs": [
    {
     "data": {
      "image/png": "[encoded data removed]",
      "text/plain": [
       "<Figure size 432x288 with 1 Axes>"
      ]
     },
     "metadata": {
      "needs_background": "light"
     },
     "output_type": "display_data"
    }
   ],
   "source": [
    "# Make prediction on the test set\n",
    "predictions = gb.predict(test)\n",
    "\n",
    "# Create a submission file\n",
    "sub_file = ss.copy()\n",
    "sub_file.predictions = predictions\n",
    "\n",
    "# Check the distribution of your predictions\n",
    "sns.countplot(sub_file.predictions);"
   ]
  },
  {
   "cell_type": "code",
   "execution_count": 101,
   "id": "indoor-hearing",
   "metadata": {},
   "outputs": [],
   "source": [
    "#sub_file.to_csv('Baseline.csv', index = False)"
   ]
  },
  {
   "cell_type": "code",
   "execution_count": 102,
   "id": "suburban-dance",
   "metadata": {},
   "outputs": [
    {
     "data": {
      "image/png": "[encoded data removed]",
      "text/plain": [
       "<Figure size 432x288 with 1 Axes>"
      ]
     },
     "metadata": {
      "needs_background": "light"
     },
     "output_type": "display_data"
    }
   ],
   "source": [
    "# Make prediction on the test set\n",
    "predictions = rf.predict(test)\n",
    "\n",
    "# Create a submission file\n",
    "sub_file = ss.copy()\n",
    "sub_file.predictions = predictions\n",
    "\n",
    "# Check the distribution of your predictions\n",
    "sns.countplot(sub_file.predictions);"
   ]
  },
  {
   "cell_type": "code",
   "execution_count": 103,
   "id": "visible-signal",
   "metadata": {},
   "outputs": [],
   "source": [
    "#sub_file.to_csv('Baseline2.csv', index = False)"
   ]
  },
  {
   "cell_type": "markdown",
   "id": "binary-arthritis",
   "metadata": {},
   "source": [
    "### Tuning"
   ]
  },
  {
   "cell_type": "code",
   "execution_count": 104,
   "id": "perfect-elizabeth",
   "metadata": {},
   "outputs": [],
   "source": [
    "kfold=StratifiedKFold(n_splits=5,shuffle=True,random_state=16)"
   ]
  },
  {
   "cell_type": "code",
   "execution_count": 105,
   "id": "worthy-branch",
   "metadata": {},
   "outputs": [
    {
     "name": "stdout",
     "output_type": "stream",
     "text": [
      "Train set score: 0.8339327268880897\n",
      "Test set score: 0.8478123018389346\n",
      "Confusion Matrix\n",
      "[[1191  218]\n",
      " [  22  146]]\n",
      "\n",
      "Classification Report\n",
      "              precision    recall  f1-score   support\n",
      "\n",
      "           0       0.98      0.85      0.91      1409\n",
      "           1       0.40      0.87      0.55       168\n",
      "\n",
      "    accuracy                           0.85      1577\n",
      "   macro avg       0.69      0.86      0.73      1577\n",
      "weighted avg       0.92      0.85      0.87      1577\n",
      "\n"
     ]
    }
   ],
   "source": [
    "class_weight={0:0.2,1:0.4}\n",
    "rf=RandomForestClassifier(random_state=16,class_weight=class_weight)\n",
    "params={'n_estimators':[100,300,500],'max_depth':[5,7,11]}\n",
    "rf_clf=GridSearchCV(rf,params,cv=kfold,n_jobs=-1)\n",
    "rf_clf.fit(X_train_under,y_train_under)\n",
    "\n",
    "print('Train set score: {}'.format(rf_clf.score(X_train_under,y_train_under)))\n",
    "print('Test set score: {}'.format(rf_clf.score(X_test_under,y_test_under)))\n",
    "\n",
    "pred_rf_clf=rf_clf.predict(X_test_under)\n",
    "print('Confusion Matrix\\n{}\\n'.format(confusion_matrix(pred_rf_clf,y_test_under)))\n",
    "print('Classification Report\\n{}'.format(classification_report(pred_rf_clf,y_test_under)))"
   ]
  },
  {
   "cell_type": "code",
   "execution_count": 106,
   "id": "illegal-jesus",
   "metadata": {
    "scrolled": true
   },
   "outputs": [
    {
     "data": {
      "text/plain": [
       "<matplotlib.axes._subplots.AxesSubplot at 0xcdbc6868>"
      ]
     },
     "execution_count": 106,
     "metadata": {},
     "output_type": "execute_result"
    },
    {
     "data": {
      "image/png": "[encoded data removed]",
      "text/plain": [
       "<Figure size 432x288 with 1 Axes>"
      ]
     },
     "metadata": {
      "needs_background": "light"
     },
     "output_type": "display_data"
    }
   ],
   "source": [
    "# Make prediction on the test set\n",
    "predictions = rf_clf.predict(test)\n",
    "\n",
    "# Create a submission file\n",
    "sub_file = ss.copy()\n",
    "sub_file.predictions = predictions\n",
    "\n",
    "# Check the distribution of your predictions\n",
    "sns.countplot(sub_file.predictions)"
   ]
  },
  {
   "cell_type": "code",
   "execution_count": 107,
   "id": "understood-positive",
   "metadata": {},
   "outputs": [],
   "source": [
    "#sub_file.to_csv('under_tuning_rf.csv', index = False)"
   ]
  },
  {
   "cell_type": "code",
   "execution_count": 108,
   "id": "proper-space",
   "metadata": {},
   "outputs": [],
   "source": [
    "#gb=GradientBoostingClassifier(random_state=16)\n",
    "#params={'n_estimators':[100,300,500],'max_depth':[5,7,11],'learning_rate':[0.5,0.8,1.1]}\n",
    "#gb_clf=GridSearchCV(gb,params,cv=kfold,n_jobs=-1)\n",
    "#gb_clf.fit(X_train_under,y_train_under)\n",
    "\n",
    "#print('Train set score: {}'.format(gb_clf.score(X_train_under,y_train_under)))\n",
    "#print('Test set score: {}'.format(gb_clf.score(X_test_under,y_test_under)))\n",
    "\n",
    "#pred_gb_clf=gb_clf.predict(X_test_under)\n",
    "#print('Confusion Matrix\\n{}\\n'.format(confusion_matrix(pred_gb_clf,y_test_under)))\n",
    "#print('Classification Report\\n{}'.format(classification_report(pred_gb_clf,y_test_under)))"
   ]
  },
  {
   "cell_type": "code",
   "execution_count": 109,
   "id": "authentic-legislature",
   "metadata": {},
   "outputs": [],
   "source": [
    "# Make prediction on the test set\n",
    "#predictions = gb_clf.predict(test)\n",
    "\n",
    "# Create a submission file\n",
    "#sub_file = ss.copy()\n",
    "#sub_file.predictions = predictions\n",
    "\n",
    "# Check the distribution of your predictions\n",
    "#sns.countplot(sub_file.predictions)"
   ]
  },
  {
   "cell_type": "code",
   "execution_count": 110,
   "id": "straight-irish",
   "metadata": {},
   "outputs": [],
   "source": [
    "#sub_file.to_csv('under_tuning_gb_2.csv', index = False)"
   ]
  },
  {
   "cell_type": "markdown",
   "id": "fixed-victorian",
   "metadata": {},
   "source": [
    "## Oversampling"
   ]
  },
  {
   "cell_type": "code",
   "execution_count": 111,
   "id": "expired-exhaust",
   "metadata": {},
   "outputs": [],
   "source": [
    "from imblearn.over_sampling import RandomOverSampler"
   ]
  },
  {
   "cell_type": "code",
   "execution_count": 112,
   "id": "juvenile-statement",
   "metadata": {},
   "outputs": [
    {
     "name": "stdout",
     "output_type": "stream",
     "text": [
      "The number of classes in train set before fit: Counter({0: 7968, 1: 1091})\n",
      "The number of classes in train set after fit: Counter({0: 7968, 1: 7968})\n",
      "\n",
      "The number of classes in test set before fit: Counter({0: 2656, 1: 364})\n",
      "The number of classes in test set after fit: Counter({1: 2656, 0: 2656})\n"
     ]
    }
   ],
   "source": [
    "os=RandomOverSampler(1)\n",
    "X_train_over,y_train_over=os.fit_sample(X_train,y_train)\n",
    "X_test_over,y_test_over=os.fit_sample(X_test,y_test)\n",
    "print('The number of classes in train set before fit: {}'.format(Counter(y_train)))\n",
    "print('The number of classes in train set after fit: {}\\n'.format(Counter(y_train_over)))\n",
    "\n",
    "\n",
    "print('The number of classes in test set before fit: {}'.format(Counter(y_test)))\n",
    "print('The number of classes in test set after fit: {}'.format(Counter(y_test_over)))"
   ]
  },
  {
   "cell_type": "code",
   "execution_count": 113,
   "id": "balanced-litigation",
   "metadata": {},
   "outputs": [
    {
     "name": "stdout",
     "output_type": "stream",
     "text": [
      "Train set score: 0.6959713855421686\n",
      "Test set score: 0.6812876506024096\n",
      "Confusion Matrix\n",
      "[[1374  411]\n",
      " [1282 2245]]\n",
      "\n",
      "Classification Report\n",
      "              precision    recall  f1-score   support\n",
      "\n",
      "           0       0.52      0.77      0.62      1785\n",
      "           1       0.85      0.64      0.73      3527\n",
      "\n",
      "    accuracy                           0.68      5312\n",
      "   macro avg       0.68      0.70      0.67      5312\n",
      "weighted avg       0.74      0.68      0.69      5312\n",
      "\n"
     ]
    },
    {
     "data": {
      "text/plain": [
       "0.7261846999838266"
      ]
     },
     "execution_count": 113,
     "metadata": {},
     "output_type": "execute_result"
    }
   ],
   "source": [
    "lr=LogisticRegression(max_iter=1000,C=10000)\n",
    "lr.fit(X_train_over,y_train_over)\n",
    "\n",
    "print('Train set score: {}'.format(lr.score(X_train_over,y_train_over)))\n",
    "print('Test set score: {}'.format(lr.score(X_test_over,y_test_over)))\n",
    "\n",
    "pred_lr=lr.predict(X_test_over)\n",
    "print('Confusion Matrix\\n{}\\n'.format(confusion_matrix(pred_lr,y_test_over)))\n",
    "print('Classification Report\\n{}'.format(classification_report(pred_lr,y_test_over)))\n",
    "\n",
    "from sklearn.metrics import f1_score\n",
    "f1_score(y_test_over,pred_lr)"
   ]
  },
  {
   "cell_type": "code",
   "execution_count": 114,
   "id": "written-field",
   "metadata": {
    "scrolled": false
   },
   "outputs": [
    {
     "name": "stdout",
     "output_type": "stream",
     "text": [
      "Train set score: 0.8246736947791165\n",
      "Test set score: 0.6566265060240963\n",
      "Confusion Matrix\n",
      "[[1737  905]\n",
      " [ 919 1751]]\n",
      "\n",
      "Classification Report\n",
      "              precision    recall  f1-score   support\n",
      "\n",
      "           0       0.65      0.66      0.66      2642\n",
      "           1       0.66      0.66      0.66      2670\n",
      "\n",
      "    accuracy                           0.66      5312\n",
      "   macro avg       0.66      0.66      0.66      5312\n",
      "weighted avg       0.66      0.66      0.66      5312\n",
      "\n"
     ]
    },
    {
     "data": {
      "text/plain": [
       "0.6575291025159594"
      ]
     },
     "execution_count": 114,
     "metadata": {},
     "output_type": "execute_result"
    }
   ],
   "source": [
    "svm=SVC(C=1000,gamma=0.001)\n",
    "svm.fit(X_train_over,y_train_over)\n",
    "\n",
    "print('Train set score: {}'.format(svm.score(X_train_over,y_train_over)))\n",
    "print('Test set score: {}'.format(svm.score(X_test_over,y_test_over)))\n",
    "\n",
    "pred_svm=svm.predict(X_test_over)\n",
    "print('Confusion Matrix\\n{}\\n'.format(confusion_matrix(pred_svm,y_test_over)))\n",
    "print('Classification Report\\n{}'.format(classification_report(pred_svm,y_test_over)))\n",
    "\n",
    "from sklearn.metrics import f1_score\n",
    "f1_score(y_test_over,pred_svm)"
   ]
  },
  {
   "cell_type": "code",
   "execution_count": 115,
   "id": "outside-prospect",
   "metadata": {},
   "outputs": [
    {
     "name": "stdout",
     "output_type": "stream",
     "text": [
      "Train set score: 0.6895707831325302\n",
      "Test set score: 0.6799698795180723\n",
      "Confusion Matrix\n",
      "[[1147  191]\n",
      " [1509 2465]]\n",
      "\n",
      "Classification Report\n",
      "              precision    recall  f1-score   support\n",
      "\n",
      "           0       0.43      0.86      0.57      1338\n",
      "           1       0.93      0.62      0.74      3974\n",
      "\n",
      "    accuracy                           0.68      5312\n",
      "   macro avg       0.68      0.74      0.66      5312\n",
      "weighted avg       0.80      0.68      0.70      5312\n",
      "\n"
     ]
    },
    {
     "data": {
      "text/plain": [
       "0.7435897435897436"
      ]
     },
     "execution_count": 115,
     "metadata": {},
     "output_type": "execute_result"
    }
   ],
   "source": [
    "nn=MLPClassifier(alpha=0.001,max_iter=10000)\n",
    "nn.fit(X_train_over,y_train_over)\n",
    "\n",
    "print('Train set score: {}'.format(nn.score(X_train_over,y_train_over)))\n",
    "print('Test set score: {}'.format(nn.score(X_test_over,y_test_over)))\n",
    "\n",
    "pred_nn=nn.predict(X_test_over)\n",
    "print('Confusion Matrix\\n{}\\n'.format(confusion_matrix(pred_nn,y_test_over)))\n",
    "print('Classification Report\\n{}'.format(classification_report(pred_nn,y_test_over)))\n",
    "\n",
    "from sklearn.metrics import f1_score\n",
    "f1_score(y_test_over,pred_nn)"
   ]
  },
  {
   "cell_type": "code",
   "execution_count": 116,
   "id": "coated-cosmetic",
   "metadata": {},
   "outputs": [
    {
     "data": {
      "image/png": "[encoded data removed]",
      "text/plain": [
       "<Figure size 432x288 with 1 Axes>"
      ]
     },
     "metadata": {
      "needs_background": "light"
     },
     "output_type": "display_data"
    }
   ],
   "source": [
    "# Make prediction on the test set\n",
    "predictions = nn.predict(test)\n",
    "\n",
    "# Create a submission file\n",
    "sub_file = ss.copy()\n",
    "sub_file.predictions = predictions\n",
    "\n",
    "# Check the distribution of your predictions\n",
    "sns.countplot(sub_file.predictions);"
   ]
  },
  {
   "cell_type": "code",
   "execution_count": 117,
   "id": "ruled-child",
   "metadata": {},
   "outputs": [],
   "source": [
    "#sub_file.to_csv('MLP over_sampling.csv', index = False)"
   ]
  },
  {
   "cell_type": "code",
   "execution_count": 118,
   "id": "renewable-woman",
   "metadata": {},
   "outputs": [
    {
     "name": "stdout",
     "output_type": "stream",
     "text": [
      "Train set score: 0.976593875502008\n",
      "Test set score: 0.5707831325301205\n",
      "Confusion Matrix\n",
      "[[2277 1901]\n",
      " [ 379  755]]\n",
      "\n",
      "Classification Report\n",
      "              precision    recall  f1-score   support\n",
      "\n",
      "           0       0.86      0.54      0.67      4178\n",
      "           1       0.28      0.67      0.40      1134\n",
      "\n",
      "    accuracy                           0.57      5312\n",
      "   macro avg       0.57      0.61      0.53      5312\n",
      "weighted avg       0.73      0.57      0.61      5312\n",
      "\n"
     ]
    },
    {
     "data": {
      "text/plain": [
       "0.39841688654353563"
      ]
     },
     "execution_count": 118,
     "metadata": {},
     "output_type": "execute_result"
    }
   ],
   "source": [
    "dt=DecisionTreeClassifier(random_state=16)\n",
    "dt.fit(X_train_over,y_train_over)\n",
    "\n",
    "print('Train set score: {}'.format(dt.score(X_train_over,y_train_over)))\n",
    "print('Test set score: {}'.format(dt.score(X_test_over,y_test_over)))\n",
    "\n",
    "pred_dt=dt.predict(X_test_over)\n",
    "print('Confusion Matrix\\n{}\\n'.format(confusion_matrix(pred_dt,y_test_over)))\n",
    "print('Classification Report\\n{}'.format(classification_report(pred_dt,y_test_over)))\n",
    "\n",
    "from sklearn.metrics import f1_score\n",
    "f1_score(y_test_over,pred_dt)"
   ]
  },
  {
   "cell_type": "code",
   "execution_count": 119,
   "id": "automated-district",
   "metadata": {},
   "outputs": [
    {
     "name": "stdout",
     "output_type": "stream",
     "text": [
      "Train set score: 0.7424698795180723\n",
      "Test set score: 0.7283509036144579\n",
      "Confusion Matrix\n",
      "[[1535  322]\n",
      " [1121 2334]]\n",
      "\n",
      "Classification Report\n",
      "              precision    recall  f1-score   support\n",
      "\n",
      "           0       0.58      0.83      0.68      1857\n",
      "           1       0.88      0.68      0.76      3455\n",
      "\n",
      "    accuracy                           0.73      5312\n",
      "   macro avg       0.73      0.75      0.72      5312\n",
      "weighted avg       0.77      0.73      0.73      5312\n",
      "\n"
     ]
    },
    {
     "data": {
      "text/plain": [
       "0.7638684339715268"
      ]
     },
     "execution_count": 119,
     "metadata": {},
     "output_type": "execute_result"
    }
   ],
   "source": [
    "class_weight={0:0.3,1:0.1}\n",
    "rf=RandomForestClassifier(random_state=16,n_estimators=220,max_depth=5)\n",
    "rf.fit(X_train_over,y_train_over)\n",
    "\n",
    "print('Train set score: {}'.format(rf.score(X_train_over,y_train_over)))\n",
    "print('Test set score: {}'.format(rf.score(X_test_over,y_test_over)))\n",
    "\n",
    "pred_rf=rf.predict(X_test_over)\n",
    "print('Confusion Matrix\\n{}\\n'.format(confusion_matrix(pred_rf,y_test_over)))\n",
    "print('Classification Report\\n{}'.format(classification_report(pred_rf,y_test_over)))\n",
    "\n",
    "from sklearn.metrics import f1_score\n",
    "f1_score(y_test_over,pred_rf)"
   ]
  },
  {
   "cell_type": "code",
   "execution_count": 120,
   "id": "ongoing-brain",
   "metadata": {},
   "outputs": [
    {
     "name": "stdout",
     "output_type": "stream",
     "text": [
      "Train set score: 0.7399598393574297\n",
      "Test set score: 0.7078313253012049\n",
      "Confusion Matrix\n",
      "[[1677  573]\n",
      " [ 979 2083]]\n",
      "\n",
      "Classification Report\n",
      "              precision    recall  f1-score   support\n",
      "\n",
      "           0       0.63      0.75      0.68      2250\n",
      "           1       0.78      0.68      0.73      3062\n",
      "\n",
      "    accuracy                           0.71      5312\n",
      "   macro avg       0.71      0.71      0.71      5312\n",
      "weighted avg       0.72      0.71      0.71      5312\n",
      "\n"
     ]
    },
    {
     "data": {
      "text/plain": [
       "0.7285764253235397"
      ]
     },
     "execution_count": 120,
     "metadata": {},
     "output_type": "execute_result"
    }
   ],
   "source": [
    "ad=AdaBoostClassifier(random_state=16)\n",
    "ad.fit(X_train_over,y_train_over)\n",
    "\n",
    "print('Train set score: {}'.format(ad.score(X_train_over,y_train_over)))\n",
    "print('Test set score: {}'.format(ad.score(X_test_over,y_test_over)))\n",
    "\n",
    "pred_ad=ad.predict(X_test_over)\n",
    "print('Confusion Matrix\\n{}\\n'.format(confusion_matrix(pred_ad,y_test_over)))\n",
    "print('Classification Report\\n{}'.format(classification_report(pred_ad,y_test_over)))\n",
    "\n",
    "from sklearn.metrics import f1_score\n",
    "f1_score(y_test_over,pred_ad)\n",
    "\n",
    "from sklearn.metrics import f1_score\n",
    "f1_score(y_test_over,pred_ad)"
   ]
  },
  {
   "cell_type": "code",
   "execution_count": 121,
   "id": "placed-sapphire",
   "metadata": {
    "scrolled": true
   },
   "outputs": [
    {
     "name": "stdout",
     "output_type": "stream",
     "text": [
      "Train set score: 0.7732806224899599\n",
      "Test set score: 0.7411521084337349\n",
      "Confusion Matrix\n",
      "[[1661  380]\n",
      " [ 995 2276]]\n",
      "\n",
      "Classification Report\n",
      "              precision    recall  f1-score   support\n",
      "\n",
      "           0       0.63      0.81      0.71      2041\n",
      "           1       0.86      0.70      0.77      3271\n",
      "\n",
      "    accuracy                           0.74      5312\n",
      "   macro avg       0.74      0.75      0.74      5312\n",
      "weighted avg       0.77      0.74      0.74      5312\n",
      "\n"
     ]
    },
    {
     "data": {
      "text/plain": [
       "0.7680107980428547"
      ]
     },
     "execution_count": 121,
     "metadata": {},
     "output_type": "execute_result"
    }
   ],
   "source": [
    "gb=GradientBoostingClassifier(random_state=16)\n",
    "gb.fit(X_train_over,y_train_over)\n",
    "\n",
    "print('Train set score: {}'.format(gb.score(X_train_over,y_train_over)))\n",
    "print('Test set score: {}'.format(gb.score(X_test_over,y_test_over)))\n",
    "\n",
    "pred_gb=gb.predict(X_test_over)\n",
    "print('Confusion Matrix\\n{}\\n'.format(confusion_matrix(pred_gb,y_test_over)))\n",
    "print('Classification Report\\n{}'.format(classification_report(pred_gb,y_test_over)))\n",
    "\n",
    "from sklearn.metrics import f1_score\n",
    "f1_score(y_test_over,pred_gb)"
   ]
  },
  {
   "cell_type": "markdown",
   "id": "accessible-nebraska",
   "metadata": {},
   "source": [
    "## Creating Pipeline"
   ]
  },
  {
   "cell_type": "code",
   "execution_count": 122,
   "id": "crude-corps",
   "metadata": {},
   "outputs": [
    {
     "data": {
      "text/plain": [
       "(12079,)"
      ]
     },
     "execution_count": 122,
     "metadata": {},
     "output_type": "execute_result"
    }
   ],
   "source": [
    "target.shape"
   ]
  },
  {
   "cell_type": "code",
   "execution_count": 123,
   "id": "timely-amsterdam",
   "metadata": {},
   "outputs": [
    {
     "name": "stdout",
     "output_type": "stream",
     "text": [
      "Majority Class Shape:(10624, 60)\n",
      "Minority Class Shape:(1455, 60)\n",
      "Minority Class Shape After Oversampling:(10624, 60)\n"
     ]
    }
   ],
   "source": [
    "train=pd.concat([data[:train.shape[0]],target],axis=1)\n",
    "\n",
    "count_class_0,count_class_1=train.target.value_counts()\n",
    "df_class_0=train[train['target']==0]\n",
    "df_class_1=train[train['target']==1]\n",
    "df_class_1_over=df_class_1.sample(count_class_0,replace=True)\n",
    "df_over=pd.concat([df_class_1_over,df_class_0],axis=0)\n",
    "\n",
    "print('Majority Class Shape:{}'.format(df_class_0.shape))\n",
    "print('Minority Class Shape:{}'.format(df_class_1.shape))\n",
    "print('Minority Class Shape After Oversampling:{}'.format(df_class_1_over.shape))"
   ]
  },
  {
   "cell_type": "code",
   "execution_count": 124,
   "id": "growing-amplifier",
   "metadata": {
    "scrolled": true
   },
   "outputs": [
    {
     "data": {
      "text/html": [
       "<div>\n",
       "<style scoped>\n",
       "    .dataframe tbody tr th:only-of-type {\n",
       "        vertical-align: middle;\n",
       "    }\n",
       "\n",
       "    .dataframe tbody tr th {\n",
       "        vertical-align: top;\n",
       "    }\n",
       "\n",
       "    .dataframe thead th {\n",
       "        text-align: right;\n",
       "    }\n",
       "</style>\n",
       "<table border=\"1\" class=\"dataframe\">\n",
       "  <thead>\n",
       "    <tr style=\"text-align: right;\">\n",
       "      <th></th>\n",
       "      <th>Gender</th>\n",
       "      <th>Age</th>\n",
       "      <th>No_Pol</th>\n",
       "      <th>Car_Category</th>\n",
       "      <th>Subject_Car_Colour</th>\n",
       "      <th>Subject_Car_Make</th>\n",
       "      <th>Policy Start Year</th>\n",
       "      <th>Policy Start Day</th>\n",
       "      <th>Policy End Year</th>\n",
       "      <th>Policy End Day</th>\n",
       "      <th>...</th>\n",
       "      <th>First_Transaction_Month_January</th>\n",
       "      <th>First_Transaction_Month_July</th>\n",
       "      <th>First_Transaction_Month_June</th>\n",
       "      <th>First_Transaction_Month_March</th>\n",
       "      <th>First_Transaction_Month_May</th>\n",
       "      <th>First_Transaction_Month_November</th>\n",
       "      <th>First_Transaction_Month_Octomber</th>\n",
       "      <th>First_Transaction_Month_September</th>\n",
       "      <th>Age_z_score</th>\n",
       "      <th>target</th>\n",
       "    </tr>\n",
       "  </thead>\n",
       "  <tbody>\n",
       "    <tr>\n",
       "      <th>3403</th>\n",
       "      <td>1.000000</td>\n",
       "      <td>1.0</td>\n",
       "      <td>1.0</td>\n",
       "      <td>0.499435</td>\n",
       "      <td>0.029968</td>\n",
       "      <td>0.411565</td>\n",
       "      <td>2010.0</td>\n",
       "      <td>25.0</td>\n",
       "      <td>2011.0</td>\n",
       "      <td>24.0</td>\n",
       "      <td>...</td>\n",
       "      <td>0.0</td>\n",
       "      <td>0.0</td>\n",
       "      <td>0.0</td>\n",
       "      <td>0.0</td>\n",
       "      <td>0.0</td>\n",
       "      <td>0.0</td>\n",
       "      <td>0.0</td>\n",
       "      <td>0.0</td>\n",
       "      <td>0.480605</td>\n",
       "      <td>1</td>\n",
       "    </tr>\n",
       "    <tr>\n",
       "      <th>7561</th>\n",
       "      <td>0.416971</td>\n",
       "      <td>120.0</td>\n",
       "      <td>4.0</td>\n",
       "      <td>0.401947</td>\n",
       "      <td>0.076340</td>\n",
       "      <td>0.232600</td>\n",
       "      <td>2010.0</td>\n",
       "      <td>16.0</td>\n",
       "      <td>2010.0</td>\n",
       "      <td>31.0</td>\n",
       "      <td>...</td>\n",
       "      <td>0.0</td>\n",
       "      <td>0.0</td>\n",
       "      <td>0.0</td>\n",
       "      <td>0.0</td>\n",
       "      <td>0.0</td>\n",
       "      <td>0.0</td>\n",
       "      <td>0.0</td>\n",
       "      <td>1.0</td>\n",
       "      <td>0.814853</td>\n",
       "      <td>1</td>\n",
       "    </tr>\n",
       "    <tr>\n",
       "      <th>8376</th>\n",
       "      <td>0.000000</td>\n",
       "      <td>50.0</td>\n",
       "      <td>3.0</td>\n",
       "      <td>0.499435</td>\n",
       "      <td>0.076340</td>\n",
       "      <td>0.038551</td>\n",
       "      <td>2010.0</td>\n",
       "      <td>18.0</td>\n",
       "      <td>2011.0</td>\n",
       "      <td>17.0</td>\n",
       "      <td>...</td>\n",
       "      <td>0.0</td>\n",
       "      <td>0.0</td>\n",
       "      <td>0.0</td>\n",
       "      <td>1.0</td>\n",
       "      <td>0.0</td>\n",
       "      <td>0.0</td>\n",
       "      <td>0.0</td>\n",
       "      <td>0.0</td>\n",
       "      <td>0.052819</td>\n",
       "      <td>1</td>\n",
       "    </tr>\n",
       "    <tr>\n",
       "      <th>5158</th>\n",
       "      <td>1.000000</td>\n",
       "      <td>35.0</td>\n",
       "      <td>1.0</td>\n",
       "      <td>0.499435</td>\n",
       "      <td>0.014457</td>\n",
       "      <td>0.411565</td>\n",
       "      <td>2010.0</td>\n",
       "      <td>18.0</td>\n",
       "      <td>2011.0</td>\n",
       "      <td>17.0</td>\n",
       "      <td>...</td>\n",
       "      <td>0.0</td>\n",
       "      <td>0.0</td>\n",
       "      <td>0.0</td>\n",
       "      <td>0.0</td>\n",
       "      <td>0.0</td>\n",
       "      <td>0.0</td>\n",
       "      <td>0.0</td>\n",
       "      <td>0.0</td>\n",
       "      <td>0.110474</td>\n",
       "      <td>1</td>\n",
       "    </tr>\n",
       "    <tr>\n",
       "      <th>5030</th>\n",
       "      <td>0.000000</td>\n",
       "      <td>65.0</td>\n",
       "      <td>1.0</td>\n",
       "      <td>0.499435</td>\n",
       "      <td>0.154883</td>\n",
       "      <td>0.411565</td>\n",
       "      <td>2010.0</td>\n",
       "      <td>22.0</td>\n",
       "      <td>2011.0</td>\n",
       "      <td>21.0</td>\n",
       "      <td>...</td>\n",
       "      <td>0.0</td>\n",
       "      <td>0.0</td>\n",
       "      <td>0.0</td>\n",
       "      <td>0.0</td>\n",
       "      <td>0.0</td>\n",
       "      <td>1.0</td>\n",
       "      <td>0.0</td>\n",
       "      <td>0.0</td>\n",
       "      <td>0.216112</td>\n",
       "      <td>1</td>\n",
       "    </tr>\n",
       "    <tr>\n",
       "      <th>...</th>\n",
       "      <td>...</td>\n",
       "      <td>...</td>\n",
       "      <td>...</td>\n",
       "      <td>...</td>\n",
       "      <td>...</td>\n",
       "      <td>...</td>\n",
       "      <td>...</td>\n",
       "      <td>...</td>\n",
       "      <td>...</td>\n",
       "      <td>...</td>\n",
       "      <td>...</td>\n",
       "      <td>...</td>\n",
       "      <td>...</td>\n",
       "      <td>...</td>\n",
       "      <td>...</td>\n",
       "      <td>...</td>\n",
       "      <td>...</td>\n",
       "      <td>...</td>\n",
       "      <td>...</td>\n",
       "      <td>...</td>\n",
       "      <td>...</td>\n",
       "    </tr>\n",
       "    <tr>\n",
       "      <th>12073</th>\n",
       "      <td>1.000000</td>\n",
       "      <td>31.0</td>\n",
       "      <td>1.0</td>\n",
       "      <td>0.499435</td>\n",
       "      <td>0.000753</td>\n",
       "      <td>0.038551</td>\n",
       "      <td>2010.0</td>\n",
       "      <td>8.0</td>\n",
       "      <td>2011.0</td>\n",
       "      <td>7.0</td>\n",
       "      <td>...</td>\n",
       "      <td>0.0</td>\n",
       "      <td>0.0</td>\n",
       "      <td>0.0</td>\n",
       "      <td>0.0</td>\n",
       "      <td>0.0</td>\n",
       "      <td>0.0</td>\n",
       "      <td>0.0</td>\n",
       "      <td>0.0</td>\n",
       "      <td>0.154019</td>\n",
       "      <td>0</td>\n",
       "    </tr>\n",
       "    <tr>\n",
       "      <th>12075</th>\n",
       "      <td>1.000000</td>\n",
       "      <td>59.0</td>\n",
       "      <td>1.0</td>\n",
       "      <td>0.401947</td>\n",
       "      <td>0.076340</td>\n",
       "      <td>0.232600</td>\n",
       "      <td>2010.0</td>\n",
       "      <td>3.0</td>\n",
       "      <td>2011.0</td>\n",
       "      <td>2.0</td>\n",
       "      <td>...</td>\n",
       "      <td>0.0</td>\n",
       "      <td>0.0</td>\n",
       "      <td>0.0</td>\n",
       "      <td>0.0</td>\n",
       "      <td>0.0</td>\n",
       "      <td>0.0</td>\n",
       "      <td>1.0</td>\n",
       "      <td>0.0</td>\n",
       "      <td>0.150795</td>\n",
       "      <td>0</td>\n",
       "    </tr>\n",
       "    <tr>\n",
       "      <th>12076</th>\n",
       "      <td>0.000000</td>\n",
       "      <td>34.0</td>\n",
       "      <td>1.0</td>\n",
       "      <td>0.401947</td>\n",
       "      <td>0.076340</td>\n",
       "      <td>0.232600</td>\n",
       "      <td>2010.0</td>\n",
       "      <td>10.0</td>\n",
       "      <td>2011.0</td>\n",
       "      <td>8.0</td>\n",
       "      <td>...</td>\n",
       "      <td>0.0</td>\n",
       "      <td>0.0</td>\n",
       "      <td>0.0</td>\n",
       "      <td>0.0</td>\n",
       "      <td>0.0</td>\n",
       "      <td>0.0</td>\n",
       "      <td>1.0</td>\n",
       "      <td>0.0</td>\n",
       "      <td>0.121361</td>\n",
       "      <td>0</td>\n",
       "    </tr>\n",
       "    <tr>\n",
       "      <th>12077</th>\n",
       "      <td>0.416971</td>\n",
       "      <td>120.0</td>\n",
       "      <td>2.0</td>\n",
       "      <td>0.401947</td>\n",
       "      <td>0.024170</td>\n",
       "      <td>0.411565</td>\n",
       "      <td>2010.0</td>\n",
       "      <td>27.0</td>\n",
       "      <td>2011.0</td>\n",
       "      <td>26.0</td>\n",
       "      <td>...</td>\n",
       "      <td>0.0</td>\n",
       "      <td>0.0</td>\n",
       "      <td>0.0</td>\n",
       "      <td>0.0</td>\n",
       "      <td>0.0</td>\n",
       "      <td>0.0</td>\n",
       "      <td>0.0</td>\n",
       "      <td>0.0</td>\n",
       "      <td>0.814853</td>\n",
       "      <td>0</td>\n",
       "    </tr>\n",
       "    <tr>\n",
       "      <th>12078</th>\n",
       "      <td>1.000000</td>\n",
       "      <td>46.0</td>\n",
       "      <td>2.0</td>\n",
       "      <td>0.167382</td>\n",
       "      <td>0.154883</td>\n",
       "      <td>0.004970</td>\n",
       "      <td>2010.0</td>\n",
       "      <td>1.0</td>\n",
       "      <td>2011.0</td>\n",
       "      <td>30.0</td>\n",
       "      <td>...</td>\n",
       "      <td>0.0</td>\n",
       "      <td>1.0</td>\n",
       "      <td>0.0</td>\n",
       "      <td>0.0</td>\n",
       "      <td>0.0</td>\n",
       "      <td>0.0</td>\n",
       "      <td>0.0</td>\n",
       "      <td>0.0</td>\n",
       "      <td>0.009274</td>\n",
       "      <td>0</td>\n",
       "    </tr>\n",
       "  </tbody>\n",
       "</table>\n",
       "<p>21248 rows × 60 columns</p>\n",
       "</div>"
      ],
      "text/plain": [
       "         Gender    Age  No_Pol  Car_Category  Subject_Car_Colour  \\\n",
       "3403   1.000000    1.0     1.0      0.499435            0.029968   \n",
       "7561   0.416971  120.0     4.0      0.401947            0.076340   \n",
       "8376   0.000000   50.0     3.0      0.499435            0.076340   \n",
       "5158   1.000000   35.0     1.0      0.499435            0.014457   \n",
       "5030   0.000000   65.0     1.0      0.499435            0.154883   \n",
       "...         ...    ...     ...           ...                 ...   \n",
       "12073  1.000000   31.0     1.0      0.499435            0.000753   \n",
       "12075  1.000000   59.0     1.0      0.401947            0.076340   \n",
       "12076  0.000000   34.0     1.0      0.401947            0.076340   \n",
       "12077  0.416971  120.0     2.0      0.401947            0.024170   \n",
       "12078  1.000000   46.0     2.0      0.167382            0.154883   \n",
       "\n",
       "       Subject_Car_Make  Policy Start Year  Policy Start Day  Policy End Year  \\\n",
       "3403           0.411565             2010.0              25.0           2011.0   \n",
       "7561           0.232600             2010.0              16.0           2010.0   \n",
       "8376           0.038551             2010.0              18.0           2011.0   \n",
       "5158           0.411565             2010.0              18.0           2011.0   \n",
       "5030           0.411565             2010.0              22.0           2011.0   \n",
       "...                 ...                ...               ...              ...   \n",
       "12073          0.038551             2010.0               8.0           2011.0   \n",
       "12075          0.232600             2010.0               3.0           2011.0   \n",
       "12076          0.232600             2010.0              10.0           2011.0   \n",
       "12077          0.411565             2010.0              27.0           2011.0   \n",
       "12078          0.004970             2010.0               1.0           2011.0   \n",
       "\n",
       "       Policy End Day  ...  First_Transaction_Month_January  \\\n",
       "3403             24.0  ...                              0.0   \n",
       "7561             31.0  ...                              0.0   \n",
       "8376             17.0  ...                              0.0   \n",
       "5158             17.0  ...                              0.0   \n",
       "5030             21.0  ...                              0.0   \n",
       "...               ...  ...                              ...   \n",
       "12073             7.0  ...                              0.0   \n",
       "12075             2.0  ...                              0.0   \n",
       "12076             8.0  ...                              0.0   \n",
       "12077            26.0  ...                              0.0   \n",
       "12078            30.0  ...                              0.0   \n",
       "\n",
       "       First_Transaction_Month_July  First_Transaction_Month_June  \\\n",
       "3403                            0.0                           0.0   \n",
       "7561                            0.0                           0.0   \n",
       "8376                            0.0                           0.0   \n",
       "5158                            0.0                           0.0   \n",
       "5030                            0.0                           0.0   \n",
       "...                             ...                           ...   \n",
       "12073                           0.0                           0.0   \n",
       "12075                           0.0                           0.0   \n",
       "12076                           0.0                           0.0   \n",
       "12077                           0.0                           0.0   \n",
       "12078                           1.0                           0.0   \n",
       "\n",
       "       First_Transaction_Month_March  First_Transaction_Month_May  \\\n",
       "3403                             0.0                          0.0   \n",
       "7561                             0.0                          0.0   \n",
       "8376                             1.0                          0.0   \n",
       "5158                             0.0                          0.0   \n",
       "5030                             0.0                          0.0   \n",
       "...                              ...                          ...   \n",
       "12073                            0.0                          0.0   \n",
       "12075                            0.0                          0.0   \n",
       "12076                            0.0                          0.0   \n",
       "12077                            0.0                          0.0   \n",
       "12078                            0.0                          0.0   \n",
       "\n",
       "       First_Transaction_Month_November  First_Transaction_Month_Octomber  \\\n",
       "3403                                0.0                               0.0   \n",
       "7561                                0.0                               0.0   \n",
       "8376                                0.0                               0.0   \n",
       "5158                                0.0                               0.0   \n",
       "5030                                1.0                               0.0   \n",
       "...                                 ...                               ...   \n",
       "12073                               0.0                               0.0   \n",
       "12075                               0.0                               1.0   \n",
       "12076                               0.0                               1.0   \n",
       "12077                               0.0                               0.0   \n",
       "12078                               0.0                               0.0   \n",
       "\n",
       "       First_Transaction_Month_September  Age_z_score  target  \n",
       "3403                                 0.0     0.480605       1  \n",
       "7561                                 1.0     0.814853       1  \n",
       "8376                                 0.0     0.052819       1  \n",
       "5158                                 0.0     0.110474       1  \n",
       "5030                                 0.0     0.216112       1  \n",
       "...                                  ...          ...     ...  \n",
       "12073                                0.0     0.154019       0  \n",
       "12075                                0.0     0.150795       0  \n",
       "12076                                0.0     0.121361       0  \n",
       "12077                                0.0     0.814853       0  \n",
       "12078                                0.0     0.009274       0  \n",
       "\n",
       "[21248 rows x 60 columns]"
      ]
     },
     "execution_count": 124,
     "metadata": {},
     "output_type": "execute_result"
    }
   ],
   "source": [
    "df_over"
   ]
  },
  {
   "cell_type": "code",
   "execution_count": 125,
   "id": "collectible-aquarium",
   "metadata": {},
   "outputs": [],
   "source": [
    "X=df_over.drop('target',axis=1)\n",
    "y=df_over.target\n",
    "\n",
    "X_train,X_test,y_train,y_test=train_test_split(X,y,random_state=16,stratify=y)"
   ]
  },
  {
   "cell_type": "code",
   "execution_count": 126,
   "id": "immune-turtle",
   "metadata": {},
   "outputs": [
    {
     "name": "stdout",
     "output_type": "stream",
     "text": [
      "Train set score: 0.8888679718875502\n",
      "Test set score: 0.8429969879518072\n",
      "Confusion Matrix\n",
      "[[2107  285]\n",
      " [ 549 2371]]\n",
      "\n",
      "Classification Report\n",
      "              precision    recall  f1-score   support\n",
      "\n",
      "           0       0.79      0.88      0.83      2392\n",
      "           1       0.89      0.81      0.85      2920\n",
      "\n",
      "    accuracy                           0.84      5312\n",
      "   macro avg       0.84      0.85      0.84      5312\n",
      "weighted avg       0.85      0.84      0.84      5312\n",
      "\n"
     ]
    },
    {
     "data": {
      "text/plain": [
       "0.8504304160688666"
      ]
     },
     "execution_count": 126,
     "metadata": {},
     "output_type": "execute_result"
    }
   ],
   "source": [
    "pipe_nn=Pipeline([('scaler',StandardScaler()),('nn',MLPClassifier(random_state=16,max_iter=10000,alpha=0.001))])\n",
    "pipe_nn.fit(X_train,y_train)\n",
    "\n",
    "print('Train set score: {}'.format(pipe_nn.score(X_train,y_train)))\n",
    "print('Test set score: {}'.format(pipe_nn.score(X_test,y_test)))\n",
    "\n",
    "pred_nn=pipe_nn.predict(X_test)\n",
    "print('Confusion Matrix\\n{}\\n'.format(confusion_matrix(pred_nn,y_test)))\n",
    "print('Classification Report\\n{}'.format(classification_report(pred_nn,y_test)))\n",
    "\n",
    "from sklearn.metrics import f1_score\n",
    "f1_score(y_test,pred_nn)"
   ]
  },
  {
   "cell_type": "code",
   "execution_count": 127,
   "id": "upper-madagascar",
   "metadata": {},
   "outputs": [
    {
     "data": {
      "text/plain": [
       "<matplotlib.axes._subplots.AxesSubplot at 0xcdb997a8>"
      ]
     },
     "execution_count": 127,
     "metadata": {},
     "output_type": "execute_result"
    },
    {
     "data": {
      "image/png": "[encoded data removed]",
      "text/plain": [
       "<Figure size 432x288 with 1 Axes>"
      ]
     },
     "metadata": {
      "needs_background": "light"
     },
     "output_type": "display_data"
    }
   ],
   "source": [
    "# Make prediction on the test set\n",
    "predictions = pipe_nn.predict(test)\n",
    "\n",
    "# Create a submission file\n",
    "sub_file = ss.copy()\n",
    "sub_file.predictions = predictions\n",
    "\n",
    "# Check the distribution of your predictions\n",
    "sns.countplot(sub_file.predictions)"
   ]
  },
  {
   "cell_type": "code",
   "execution_count": 128,
   "id": "approximate-relief",
   "metadata": {},
   "outputs": [],
   "source": [
    "#sub_file.to_csv('MLP over_sampling_3.csv', index = False)"
   ]
  },
  {
   "cell_type": "code",
   "execution_count": 129,
   "id": "ahead-battery",
   "metadata": {},
   "outputs": [
    {
     "name": "stdout",
     "output_type": "stream",
     "text": [
      "Train set score: 0.8888679718875502\n",
      "Test set score: 0.8450677710843374\n",
      "Confusion Matrix\n",
      "[[1939  106]\n",
      " [ 717 2550]]\n",
      "\n",
      "Classification Report\n",
      "              precision    recall  f1-score   support\n",
      "\n",
      "           0       0.73      0.95      0.82      2045\n",
      "           1       0.96      0.78      0.86      3267\n",
      "\n",
      "    accuracy                           0.85      5312\n",
      "   macro avg       0.85      0.86      0.84      5312\n",
      "weighted avg       0.87      0.85      0.85      5312\n",
      "\n"
     ]
    },
    {
     "data": {
      "text/plain": [
       "0.8610501435083573"
      ]
     },
     "execution_count": 129,
     "metadata": {},
     "output_type": "execute_result"
    }
   ],
   "source": [
    "pipe_dt=Pipeline([('scaler',StandardScaler()),('dt',DecisionTreeClassifier(random_state=16,max_depth=17))])\n",
    "pipe_dt.fit(X_train,y_train)\n",
    "\n",
    "print('Train set score: {}'.format(pipe_dt.score(X_train,y_train)))\n",
    "print('Test set score: {}'.format(pipe_dt.score(X_test,y_test)))\n",
    "\n",
    "pred_dt=pipe_dt.predict(X_test)\n",
    "print('Confusion Matrix\\n{}\\n'.format(confusion_matrix(pred_dt,y_test)))\n",
    "print('Classification Report\\n{}'.format(classification_report(pred_dt,y_test)))\n",
    "\n",
    "from sklearn.metrics import f1_score\n",
    "f1_score(y_test,pred_dt)"
   ]
  },
  {
   "cell_type": "code",
   "execution_count": null,
   "id": "american-stationery",
   "metadata": {},
   "outputs": [],
   "source": [
    "pipe_rf=Pipeline([('scaler',MinMaxScaler()),('rf',RandomForestClassifier(random_state=16,max_depth=11,n_estimators=320))])\n",
    "pipe_rf.fit(X_train,y_train)\n",
    "\n",
    "print('Train set score: {}'.format(pipe_rf.score(X_train,y_train)))\n",
    "print('Test set score: {}'.format(pipe_rf.score(X_test,y_test)))\n",
    "\n",
    "pred_rf=pipe_rf.predict(X_test)\n",
    "print('Confusion Matrix\\n{}\\n'.format(confusion_matrix(pred_rf,y_test)))\n",
    "print('Classification Report\\n{}'.format(classification_report(pred_rf,y_test)))\n",
    "\n",
    "from sklearn.metrics import f1_score\n",
    "f1_score(y_test,pred_rf)"
   ]
  },
  {
   "cell_type": "code",
   "execution_count": 131,
   "id": "mobile-wyoming",
   "metadata": {},
   "outputs": [
    {
     "name": "stdout",
     "output_type": "stream",
     "text": [
      "Train set score: 0.9698795180722891\n",
      "Test set score: 0.953125\n",
      "Confusion Matrix\n",
      "[[2445   38]\n",
      " [ 211 2618]]\n",
      "\n",
      "Classification Report\n",
      "              precision    recall  f1-score   support\n",
      "\n",
      "           0       0.92      0.98      0.95      2483\n",
      "           1       0.99      0.93      0.95      2829\n",
      "\n",
      "    accuracy                           0.95      5312\n",
      "   macro avg       0.95      0.96      0.95      5312\n",
      "weighted avg       0.96      0.95      0.95      5312\n",
      "\n"
     ]
    },
    {
     "data": {
      "text/plain": [
       "0.9546034639927075"
      ]
     },
     "execution_count": 131,
     "metadata": {},
     "output_type": "execute_result"
    }
   ],
   "source": [
    "pipe_gb=Pipeline([('scaler',MinMaxScaler()),('gb',GradientBoostingClassifier(random_state=16,max_depth=11,n_estimators=320,learning_rate=0.8))])\n",
    "pipe_gb.fit(X_train,y_train)\n",
    "\n",
    "print('Train set score: {}'.format(pipe_gb.score(X_train,y_train)))\n",
    "print('Test set score: {}'.format(pipe_gb.score(X_test,y_test)))\n",
    "\n",
    "pred_gb=pipe_gb.predict(X_test)\n",
    "print('Confusion Matrix\\n{}\\n'.format(confusion_matrix(pred_gb,y_test)))\n",
    "print('Classification Report\\n{}'.format(classification_report(pred_gb,y_test)))\n",
    "\n",
    "from sklearn.metrics import f1_score\n",
    "f1_score(y_test,pred_gb)"
   ]
  },
  {
   "cell_type": "markdown",
   "id": "exposed-property",
   "metadata": {},
   "source": [
    "### 0.328 submission"
   ]
  },
  {
   "cell_type": "code",
   "execution_count": 132,
   "id": "loaded-minority",
   "metadata": {},
   "outputs": [],
   "source": [
    "# Make prediction on the test set\n",
    "#predictions = pipe_gb.predict(test)\n",
    "\n",
    "# Create a submission file\n",
    "#sub_file = ss.copy()\n",
    "#sub_file.target = predictions\n",
    "\n",
    "# Check the distribution of your predictions\n",
    "#sns.countplot(sub_file.target)"
   ]
  },
  {
   "cell_type": "code",
   "execution_count": 133,
   "id": "laden-delight",
   "metadata": {},
   "outputs": [],
   "source": [
    "#sub_file.to_csv('Gradient_scaled_2.csv', index = False)"
   ]
  },
  {
   "cell_type": "markdown",
   "id": "corrected-uruguay",
   "metadata": {},
   "source": [
    "### Cross validation on gradient boosting scaled"
   ]
  },
  {
   "cell_type": "code",
   "execution_count": 134,
   "id": "backed-watts",
   "metadata": {},
   "outputs": [],
   "source": [
    "#kfold=StratifiedKFold(random_state=16,shuffle=True,n_splits=5)\n",
    "#model=GradientBoostingClassifier(random_state=16,max_depth=11,n_estimators=320,learning_rate=0.8)\n",
    "#score=cross_val_score(model,X,y,cv=kfold,scoring='f1')"
   ]
  },
  {
   "cell_type": "code",
   "execution_count": 135,
   "id": "parliamentary-poster",
   "metadata": {},
   "outputs": [],
   "source": [
    "#print('Cross validation scores: {}'.format(score))\n",
    "#print('Average cross validation scores: {}'.format(score.mean()))"
   ]
  },
  {
   "cell_type": "code",
   "execution_count": 136,
   "id": "floppy-intensity",
   "metadata": {},
   "outputs": [],
   "source": [
    "#gb_pipe=Pipeline([('scaler',MinMaxScaler()),('gb',GradientBoostingClassifier(random_state=16,max_depth=11,n_estimators=320,learning_rate=0.8))])\n",
    "#scores=cross_val_score(gb_pipe,X,y,cv=kfold,scoring='f1')"
   ]
  },
  {
   "cell_type": "code",
   "execution_count": 137,
   "id": "biological-grocery",
   "metadata": {},
   "outputs": [],
   "source": [
    "#print('Cross validation scores: {}'.format(scores))\n",
    "#print('Average cross validation scores: {}'.format(scores.mean()))"
   ]
  },
  {
   "cell_type": "markdown",
   "id": "daily-decade",
   "metadata": {},
   "source": [
    "### Hyperparameter Tuning"
   ]
  },
  {
   "cell_type": "code",
   "execution_count": 138,
   "id": "supported-peripheral",
   "metadata": {},
   "outputs": [],
   "source": [
    "#gb_pipe=Pipeline([('scaler',MinMaxScaler()),('gb',GradientBoostingClassifier(random_state=16))])\n",
    "#params={'gb__n_estimators':[250,320,400],'gb__max_depth':[5,7,11],'gb__learning_rate':np.arange(0.4,1,0.15)}\n",
    "#clf=GridSearchCV(gb_pipe,params,cv=kfold,scoring='f1',n_jobs=-1)\n",
    "#clf.fit(X_train,y_train)\n",
    "#result=pd.DataFrame(clf.cv_results_)"
   ]
  },
  {
   "cell_type": "code",
   "execution_count": 139,
   "id": "twenty-cincinnati",
   "metadata": {},
   "outputs": [],
   "source": [
    "#result"
   ]
  },
  {
   "cell_type": "code",
   "execution_count": 140,
   "id": "owned-frame",
   "metadata": {},
   "outputs": [],
   "source": [
    "#clf.best_params_"
   ]
  },
  {
   "cell_type": "code",
   "execution_count": 141,
   "id": "future-daily",
   "metadata": {},
   "outputs": [],
   "source": [
    "#clf.best_score_"
   ]
  },
  {
   "cell_type": "code",
   "execution_count": 142,
   "id": "handy-prevention",
   "metadata": {
    "scrolled": true
   },
   "outputs": [],
   "source": [
    "#pipe_gb=Pipeline([('scaler',MinMaxScaler()),('gb',GradientBoostingClassifier(random_state=16,max_depth=11,n_estimators=320,learning_rate=0.4))])\n",
    "#pipe_gb.fit(X_train,y_train)\n",
    "\n",
    "#print('Train set score: {}'.format(pipe_gb.score(X_train,y_train)))\n",
    "#print('Test set score: {}'.format(pipe_gb.score(X_test,y_test)))\n",
    "\n",
    "#pred_gb=pipe_gb.predict(X_test)\n",
    "#print('Confusion Matrix\\n{}\\n'.format(confusion_matrix(pred_gb,y_test)))\n",
    "#print('Classification Report\\n{}'.format(classification_report(pred_gb,y_test)))\n",
    "\n",
    "#from sklearn.metrics import f1_score\n",
    "#f1_score(y_test,pred_gb)"
   ]
  },
  {
   "cell_type": "markdown",
   "id": "informative-williams",
   "metadata": {},
   "source": [
    "### 0.3218 Submission"
   ]
  },
  {
   "cell_type": "code",
   "execution_count": 143,
   "id": "black-superior",
   "metadata": {},
   "outputs": [
    {
     "name": "stdout",
     "output_type": "stream",
     "text": [
      "Train set score: 0.9698795180722891\n",
      "Test set score: 0.9418298192771084\n",
      "Confusion Matrix\n",
      "[[2381   34]\n",
      " [ 275 2622]]\n",
      "\n",
      "Classification Report\n",
      "              precision    recall  f1-score   support\n",
      "\n",
      "           0       0.90      0.99      0.94      2415\n",
      "           1       0.99      0.91      0.94      2897\n",
      "\n",
      "    accuracy                           0.94      5312\n",
      "   macro avg       0.94      0.95      0.94      5312\n",
      "weighted avg       0.95      0.94      0.94      5312\n",
      "\n"
     ]
    },
    {
     "data": {
      "text/plain": [
       "0.9443544030253918"
      ]
     },
     "execution_count": 143,
     "metadata": {},
     "output_type": "execute_result"
    }
   ],
   "source": [
    "pipe_rf=Pipeline([('scaler',MinMaxScaler()),('rf',RandomForestClassifier(random_state=16,n_estimators=200))])\n",
    "pipe_rf.fit(X_train,y_train)\n",
    "\n",
    "print('Train set score: {}'.format(pipe_rf.score(X_train,y_train)))\n",
    "print('Test set score: {}'.format(pipe_rf.score(X_test,y_test)))\n",
    "\n",
    "pred_rf=pipe_rf.predict(X_test)\n",
    "print('Confusion Matrix\\n{}\\n'.format(confusion_matrix(pred_rf,y_test)))\n",
    "print('Classification Report\\n{}'.format(classification_report(pred_rf,y_test)))\n",
    "\n",
    "from sklearn.metrics import f1_score\n",
    "f1_score(y_test,pred_rf)"
   ]
  },
  {
   "cell_type": "code",
   "execution_count": 144,
   "id": "blocked-hollywood",
   "metadata": {},
   "outputs": [
    {
     "data": {
      "text/plain": [
       "<matplotlib.axes._subplots.AxesSubplot at 0xc0ca3e38>"
      ]
     },
     "execution_count": 144,
     "metadata": {},
     "output_type": "execute_result"
    },
    {
     "data": {
      "image/png": "[encoded data removed]",
      "text/plain": [
       "<Figure size 432x288 with 1 Axes>"
      ]
     },
     "metadata": {
      "needs_background": "light"
     },
     "output_type": "display_data"
    }
   ],
   "source": [
    "predictions = pipe_rf.predict(test)\n",
    "\n",
    "sub_file = ss.copy()\n",
    "sub_file.target = predictions\n",
    "\n",
    "sns.countplot(sub_file.target)"
   ]
  },
  {
   "cell_type": "code",
   "execution_count": 145,
   "id": "phantom-connectivity",
   "metadata": {},
   "outputs": [],
   "source": [
    "sub_file.to_csv('RandomForest.csv', index = False)"
   ]
  },
  {
   "cell_type": "markdown",
   "id": "rocky-natural",
   "metadata": {},
   "source": [
    "### Smote Technique"
   ]
  },
  {
   "cell_type": "code",
   "execution_count": 146,
   "id": "southwest-inspector",
   "metadata": {},
   "outputs": [],
   "source": [
    "from imblearn.combine import SMOTETomek"
   ]
  },
  {
   "cell_type": "code",
   "execution_count": 154,
   "id": "floral-bennett",
   "metadata": {},
   "outputs": [],
   "source": [
    "X=data[:train.shape[0]]\n",
    "y=target"
   ]
  },
  {
   "cell_type": "code",
   "execution_count": 155,
   "id": "conscious-charles",
   "metadata": {},
   "outputs": [
    {
     "data": {
      "text/plain": [
       "(12079, 59)"
      ]
     },
     "execution_count": 155,
     "metadata": {},
     "output_type": "execute_result"
    }
   ],
   "source": [
    "X.shape"
   ]
  },
  {
   "cell_type": "code",
   "execution_count": 156,
   "id": "turkish-forum",
   "metadata": {},
   "outputs": [
    {
     "data": {
      "text/plain": [
       "(12079,)"
      ]
     },
     "execution_count": 156,
     "metadata": {},
     "output_type": "execute_result"
    }
   ],
   "source": [
    "y.shape"
   ]
  },
  {
   "cell_type": "code",
   "execution_count": 160,
   "id": "collected-worst",
   "metadata": {},
   "outputs": [
    {
     "data": {
      "text/plain": [
       "(13281, 59)"
      ]
     },
     "execution_count": 160,
     "metadata": {},
     "output_type": "execute_result"
    }
   ],
   "source": [
    "data.shape"
   ]
  },
  {
   "cell_type": "code",
   "execution_count": 164,
   "id": "homeless-spare",
   "metadata": {},
   "outputs": [
    {
     "name": "stdout",
     "output_type": "stream",
     "text": [
      "Train Set\n",
      "The number of classes before SMOTE fitting: Counter({0: 7968, 1: 1091})\n",
      "The number of classes after SMOTE fitting: Counter({0: 7907, 1: 5915})\n",
      "Test Set\n",
      "The number of classes before SMOTE fitting: Counter({0: 2656, 1: 364})\n",
      "The number of classes after SMOTE fitting: Counter({0: 2613, 1: 1949})\n"
     ]
    }
   ],
   "source": [
    "st=SMOTETomek(0.75)\n",
    "X_train,X_test,y_train,y_test=train_test_split(X,y,random_state=16,stratify=y)\n",
    "\n",
    "X_train_st,y_train_st=st.fit_sample(X_train,y_train)\n",
    "print('Train Set')\n",
    "print('The number of classes before SMOTE fitting: {}'.format(Counter(y_train)))\n",
    "print('The number of classes after SMOTE fitting: {}'.format(Counter(y_train_st)))\n",
    "\n",
    "X_test_st,y_test_st=st.fit_sample(X_test,y_test)\n",
    "print('Test Set')\n",
    "print('The number of classes before SMOTE fitting: {}'.format(Counter(y_test)))\n",
    "print('The number of classes after SMOTE fitting: {}'.format(Counter(y_test_st)))"
   ]
  },
  {
   "cell_type": "code",
   "execution_count": 177,
   "id": "covered-debate",
   "metadata": {},
   "outputs": [
    {
     "name": "stdout",
     "output_type": "stream",
     "text": [
      "Train set score: 0.9029807553176096\n",
      "Test set score: 0.871766768960982\n",
      "Confusion Matrix\n",
      "[[2382  354]\n",
      " [ 231 1595]]\n",
      "\n",
      "Classification Report\n",
      "              precision    recall  f1-score   support\n",
      "\n",
      "           0       0.91      0.87      0.89      2736\n",
      "           1       0.82      0.87      0.85      1826\n",
      "\n",
      "    accuracy                           0.87      4562\n",
      "   macro avg       0.86      0.87      0.87      4562\n",
      "weighted avg       0.87      0.87      0.87      4562\n",
      "\n"
     ]
    },
    {
     "data": {
      "text/plain": [
       "0.8450331125827815"
      ]
     },
     "execution_count": 177,
     "metadata": {},
     "output_type": "execute_result"
    }
   ],
   "source": [
    "dt=Pipeline([('scaler',MinMaxScaler()),('rf',DecisionTreeClassifier(max_depth=11,random_state=16))])\n",
    "dt.fit(X_train_st,y_train_st)\n",
    "dt_pred=dt.predict(X_test_st)\n",
    "\n",
    "print('Train set score: {}'.format(dt.score(X_train_st,y_train_st)))\n",
    "print('Test set score: {}'.format(dt.score(X_test_st,y_test_st)))\n",
    "\n",
    "p_dt=dt.predict(X_test_st)\n",
    "print('Confusion Matrix\\n{}\\n'.format(confusion_matrix(p_dt,y_test_st)))\n",
    "print('Classification Report\\n{}'.format(classification_report(p_dt,y_test_st)))\n",
    "\n",
    "from sklearn.metrics import f1_score\n",
    "f1_score(y_test_st,p_dt)"
   ]
  },
  {
   "cell_type": "code",
   "execution_count": 180,
   "id": "corresponding-sarah",
   "metadata": {
    "scrolled": false
   },
   "outputs": [
    {
     "data": {
      "image/png": "[encoded data removed]",
      "text/plain": [
       "<Figure size 432x288 with 1 Axes>"
      ]
     },
     "metadata": {
      "needs_background": "light"
     },
     "output_type": "display_data"
    }
   ],
   "source": [
    "predictions = dt.predict(test)\n",
    "\n",
    "sub_file = ss.copy()\n",
    "sub_file.target = predictions\n",
    "\n",
    "sns.countplot(sub_file.target)\n",
    "\n",
    "sub_file.to_csv('smote_dt.csv', index = False)"
   ]
  },
  {
   "cell_type": "code",
   "execution_count": 187,
   "id": "authorized-headset",
   "metadata": {},
   "outputs": [
    {
     "name": "stdout",
     "output_type": "stream",
     "text": [
      "Train set score: 0.9419042106786283\n",
      "Test set score: 0.8982902235861464\n",
      "Confusion Matrix\n",
      "[[2485  336]\n",
      " [ 128 1613]]\n",
      "\n",
      "Classification Report\n",
      "              precision    recall  f1-score   support\n",
      "\n",
      "           0       0.95      0.88      0.91      2821\n",
      "           1       0.83      0.93      0.87      1741\n",
      "\n",
      "    accuracy                           0.90      4562\n",
      "   macro avg       0.89      0.90      0.89      4562\n",
      "weighted avg       0.90      0.90      0.90      4562\n",
      "\n"
     ]
    },
    {
     "data": {
      "text/plain": [
       "0.8742547425474254"
      ]
     },
     "execution_count": 187,
     "metadata": {},
     "output_type": "execute_result"
    }
   ],
   "source": [
    "rf=Pipeline([('scaler',MinMaxScaler()),('rf',RandomForestClassifier(n_estimators=520,max_depth=13,random_state=16))])\n",
    "rf.fit(X_train_st,y_train_st)\n",
    "rf_pred=rf.predict(X_test_st)\n",
    "\n",
    "print('Train set score: {}'.format(rf.score(X_train_st,y_train_st)))\n",
    "print('Test set score: {}'.format(rf.score(X_test_st,y_test_st)))\n",
    "\n",
    "p_rf=rf.predict(X_test_st)\n",
    "print('Confusion Matrix\\n{}\\n'.format(confusion_matrix(p_rf,y_test_st)))\n",
    "print('Classification Report\\n{}'.format(classification_report(p_rf,y_test_st)))\n",
    "\n",
    "from sklearn.metrics import f1_score\n",
    "f1_score(y_test_st,p_rf)"
   ]
  },
  {
   "cell_type": "code",
   "execution_count": 188,
   "id": "informed-hacker",
   "metadata": {},
   "outputs": [
    {
     "name": "stdout",
     "output_type": "stream",
     "text": [
      "Train set score: 0.9733034293155839\n",
      "Test set score: 0.8796580447172293\n",
      "Confusion Matrix\n",
      "[[2445  381]\n",
      " [ 168 1568]]\n",
      "\n",
      "Classification Report\n",
      "              precision    recall  f1-score   support\n",
      "\n",
      "           0       0.94      0.87      0.90      2826\n",
      "           1       0.80      0.90      0.85      1736\n",
      "\n",
      "    accuracy                           0.88      4562\n",
      "   macro avg       0.87      0.88      0.88      4562\n",
      "weighted avg       0.89      0.88      0.88      4562\n",
      "\n"
     ]
    },
    {
     "ename": "NameError",
     "evalue": "name 'p_hn' is not defined",
     "output_type": "error",
     "traceback": [
      "\u001b[0;31m---------------------------------------------------------------------------\u001b[0m",
      "\u001b[0;31mNameError\u001b[0m                                 Traceback (most recent call last)",
      "\u001b[0;32m<ipython-input-188-9fd5e4050799>\u001b[0m in \u001b[0;36m<module>\u001b[0;34m\u001b[0m\n\u001b[1;32m     12\u001b[0m \u001b[0;34m\u001b[0m\u001b[0m\n\u001b[1;32m     13\u001b[0m \u001b[0;32mfrom\u001b[0m \u001b[0msklearn\u001b[0m\u001b[0;34m.\u001b[0m\u001b[0mmetrics\u001b[0m \u001b[0;32mimport\u001b[0m \u001b[0mf1_score\u001b[0m\u001b[0;34m\u001b[0m\u001b[0;34m\u001b[0m\u001b[0m\n\u001b[0;32m---> 14\u001b[0;31m \u001b[0mf1_score\u001b[0m\u001b[0;34m(\u001b[0m\u001b[0my_test_st\u001b[0m\u001b[0;34m,\u001b[0m\u001b[0mp_hn\u001b[0m\u001b[0;34m)\u001b[0m\u001b[0;34m\u001b[0m\u001b[0;34m\u001b[0m\u001b[0m\n\u001b[0m",
      "\u001b[0;31mNameError\u001b[0m: name 'p_hn' is not defined"
     ]
    }
   ],
   "source": [
    "gb=Pipeline([('scaler',MinMaxScaler()),('rf',GradientBoostingClassifier(n_estimators=520,max_depth=11,learning_rate=0.8\n",
    "                                                                        ,random_state=16))])\n",
    "gb.fit(X_train_st,y_train_st)\n",
    "gb_pred=gb.predict(X_test_st)\n",
    "\n",
    "print('Train set score: {}'.format(gb.score(X_train_st,y_train_st)))\n",
    "print('Test set score: {}'.format(gb.score(X_test_st,y_test_st)))\n",
    "\n",
    "p_gb=gb.predict(X_test_st)\n",
    "print('Confusion Matrix\\n{}\\n'.format(confusion_matrix(p_gb,y_test_st)))\n",
    "print('Classification Report\\n{}'.format(classification_report(p_gb,y_test_st)))\n",
    "\n",
    "from sklearn.metrics import f1_score\n",
    "f1_score(y_test_st,p_gb)"
   ]
  }
 ],
 "metadata": {
  "kernelspec": {
   "display_name": "Python 3",
   "language": "python",
   "name": "python3"
  },
  "language_info": {
   "codemirror_mode": {
    "name": "ipython",
    "version": 3
   },
   "file_extension": ".py",
   "mimetype": "text/x-python",
   "name": "python",
   "nbconvert_exporter": "python",
   "pygments_lexer": "ipython3",
   "version": "3.8.3"
  }
 },
 "nbformat": 4,
 "nbformat_minor": 5
}
